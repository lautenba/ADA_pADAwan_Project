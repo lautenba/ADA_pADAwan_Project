{
 "cells": [
  {
   "cell_type": "code",
   "execution_count": 253,
   "metadata": {},
   "outputs": [
    {
     "name": "stdout",
     "output_type": "stream",
     "text": [
      "The autoreload extension is already loaded. To reload it, use:\n",
      "  %reload_ext autoreload\n"
     ]
    }
   ],
   "source": [
    "from pathlib import Path\n",
    "import shutil\n",
    "\n",
    "import pandas as pd\n",
    "import numpy as np\n",
    "import pickle\n",
    "import seaborn as sns\n",
    "from bs4 import BeautifulSoup\n",
    "import locale\n",
    "#from html.parser import HTMLParser\n",
    "# import website_func.py to use its functions\n",
    "from website_func import *\n",
    "from scrap import *\n",
    "import os #To read the file\n",
    "import re\n",
    "from matplotlib.ticker import MaxNLocator\n",
    "import matplotlib.pyplot as plt\n",
    "from requests import get\n",
    "#To ignore our warnings\n",
    "import warnings\n",
    "warnings.filterwarnings('ignore')\n",
    "\n",
    "#Machine learning part\n",
    "from sklearn.linear_model import LinearRegression, LogisticRegression, Ridge\n",
    "from sklearn.preprocessing import OneHotEncoder\n",
    "from pandas.plotting import scatter_matrix\n",
    "from sklearn.model_selection import cross_val_predict\n",
    "from sklearn.model_selection import cross_val_score\n",
    "from sklearn.model_selection import cross_validate\n",
    "from sklearn.metrics import mean_squared_error\n",
    "from sklearn.model_selection import train_test_split\n",
    "from sklearn.metrics import confusion_matrix\n",
    "from sklearn.utils import resample\n",
    "from sklearn.metrics import f1_score\n",
    "from sklearn import linear_model\n",
    "from sklearn import preprocessing\n",
    "from sklearn.multioutput import MultiOutputRegressor, RegressorChain\n",
    "from sklearn.multioutput import MultiOutputClassifier\n",
    "from sklearn.neighbors import KNeighborsClassifier\n",
    "from sklearn.ensemble import RandomForestRegressor\n",
    "from sklearn.datasets import make_regression\n",
    "from sklearn.neural_network import MLPClassifier\n",
    "from mlxtend.plotting import plot_confusion_matrix\n",
    "\n",
    "#reload every module each time\n",
    "%load_ext autoreload\n",
    "%autoreload 2"
   ]
  },
  {
   "cell_type": "markdown",
   "metadata": {},
   "source": [
    "# Some quick analysis of the data\n",
    "We chose a data set of .html files containing the website content of recipes.\n",
    "We wanted to sort them by website, in order to, more easily, find a pattern among them. This will enable us to do the \"scraping\" of the pages. First we thought about moving the files in a folder corresponding to their website, but it would be a waste of time and a big computational effort. Thus, we came up with a (probably) faster solution : we could simply write the name of the file within its corresponding website folder. By inspecting the files, we saw that the first line was always containing a comment with the name of the file and the complete website. Using readlines and split, we can easily retrieve the name of the website.\n",
    "\n",
    "We launched this process, but an alarm appeared describing a Trojan virus in the file \"1c2cb6f0df04cf5a9d0baa116c6aa7bb.html\". \n",
    "We had then to quarantine or maybe remove the file, as we have enough data.\n",
    "By doing so, we remarked the file \"msg.log\" that could help us accelerate the processus as its content is formed of the name of the file together with its website."
   ]
  },
  {
   "cell_type": "code",
   "execution_count": 110,
   "metadata": {},
   "outputs": [
    {
     "name": "stdout",
     "output_type": "stream",
     "text": [
      "59b9d3c43ee8df52fcd04128475059f5.html\thttp://allrecipes.com/Recipe/bacon-and-potato-soup/detail.aspx\t2012-09-09 10:55:41 URL:http://allrecipes.com/Recipe/bacon-and-potato-soup/detail.aspx [225697/225697] -> \"59b9d3c43ee8df52fcd04128475059f5.tmp\" [1]\n",
      "--129b4dad66e6d0d59bbc6f3200f9e927.html\thttp://familyoven.com/recipes/search?terms=Dairy%20Free%20Alfredo%20Sauce\t2012-09-09 10:55:42 URL:http://familyoven.com/recipes/search?terms=Dairy%20Free%20Alfredo%20Sauce [77640] -> \"129b4dad66e6d0d59bbc6f3200f9e927.tmp\" [1]\n",
      "--bafcd30bc137238af0cd9954f7d0701e.html\thttp://www.yummly.com/recipes/chicken-brunswick-stew-lima-beans\tSyntax error in Set-Cookie: fbsr_54208124338=\"\"; Expires=Thu, 01-Jan-1970 00:00:10 GMT; Path=/, JSESSIONID=27D73083292D7FE540727DC4AD6C50D2; Path=/; HttpOnly, yv=\"lJSpLE5cHmHHgrNrJgtM/w==\"; Version=1; Max-Age=31536000; Expires=Mon, 09-Sep-2013 17:55:42 GMT; Path=/ at position 120.\n",
      "--2012-09-09 10:55:43 URL:http://www.yummly.com/recipes/chicken-brunswick-stew-lima-beans [286650] -> \"bafcd30bc137238af0cd9954f7d0701e.tmp\" [1]\n",
      "\n"
     ]
    }
   ],
   "source": [
    "with open(\"recipePages/msg.log\", 'r') as f:\n",
    "    first_lines = f.readlines()[45:49]\n",
    "    print(*first_lines, sep=\"--\")"
   ]
  },
  {
   "cell_type": "markdown",
   "metadata": {},
   "source": [
    "We observed that occasionally a line can contain unnecessary information (in the example above, this is the case in the last line). Those lines are ignored during the sorting process.\n",
    "Also we noticed there are no file extensions other than .html and .log (see below). Thus, we know exacty what the contents of the folder recipePages are."
   ]
  },
  {
   "cell_type": "code",
   "execution_count": 111,
   "metadata": {},
   "outputs": [
    {
     "name": "stdout",
     "output_type": "stream",
     "text": [
      "recipePages\\msg.log\n"
     ]
    }
   ],
   "source": [
    "# We can find in the folder that, excepted the html files, there is only the log\n",
    "# Get all filenames (i.e. path) that are in recipePages folder \n",
    "pathlist = Path(\"recipePages/\").glob('**/*')\n",
    "i = 0\n",
    "for path in pathlist:\n",
    "     # because path is object not string\n",
    "    path_in_str = str(path)\n",
    "    if not path_in_str.endswith(\".html\"):\n",
    "        print(path_in_str)"
   ]
  },
  {
   "cell_type": "markdown",
   "metadata": {},
   "source": [
    "#### Sorting part of the content of the folder \"recipePages\" :"
   ]
  },
  {
   "cell_type": "code",
   "execution_count": 112,
   "metadata": {},
   "outputs": [
    {
     "name": "stdout",
     "output_type": "stream",
     "text": [
      "Finished sorting the files\n"
     ]
    }
   ],
   "source": [
    "# If override True -> delete SortedFiles and re-execute the function (long)\n",
    "sort_website_from_log(override=False)"
   ]
  },
  {
   "cell_type": "markdown",
   "metadata": {},
   "source": [
    "After the sorting comes the scraping part. In order to have the maximum number of data and to save some time, we will scrap the websites containing the highest number of files."
   ]
  },
  {
   "cell_type": "code",
   "execution_count": 113,
   "metadata": {},
   "outputs": [],
   "source": [
    "website_count=pd.Series()\n",
    "\n",
    "for (root,dirs,files) in os.walk('SortedFiles', topdown=\"True\"):   \n",
    "        for website in dirs:\n",
    "            if website == \".ipynb_checkpoints\":\n",
    "                continue\n",
    "            filename = \"SortedFiles/\" + website +\"/filesName.txt\"\n",
    "            \n",
    "            f = open(filename, \"r\")\n",
    "            number_of_link = len(f.readlines())\n",
    "            line_to_add=pd.Series(number_of_link,index=[website])\n",
    "            website_count = website_count.append(line_to_add)"
   ]
  },
  {
   "cell_type": "markdown",
   "metadata": {},
   "source": [
    "#### Here we look at the websites containing the most recipes to determine which ones are interesting to scrap:"
   ]
  },
  {
   "cell_type": "code",
   "execution_count": 115,
   "metadata": {},
   "outputs": [
    {
     "name": "stdout",
     "output_type": "stream",
     "text": [
      "allrecipes.com             28355\n",
      "food.com                   14661\n",
      "foodnetwork.com            11997\n",
      "yummly.com                  6590\n",
      "cooks.com                   5547\n",
      "epicurious.com              5060\n",
      "tasteofhome.com             4820\n",
      "myrecipes.com               3805\n",
      "recipes.sparkpeople.com     3671\n",
      "cdkitchen.com               2584\n",
      "bettycrocker.com            2325\n",
      "cookeatshare.com            2044\n",
      "southernfood.about.com      2012\n",
      "grouprecipes.com            1916\n",
      "recipe.com                  1460\n",
      "kraftrecipes.com            1420\n",
      "eatingwell.com              1400\n",
      "ifood.tv                    1295\n",
      "delish.com                  1050\n",
      "dtype: int64\n",
      "Number of files in the 3 first domains :  55013\n",
      "Percentage of chosen files among the total:  0.539279692585186\n"
     ]
    }
   ],
   "source": [
    "website_count.sort_values(ascending=False,inplace=True)\n",
    "website_count_used=website_count[website_count.values>1000]\n",
    "print(website_count_used)\n",
    "total_number_files = website_count_used.values.sum()\n",
    "chosen_number_files = website_count_used[0:3].values.sum()\n",
    "\n",
    "print(\"Number of files in the 3 first domains : \", chosen_number_files)\n",
    "print(\"Percentage of chosen files among the total: \", chosen_number_files/total_number_files)"
   ]
  },
  {
   "cell_type": "markdown",
   "metadata": {},
   "source": [
    "We can see that 50% of all the recipes are contained in the top three websites, and adds up to 55 thousand recipes, which is enough for our project. Hence we decide to scrap only these three websites."
   ]
  },
  {
   "cell_type": "code",
   "execution_count": 116,
   "metadata": {},
   "outputs": [],
   "source": [
    "website_list_used=website_count_used.index.tolist()"
   ]
  },
  {
   "cell_type": "markdown",
   "metadata": {},
   "source": [
    "There are a lot of words in the ingredients which aren't specific to the ingredient itself, but which are just linked to the quantity of the ingredients, or something uninteresting for us. It is difficult to extract the quantity of the ingredients, as there is a lot of different units for expressing them. Hence, we decided first to juste remove all those terms for the moment, and focus our attention only on the ingredients (not on the quantity)."
   ]
  },
  {
   "cell_type": "code",
   "execution_count": 117,
   "metadata": {},
   "outputs": [],
   "source": [
    "#Words that have to be removed from the string in the website to keep only the ingredient:\n",
    "list_ingredient_to_remove = [\"that\", \"store\",\"tsp\",\"such\", \"shape\",\"softened\",\"warm\",\"how\",\"generous\",\"equivalent\",\"bottom\",\"needed\",\"salted\",\"replace\",\\\n",
    "                             \"low\",\"i\",\"believe\",\"ever\", \"only\", \"fine\", \"envelopes\", \"your\",\"own\",\"inches\",\"run\",\"through\",\"perfect\", \"into\",\"big\",\"oz\",\\\n",
    "                             \"substitute\",\"am\",\"using\",\"will\", \"enhance\",\"the\",\"not\",\"may\",\"be\",\"correct\",\"desired\",\"you\",\"like\",\"less\",\"in water\",\\\n",
    "                             \"delicious\",\"big\",\"save\",\"time\",\"use the cheap cooking wine\",\"gram\",\"used\",\"be\", \"little\",\"more\",\"gallon\",\"gal\",\"pound\",\"pounds\",\"if\",\"let\",\"sit\",\"kg\",\"works\",\"really\",\"is\",\\\n",
    "                             \"approximate\",\"ml\", \"sprinkle\",\"over\",\"amount\",\"dl\",\"use\", \"a\", \"preserved\",\"g\",\"gr\",\"real\",\"raw\",\"lb\", \"lbs\",\"metrics\",\\\n",
    "                             \"metric\",\"of\",\"teaspoon\", \"cup\", \"cups\",\"teaspoons\",\"ounce\",\"ounces\",\"pounds\",\"pound\",\"tablespoons\",\"chopped\",\"quarts\",\"fresh\",\\\n",
    "                            \"light\",\"plain\",\"popped\",\"medium\",\"shredded\",\"bunch\",\"tablespoon\",\"to\",\"taste\",\"pinch\",\"freshly\",\"ground\",\\\n",
    "                            \"canned\",\"carcass\",\"cubes\",\"dried\",\"frozen\",\"all\",\"purpose\",\"grated\",\"minced\",\"degree\",\"degrees\",\"optional\",\\\n",
    "                            \"jar\",\"quartered\",\"marinated\",\"strips\",\"strip\",\"asian\",\"stalks\",\"package\",\"can\",\"cans\",\"box\",\"container\",\\\n",
    "                            \"evaporated\",\"bottle\",\"cans\",\"extract\",\"squares\",\"german\",\"slices\",\"crushed\",\"uncooked\",\"seasoning\",\"small\",\\\n",
    "                            \"sweet\",\"packed\",\"sliced\",\"heavy\",\"condensed\",\"finely\",\"long\",\"grain\",\"sweetened\",\"firmly\",\"cooked\",\"crusts\",\"lean\",\\\n",
    "                            \"caps\",\"mix\",\"steaks\",\"large\",\"instant\",\"crumbs\",\"semisweet\",\"distilled\",\"packages\",\"pint\",\"miniature\",\"preserves\",\\\n",
    "                            \"processed\",\"chunky\",\"prepared\",\"seasoned\",\"american\",\"stock\",\"top\",\"sirloin\",\"tip\",\"peeled\",\"spears\",\"leaves\",\\\n",
    "                            \"belgian\",\"bob\",\"italian\",\"bottles\",\"boneless\",\"roast\",\"breast\",\"meat\",\"tenderloins\",\"granules\",\"chips\",\"converted\",\\\n",
    "                            \"containers\",\"coleslaw\",\"florets\",\"cube\",\"cubed\",\"diced\",\"crumbled\",\"head\",\"thighs\",\"halves\",\"drumsticks\",\"blend\",\\\n",
    "                            \"leaf\",\"bow\",\"tie\",\"stuffing\",\"dry\",\"boiling\",\"cover\",\"coarse\",\"kosher\",\"extra\",\"virgin\",\"fat\",\"free\",\"fluid\",\"hot\",\\\n",
    "                            \"chops\",\"loin\",\"shoulder\",\"roasted\",\"for\",\"frying\",\"diced\",\"thawed\",\"bone\",\"hocks\",\"shucked\",\"leftover\",\"corned\",\\\n",
    "                            \"weed\",\"summer\",\"wild\",\"whole\",\"very\",\"ripe\",\"unbaked\",\"crust\",\"unsalted\",\"unsifted\",\"unsweetened\",\"drops\",\"drop\",\\\n",
    "                            \"paste\",\"thickly\",\"swiss\",\"skinless\",\"flavored\",\"quart\",\"puff\",\"kernels\",\"kernel\",\"cracked\",\"as\",\"tortillas\",\"chunk\",\\\n",
    "                            \"dash\",\"dark\",\"hash\",\"hashbrown\",\"hungarian\",\"rinsed\",\"thin\",\"thinly\",\"thick\",\"stewed\",\"cleaned\",\"gelatin\",\\\n",
    "                            \"sifted\",\"skim\",\"slivered\",\"sprigs\",\"sage\",\"roma\",\"romano\",\"reduced\",\"sodium\",\"refried\",\"refrigerated\",\\\n",
    "                            \"portobello\",\"nuggets\",\"tater\",\"pinto\",\"pudding\",\"pitted\",\"pinches\",\"relish\",\"penne\",\"deep\",\"mild\",\"melted\",\\\n",
    "                            \"maraschino\",\"loaf\",\"link\",\"jumbo\",\"inch\",\"jars\",\"jasmine\",\"generous\",\"gold\",\"graham\",\"granulated\",\"fried\",\"skins\",\\\n",
    "                            \"fire\",\"firm\",\"flaked\",\"flank\",\"family\",\"size\",\"eagle\",\"curd\",\"half\",\"russet\",\"round\",\"vidalia\",\"unbleached\",\"toll\",\\\n",
    "                            \"morsels\",\"toasted\",\"square\",\"soft\",\"sharp\",\"serrano\",\"seedless\",\"old\",\"provolone\",\"process\",\"premium\",\"pouch\",\"betty\",\\\n",
    "                            \"piri\",\"chunks\",\"smoked\",\"other\",\"original\",\"breaded\",\"tender\",\"tenders\",\"flowerets\",\"nonfat\",\"no\",\"calorie\",\"tail\",\\\n",
    "                            \"greek\",\"great\",\"northern\",\"southern\",\"envelope\",\"dill\",\"cold\",\"round\",\"steak\",\"brisket\",\"baby\",\"assorted\", \"cloves\",\\\n",
    "                            \"clove\", \"flakes\", \"active\", \"balsamic\", \"whipping\", \"breasts\", \"sea\", \"zest\", \"powdered\", \"pure\", \"topping\", \"whipped\",\\\n",
    "                            \"monterey\", \"jack\", \"stalk\", \"kidney\", \"stick\", \"garbanzo\", \"elbow\", \"fillet\", \"plum\", \"good\",\"quick\", \"people\", \"being\",\\\n",
    "                            \"glazed\", \"blanched\", \"add\",\"minutes\",\"lightly\", \"prefer\", \"this\", \"double\", \"enough\",\"(approximate\", \"(again\", \"center\",\\\n",
    "                            \"amount.)\", \"brown\"]\n",
    "\n",
    "list_ingredient_to_remove = sorted(list_ingredient_to_remove)"
   ]
  },
  {
   "cell_type": "markdown",
   "metadata": {},
   "source": [
    "We can also add a list of ingredients (here fruits) that contain the average serving portion for each fruit. We scraped the website https://www.calories.info to get those measures."
   ]
  },
  {
   "cell_type": "code",
   "execution_count": 69,
   "metadata": {},
   "outputs": [],
   "source": [
    "import requests\n",
    "import pandas as pd\n",
    "from bs4 import BeautifulSoup\n",
    "import re\n",
    "# quantity in grams\n",
    "augmented_quantity = pd.DataFrame(columns=[\"Food\", \"Serving\", \"Unit\"])\n",
    "\n",
    "website_fruit = \"https://www.calories.info/food/fruits\"\n",
    "req = requests.get(website_fruit)\n",
    "soup = BeautifulSoup(req.text, 'html.parser')\n",
    "for link in soup.find(id=\"menu-calorie-tables\").findAll('a'):\n",
    "    req = requests.get(link.get(\"href\"))\n",
    "    soup1 = BeautifulSoup(req.text, 'html.parser')\n",
    "    rows =  soup1.find('tbody').findAll('tr')\n",
    "    for r in rows:\n",
    "        name = r.find(\"a\").text\n",
    "        complete_weight =r.find(\"td\", class_=\"serving portion\").text.split(\"(\")[1].replace(\")\",\"\").split()\n",
    "        weight = float(complete_weight[0])\n",
    "        augmented_quantity =augmented_quantity.append({'Food':name.lower(), 'Serving' : weight, 'Unit': complete_weight[1]}, ignore_index = True)\n",
    "augmented_quantity.to_pickle(\"data_pickles/augmented_quantit.pkl\")"
   ]
  },
  {
   "cell_type": "markdown",
   "metadata": {},
   "source": [
    "### Creation of the recipe data:\n",
    "We have to be aware of certain things:\n",
    "- we might get a website containing only a list of recipes (not useful)\n",
    "- we might find no rating -> we'll have to discard the recipe\n",
    "- we might not be able to open and read the file -> ignore the file\n",
    "\n",
    "For the pages containing lists of recipes, we tried to get informations about those recipes, but were unsucessful. As the links referenced in those were dead."
   ]
  },
  {
   "cell_type": "markdown",
   "metadata": {},
   "source": [
    "### Schema used for the scraping :\n",
    "\n",
    "We will base our dataset on the 3 first websites as said before. The variables we are interested in are the following :\n",
    "- The rating, in order to have a value representing the success of the recipe.\n",
    "- The number of reviews, in order to have an idea of the confidence interval for the ranking estimation.\n",
    "- The time of preparation, which is a candidate which could be used to predict the rating.\n",
    "- The ingredients : The candidates which will be used to predict the rating."
   ]
  },
  {
   "cell_type": "markdown",
   "metadata": {},
   "source": [
    "## Scraping of website \"food.com\"\n",
    "\n",
    "The scraping takes a lot of time, this is why after each website scraped, we store the results in pickles files."
   ]
  },
  {
   "cell_type": "code",
   "execution_count": null,
   "metadata": {
    "scrolled": true
   },
   "outputs": [],
   "source": [
    "\n",
    "# Scrap all food.com files and put them in a pickle file\n",
    "recipe_data_food = pd.DataFrame(columns = ['Website','Recipe','Prepare time', 'Ranking', 'Reviews', 'Ingredients'])  \n",
    "list_unique_ingredients_food = []\n",
    "unique_ingredients_data_food = pd.DataFrame(columns = ['Ingredient','Count'])\n",
    "path_to_food_folder = Path('SortedFiles/food.com/filesName.txt')\n",
    "print(path_to_food_folder)\n",
    "i = 0\n",
    "with path_to_food_folder.open(\"r\") as file:\n",
    "    website = \"food.com\"\n",
    "    for f in file.readlines():\n",
    "        file_to_read =Path('recipePages') / f.strip()\n",
    "        try:\n",
    "            f = open(file_to_read,'r')\n",
    "            f.close()\n",
    "        except:\n",
    "            #print(\"We can't read the page: \",file_to_read)\n",
    "            continue\n",
    "        i+=1 \n",
    "        if i % 250 == 0:\n",
    "            print(i)\n",
    "        recipe_data_food, list_unique_ingredients_food, unique_ingredients_data_food = scrap_food(website, file_to_read,list_ingredient_to_remove,list_unique_ingredients_food, recipe_data_food, website_list_used,unique_ingredients_data_food)"
   ]
  },
  {
   "cell_type": "code",
   "execution_count": 120,
   "metadata": {},
   "outputs": [
    {
     "data": {
      "text/html": [
       "<div>\n",
       "<style scoped>\n",
       "    .dataframe tbody tr th:only-of-type {\n",
       "        vertical-align: middle;\n",
       "    }\n",
       "\n",
       "    .dataframe tbody tr th {\n",
       "        vertical-align: top;\n",
       "    }\n",
       "\n",
       "    .dataframe thead th {\n",
       "        text-align: right;\n",
       "    }\n",
       "</style>\n",
       "<table border=\"1\" class=\"dataframe\">\n",
       "  <thead>\n",
       "    <tr style=\"text-align: right;\">\n",
       "      <th></th>\n",
       "      <th>Website</th>\n",
       "      <th>Recipe</th>\n",
       "      <th>Prepare time</th>\n",
       "      <th>Ranking</th>\n",
       "      <th>Reviews</th>\n",
       "      <th>Ingredients</th>\n",
       "      <th>Quantities</th>\n",
       "      <th>Units</th>\n",
       "    </tr>\n",
       "  </thead>\n",
       "  <tbody>\n",
       "    <tr>\n",
       "      <th>0</th>\n",
       "      <td>food.com</td>\n",
       "      <td>Ecuadorean Quinoa and Vegetable Soup</td>\n",
       "      <td>75</td>\n",
       "      <td>4.86</td>\n",
       "      <td>31</td>\n",
       "      <td>[quinoa, olive oil, onions, salt, potato, red ...</td>\n",
       "      <td>[0.5, 2.0, 2.0, 1.0, 1.0, 1.0, 1.0, 1.0, 1.0, ...</td>\n",
       "      <td>[cup, tablespoons, cups, teaspoon, cup, cup, c...</td>\n",
       "    </tr>\n",
       "    <tr>\n",
       "      <th>1</th>\n",
       "      <td>food.com</td>\n",
       "      <td>Authentic Injera (aka Ethiopian Flat Bread)</td>\n",
       "      <td>4330</td>\n",
       "      <td>3.13</td>\n",
       "      <td>17</td>\n",
       "      <td>[teff, water]</td>\n",
       "      <td>[1.500, 2.0]</td>\n",
       "      <td>[cups, cups]</td>\n",
       "    </tr>\n",
       "    <tr>\n",
       "      <th>2</th>\n",
       "      <td>food.com</td>\n",
       "      <td>Healthy Vegan Coleslaw</td>\n",
       "      <td>10</td>\n",
       "      <td>5.00</td>\n",
       "      <td>1</td>\n",
       "      <td>[cabbage, vegan mayonnaise, apple cider vinega...</td>\n",
       "      <td>[908.0, 0.5, 1.0, 1.0, 1.0, 0.125, 1.0]</td>\n",
       "      <td>[g, cup, tablespoon, tablespoon, tablespoon, t...</td>\n",
       "    </tr>\n",
       "    <tr>\n",
       "      <th>3</th>\n",
       "      <td>food.com</td>\n",
       "      <td>Grilled Flatbread</td>\n",
       "      <td>35</td>\n",
       "      <td>4.67</td>\n",
       "      <td>14</td>\n",
       "      <td>[yeast, olive oil, flour, salt]</td>\n",
       "      <td>[0.5, 1.0, 1.333, 1.0]</td>\n",
       "      <td>[teaspoon, tablespoon, cups, teaspoon]</td>\n",
       "    </tr>\n",
       "    <tr>\n",
       "      <th>4</th>\n",
       "      <td>food.com</td>\n",
       "      <td>Baked Margarita Pie</td>\n",
       "      <td>20</td>\n",
       "      <td>5.00</td>\n",
       "      <td>3</td>\n",
       "      <td>[cracker, pie pastry, bottled margarita, egg y...</td>\n",
       "      <td>[7.0, 7.0, 0.75, 2.0, 244.0]</td>\n",
       "      <td>[g, g, cup, -1.0, ml]</td>\n",
       "    </tr>\n",
       "  </tbody>\n",
       "</table>\n",
       "</div>"
      ],
      "text/plain": [
       "    Website                                       Recipe Prepare time  \\\n",
       "0  food.com         Ecuadorean Quinoa and Vegetable Soup           75   \n",
       "1  food.com  Authentic Injera (aka Ethiopian Flat Bread)         4330   \n",
       "2  food.com                       Healthy Vegan Coleslaw           10   \n",
       "3  food.com                            Grilled Flatbread           35   \n",
       "4  food.com                          Baked Margarita Pie           20   \n",
       "\n",
       "   Ranking Reviews                                        Ingredients  \\\n",
       "0     4.86      31  [quinoa, olive oil, onions, salt, potato, red ...   \n",
       "1     3.13      17                                      [teff, water]   \n",
       "2     5.00       1  [cabbage, vegan mayonnaise, apple cider vinega...   \n",
       "3     4.67      14                    [yeast, olive oil, flour, salt]   \n",
       "4     5.00       3  [cracker, pie pastry, bottled margarita, egg y...   \n",
       "\n",
       "                                          Quantities  \\\n",
       "0  [0.5, 2.0, 2.0, 1.0, 1.0, 1.0, 1.0, 1.0, 1.0, ...   \n",
       "1                                       [1.500, 2.0]   \n",
       "2            [908.0, 0.5, 1.0, 1.0, 1.0, 0.125, 1.0]   \n",
       "3                             [0.5, 1.0, 1.333, 1.0]   \n",
       "4                       [7.0, 7.0, 0.75, 2.0, 244.0]   \n",
       "\n",
       "                                               Units  \n",
       "0  [cup, tablespoons, cups, teaspoon, cup, cup, c...  \n",
       "1                                       [cups, cups]  \n",
       "2  [g, cup, tablespoon, tablespoon, tablespoon, t...  \n",
       "3             [teaspoon, tablespoon, cups, teaspoon]  \n",
       "4                              [g, g, cup, -1.0, ml]  "
      ]
     },
     "execution_count": 120,
     "metadata": {},
     "output_type": "execute_result"
    }
   ],
   "source": [
    "recipe_data_food.head()"
   ]
  },
  {
   "cell_type": "markdown",
   "metadata": {},
   "source": [
    "##### Debugging"
   ]
  },
  {
   "cell_type": "code",
   "execution_count": 135,
   "metadata": {},
   "outputs": [],
   "source": [
    "# Check for difference in the length of lists\n",
    "for i in range(len(recipe_data_food)):\n",
    "    if len(recipe_data_food.iloc[i][\"Ingredients\"]) != len(recipe_data_food.iloc[i][\"Units\"]) or \\\n",
    "    len(recipe_data_food.iloc[i][\"Ingredients\"]) != len(recipe_data_food.iloc[i][\"Quantities\"]) or \\\n",
    "    len(recipe_data_food.iloc[i][\"Quantities\"]) != len(recipe_data_food.iloc[i][\"Units\"])    :\n",
    "        print(recipe_data_food.iloc[i][\"Ingredients\"], recipe_data_food.iloc[i][\"Units\"], recipe_data_food.iloc[i][\"Quantities\"])"
   ]
  },
  {
   "cell_type": "markdown",
   "metadata": {},
   "source": [
    "##### Save data with pickle:"
   ]
  },
  {
   "cell_type": "code",
   "execution_count": 123,
   "metadata": {},
   "outputs": [],
   "source": [
    "recipe_data_food.to_pickle(\"data_pickles/recipe_data_food.pkl\")\n",
    "unique_ingredients_data_food.to_pickle(\"data_pickles/unique_ingredients_data_food.pkl\")\n",
    "with open('data_pickles/list_uni_ingr_food.pkl', 'wb') as f:\n",
    "    pickle.dump(list_unique_ingredients_food, f)"
   ]
  },
  {
   "cell_type": "markdown",
   "metadata": {},
   "source": [
    "##### Retrieve data with pickle:"
   ]
  },
  {
   "cell_type": "code",
   "execution_count": 124,
   "metadata": {},
   "outputs": [],
   "source": [
    "recipe_data = pd.read_pickle(\"data_pickles/recipe_data_food.pkl\")\n",
    "unique_ingredients_data = pd.read_pickle(\"data_pickles/unique_ingredients_data_food.pkl\")\n",
    "with open('data_pickles/list_uni_ingr_food.pkl', 'rb') as f:\n",
    "    list_unique_ingredients = pickle.load(f)"
   ]
  },
  {
   "cell_type": "markdown",
   "metadata": {},
   "source": [
    "##### Examples of retrieved unique ingredients"
   ]
  },
  {
   "cell_type": "code",
   "execution_count": 134,
   "metadata": {},
   "outputs": [
    {
     "data": {
      "text/plain": [
       "array(['quinoa', 'olive oil', 'onions', 'salt', 'potato',\n",
       "       'red bell peppers', 'green bell pepper', 'coriander', 'cumin',\n",
       "       'oregano', 'pepper', 'water vegetable', 'vegetable', 'tomatoes',\n",
       "       'zucchini', 'yellow squash', 'lemon juice', 'teff', 'water',\n",
       "       'cabbage', 'vegan mayonnaise', 'apple cider vinegar', 'mustard',\n",
       "       'splenda granular', 'yeast', 'flour', 'cracker', 'pie pastry',\n",
       "       'bottled margarita', 'egg yolks', 'milk', 'oil', 'sesame tahini',\n",
       "       'soy sauce', 'garlic', 'baking soda', 'white vinegar',\n",
       "       'orange essential oils', 'lemon essential oils', 'essential oils',\n",
       "       'gingerbread cake', 'cranberries', 'eggs', 'cream', 'sugar',\n",
       "       'cinnamon', 'ginger', 'vanilla', 'oatmeal', 'onion'], dtype=object)"
      ]
     },
     "execution_count": 134,
     "metadata": {},
     "output_type": "execute_result"
    }
   ],
   "source": [
    "unique_ingredients_data[0:50].Ingredient.values"
   ]
  },
  {
   "cell_type": "markdown",
   "metadata": {},
   "source": [
    "## Scraping of website \"foodnetwork.com\""
   ]
  },
  {
   "cell_type": "code",
   "execution_count": null,
   "metadata": {},
   "outputs": [],
   "source": [
    "# Scrap all foodnetwork.com files and put them in a pickle file\n",
    "path_to_foodnet_folder = Path('SortedFiles/foodnetwork.com/filesName.txt')\n",
    "\n",
    "with path_to_foodnet_folder.open(\"r\") as file:\n",
    "    website = \"foodnetwork.com\"\n",
    "    for f in file.readlines():\n",
    "        file_to_read =Path('recipePages') / f.strip()\n",
    "        try:\n",
    "            f = open(file_to_read,'r')\n",
    "            f.close()\n",
    "        except:\n",
    "            continue\n",
    "        recipe_data,list_unique_ingredients, unique_ingredients_data= scrap_foodnetwork(website, file_to_read,list_ingredient_to_remove,list_unique_ingredients, recipe_data, website_list_used,unique_ingredients_data)\n"
   ]
  },
  {
   "cell_type": "markdown",
   "metadata": {},
   "source": [
    "##### Save data with pickle:"
   ]
  },
  {
   "cell_type": "code",
   "execution_count": 126,
   "metadata": {},
   "outputs": [],
   "source": [
    "recipe_data.to_pickle(\"data_pickles/recipe_data_foodnet.pkl\")\n",
    "unique_ingredients_data.to_pickle(\"data_pickles/unique_ingredients_data_foodnet.pkl\")\n",
    "with open('data_pickles/list_uni_ingr_foodnet.pkl', 'wb') as f:\n",
    "    pickle.dump(list_unique_ingredients_food, f)"
   ]
  },
  {
   "cell_type": "markdown",
   "metadata": {},
   "source": [
    "##### Retrieve data with pickle:"
   ]
  },
  {
   "cell_type": "code",
   "execution_count": 127,
   "metadata": {},
   "outputs": [],
   "source": [
    "recipe_data = pd.read_pickle(\"data_pickles/recipe_data_foodnet.pkl\")\n",
    "unique_ingredients_data = pd.read_pickle(\"data_pickles/unique_ingredients_data_foodnet.pkl\")\n",
    "with open('data_pickles/list_uni_ingr_foodnet.pkl', 'rb') as f:\n",
    "    list_unique_ingredients = pickle.load(f)"
   ]
  },
  {
   "cell_type": "markdown",
   "metadata": {},
   "source": [
    "## Scraping of website \"allrecipes.com\""
   ]
  },
  {
   "cell_type": "code",
   "execution_count": null,
   "metadata": {},
   "outputs": [],
   "source": [
    "# Scrap allrecipes.com files and put them in a pickle file\n",
    "path_to_allrec_folder = Path('SortedFiles/allrecipes.com/filesName.txt')\n",
    "\n",
    "with path_to_allrec_folder.open(\"r\") as file:\n",
    "    website = \"allrecipes.com\"\n",
    "    for f in file.readlines():\n",
    "        file_to_read =Path('recipePages') / f.strip()\n",
    "        try:\n",
    "            f = open(file_to_read,'r')\n",
    "            f.close()\n",
    "        except:\n",
    "            #print(\"We can't read the page: \",file_to_read)\n",
    "            continue\n",
    "        recipe_data, list_unique_ingredients, unique_ingredients_data = scrap_allrecipes(website, file_to_read,list_ingredient_to_remove,list_unique_ingredients, recipe_data, website_list_used,unique_ingredients_data)\n"
   ]
  },
  {
   "cell_type": "markdown",
   "metadata": {},
   "source": [
    "##### Save data with pickle:"
   ]
  },
  {
   "cell_type": "code",
   "execution_count": 129,
   "metadata": {},
   "outputs": [],
   "source": [
    "recipe_data.to_pickle(\"data_pickles/recipe_data_complete.pkl\")\n",
    "unique_ingredients_data.to_pickle(\"data_pickles/unique_ingredients_data_complete.pkl\")\n",
    "with open('data_pickles/list_uni_ingr_complete.pkl', 'wb') as f:\n",
    "    pickle.dump(list_unique_ingredients_food, f)"
   ]
  },
  {
   "cell_type": "markdown",
   "metadata": {},
   "source": [
    "##### Retrieve data with pickle:"
   ]
  },
  {
   "cell_type": "code",
   "execution_count": 209,
   "metadata": {},
   "outputs": [],
   "source": [
    "recipe_data = pd.read_pickle(\"data_pickles/recipe_data_complete.pkl\")\n",
    "unique_ingredients_data = pd.read_pickle(\"data_pickles/unique_ingredients_data_complete.pkl\")\n",
    "with open('data_pickles/list_uni_ingr_complete.pkl', 'rb') as f:\n",
    "    list_unique_ingredients = pickle.load(f)"
   ]
  },
  {
   "cell_type": "markdown",
   "metadata": {},
   "source": [
    "### Final recipe_data with all the recipes of the three websites and all the variables:"
   ]
  },
  {
   "cell_type": "code",
   "execution_count": 210,
   "metadata": {},
   "outputs": [
    {
     "data": {
      "text/html": [
       "<div>\n",
       "<style scoped>\n",
       "    .dataframe tbody tr th:only-of-type {\n",
       "        vertical-align: middle;\n",
       "    }\n",
       "\n",
       "    .dataframe tbody tr th {\n",
       "        vertical-align: top;\n",
       "    }\n",
       "\n",
       "    .dataframe thead th {\n",
       "        text-align: right;\n",
       "    }\n",
       "</style>\n",
       "<table border=\"1\" class=\"dataframe\">\n",
       "  <thead>\n",
       "    <tr style=\"text-align: right;\">\n",
       "      <th></th>\n",
       "      <th>Website</th>\n",
       "      <th>Recipe</th>\n",
       "      <th>Prepare time</th>\n",
       "      <th>Ranking</th>\n",
       "      <th>Reviews</th>\n",
       "      <th>Ingredients</th>\n",
       "      <th>Quantities</th>\n",
       "      <th>Units</th>\n",
       "    </tr>\n",
       "  </thead>\n",
       "  <tbody>\n",
       "    <tr>\n",
       "      <th>0</th>\n",
       "      <td>food.com</td>\n",
       "      <td>Ecuadorean Quinoa and Vegetable Soup</td>\n",
       "      <td>75</td>\n",
       "      <td>4.86</td>\n",
       "      <td>31</td>\n",
       "      <td>[quinoa, olive oil, onions, salt, potato, red ...</td>\n",
       "      <td>[0.5, 2.0, 2.0, 1.0, 1.0, 1.0, 1.0, 1.0, 1.0, ...</td>\n",
       "      <td>[cup, tablespoons, cups, teaspoon, cup, cup, c...</td>\n",
       "    </tr>\n",
       "    <tr>\n",
       "      <th>1</th>\n",
       "      <td>food.com</td>\n",
       "      <td>Authentic Injera (aka Ethiopian Flat Bread)</td>\n",
       "      <td>4330</td>\n",
       "      <td>3.13</td>\n",
       "      <td>17</td>\n",
       "      <td>[teff, water]</td>\n",
       "      <td>[1.500, 2.0]</td>\n",
       "      <td>[cups, cups]</td>\n",
       "    </tr>\n",
       "    <tr>\n",
       "      <th>2</th>\n",
       "      <td>food.com</td>\n",
       "      <td>Healthy Vegan Coleslaw</td>\n",
       "      <td>10</td>\n",
       "      <td>5</td>\n",
       "      <td>1</td>\n",
       "      <td>[cabbage, vegan mayonnaise, apple cider vinega...</td>\n",
       "      <td>[908.0, 0.5, 1.0, 1.0, 1.0, 0.125, 1.0]</td>\n",
       "      <td>[g, cup, tablespoon, tablespoon, tablespoon, t...</td>\n",
       "    </tr>\n",
       "    <tr>\n",
       "      <th>3</th>\n",
       "      <td>food.com</td>\n",
       "      <td>Grilled Flatbread</td>\n",
       "      <td>35</td>\n",
       "      <td>4.67</td>\n",
       "      <td>14</td>\n",
       "      <td>[yeast, olive oil, flour, salt]</td>\n",
       "      <td>[0.5, 1.0, 1.333, 1.0]</td>\n",
       "      <td>[teaspoon, tablespoon, cups, teaspoon]</td>\n",
       "    </tr>\n",
       "    <tr>\n",
       "      <th>4</th>\n",
       "      <td>food.com</td>\n",
       "      <td>Baked Margarita Pie</td>\n",
       "      <td>20</td>\n",
       "      <td>5</td>\n",
       "      <td>3</td>\n",
       "      <td>[cracker, pie pastry, bottled margarita, egg y...</td>\n",
       "      <td>[7.0, 7.0, 0.75, 2.0, 244.0]</td>\n",
       "      <td>[g, g, cup, -1.0, ml]</td>\n",
       "    </tr>\n",
       "    <tr>\n",
       "      <th>...</th>\n",
       "      <td>...</td>\n",
       "      <td>...</td>\n",
       "      <td>...</td>\n",
       "      <td>...</td>\n",
       "      <td>...</td>\n",
       "      <td>...</td>\n",
       "      <td>...</td>\n",
       "      <td>...</td>\n",
       "    </tr>\n",
       "    <tr>\n",
       "      <th>43944</th>\n",
       "      <td>allrecipes.com</td>\n",
       "      <td>Oven-Fried Chicken</td>\n",
       "      <td>NaN</td>\n",
       "      <td>4.1</td>\n",
       "      <td>19</td>\n",
       "      <td>[buttermilk baking, pecan, paprika, salt, poul...</td>\n",
       "      <td>[1.0, 0.3333333333333333, 2.0, 0.5, 0.5, 1.0, ...</td>\n",
       "      <td>[cup, cup, teaspoons, teaspoon, teaspoon, poun...</td>\n",
       "    </tr>\n",
       "    <tr>\n",
       "      <th>43945</th>\n",
       "      <td>allrecipes.com</td>\n",
       "      <td>Pumpkin Spice Cake with Cinnamon Cream Cheese ...</td>\n",
       "      <td>50</td>\n",
       "      <td>4.5</td>\n",
       "      <td>83</td>\n",
       "      <td>[pumpkin puree, cinnamon, nutmeg, yellow cake,...</td>\n",
       "      <td>[1.0, 1.0, 1.0, 1.0, 0.25, 112.0, 1.0, 0.5, 92...</td>\n",
       "      <td>[-1.0, teaspoon, teaspoon, -1.0, cup, g, teasp...</td>\n",
       "    </tr>\n",
       "    <tr>\n",
       "      <th>43946</th>\n",
       "      <td>allrecipes.com</td>\n",
       "      <td>Mom's Pie Crust for a Double Crust Pie</td>\n",
       "      <td>15</td>\n",
       "      <td>5.0</td>\n",
       "      <td>1</td>\n",
       "      <td>[flour, salt, vegetable shortening, water]</td>\n",
       "      <td>[2.0, 1.0, 0.5, 0.5]</td>\n",
       "      <td>[cups, teaspoon, cup, cup]</td>\n",
       "    </tr>\n",
       "    <tr>\n",
       "      <th>43947</th>\n",
       "      <td>allrecipes.com</td>\n",
       "      <td>Sopapilla Cheesecake Pie</td>\n",
       "      <td>180</td>\n",
       "      <td>4.8</td>\n",
       "      <td>882</td>\n",
       "      <td>[cream cheese, white sugar, mexican vanilla, c...</td>\n",
       "      <td>[464.0, 1.0, 1.0, 2.0, 1.0, 0.5, 0.25]</td>\n",
       "      <td>[g, cup, teaspoon, -1.0, teaspoon, cup, cup]</td>\n",
       "    </tr>\n",
       "    <tr>\n",
       "      <th>43948</th>\n",
       "      <td>allrecipes.com</td>\n",
       "      <td>Southern Fried Chicken Livers</td>\n",
       "      <td>20</td>\n",
       "      <td>4.7</td>\n",
       "      <td>53</td>\n",
       "      <td>[chicken liver, egg, milk, flour, garlic powde...</td>\n",
       "      <td>[1.0, 56.0, 0.5, 1.0, 1.0, None, None, 1.0]</td>\n",
       "      <td>[pound, g, cup, cup, tablespoon, -1.0, -1.0, q...</td>\n",
       "    </tr>\n",
       "  </tbody>\n",
       "</table>\n",
       "<p>43949 rows × 8 columns</p>\n",
       "</div>"
      ],
      "text/plain": [
       "              Website                                             Recipe  \\\n",
       "0            food.com               Ecuadorean Quinoa and Vegetable Soup   \n",
       "1            food.com        Authentic Injera (aka Ethiopian Flat Bread)   \n",
       "2            food.com                             Healthy Vegan Coleslaw   \n",
       "3            food.com                                  Grilled Flatbread   \n",
       "4            food.com                                Baked Margarita Pie   \n",
       "...               ...                                                ...   \n",
       "43944  allrecipes.com                                 Oven-Fried Chicken   \n",
       "43945  allrecipes.com  Pumpkin Spice Cake with Cinnamon Cream Cheese ...   \n",
       "43946  allrecipes.com             Mom's Pie Crust for a Double Crust Pie   \n",
       "43947  allrecipes.com                           Sopapilla Cheesecake Pie   \n",
       "43948  allrecipes.com                      Southern Fried Chicken Livers   \n",
       "\n",
       "      Prepare time Ranking Reviews  \\\n",
       "0               75    4.86      31   \n",
       "1             4330    3.13      17   \n",
       "2               10       5       1   \n",
       "3               35    4.67      14   \n",
       "4               20       5       3   \n",
       "...            ...     ...     ...   \n",
       "43944          NaN     4.1      19   \n",
       "43945           50     4.5      83   \n",
       "43946           15     5.0       1   \n",
       "43947          180     4.8     882   \n",
       "43948           20     4.7      53   \n",
       "\n",
       "                                             Ingredients  \\\n",
       "0      [quinoa, olive oil, onions, salt, potato, red ...   \n",
       "1                                          [teff, water]   \n",
       "2      [cabbage, vegan mayonnaise, apple cider vinega...   \n",
       "3                        [yeast, olive oil, flour, salt]   \n",
       "4      [cracker, pie pastry, bottled margarita, egg y...   \n",
       "...                                                  ...   \n",
       "43944  [buttermilk baking, pecan, paprika, salt, poul...   \n",
       "43945  [pumpkin puree, cinnamon, nutmeg, yellow cake,...   \n",
       "43946         [flour, salt, vegetable shortening, water]   \n",
       "43947  [cream cheese, white sugar, mexican vanilla, c...   \n",
       "43948  [chicken liver, egg, milk, flour, garlic powde...   \n",
       "\n",
       "                                              Quantities  \\\n",
       "0      [0.5, 2.0, 2.0, 1.0, 1.0, 1.0, 1.0, 1.0, 1.0, ...   \n",
       "1                                           [1.500, 2.0]   \n",
       "2                [908.0, 0.5, 1.0, 1.0, 1.0, 0.125, 1.0]   \n",
       "3                                 [0.5, 1.0, 1.333, 1.0]   \n",
       "4                           [7.0, 7.0, 0.75, 2.0, 244.0]   \n",
       "...                                                  ...   \n",
       "43944  [1.0, 0.3333333333333333, 2.0, 0.5, 0.5, 1.0, ...   \n",
       "43945  [1.0, 1.0, 1.0, 1.0, 0.25, 112.0, 1.0, 0.5, 92...   \n",
       "43946                               [2.0, 1.0, 0.5, 0.5]   \n",
       "43947             [464.0, 1.0, 1.0, 2.0, 1.0, 0.5, 0.25]   \n",
       "43948        [1.0, 56.0, 0.5, 1.0, 1.0, None, None, 1.0]   \n",
       "\n",
       "                                                   Units  \n",
       "0      [cup, tablespoons, cups, teaspoon, cup, cup, c...  \n",
       "1                                           [cups, cups]  \n",
       "2      [g, cup, tablespoon, tablespoon, tablespoon, t...  \n",
       "3                 [teaspoon, tablespoon, cups, teaspoon]  \n",
       "4                                  [g, g, cup, -1.0, ml]  \n",
       "...                                                  ...  \n",
       "43944  [cup, cup, teaspoons, teaspoon, teaspoon, poun...  \n",
       "43945  [-1.0, teaspoon, teaspoon, -1.0, cup, g, teasp...  \n",
       "43946                         [cups, teaspoon, cup, cup]  \n",
       "43947       [g, cup, teaspoon, -1.0, teaspoon, cup, cup]  \n",
       "43948  [pound, g, cup, cup, tablespoon, -1.0, -1.0, q...  \n",
       "\n",
       "[43949 rows x 8 columns]"
      ]
     },
     "execution_count": 210,
     "metadata": {},
     "output_type": "execute_result"
    }
   ],
   "source": [
    "recipe_data"
   ]
  },
  {
   "cell_type": "code",
   "execution_count": 211,
   "metadata": {},
   "outputs": [],
   "source": [
    "# Remove the duplicates of recipes\n",
    "recipe_data = recipe_data.loc[recipe_data.astype(str).drop_duplicates().index].reset_index(drop=True)"
   ]
  },
  {
   "cell_type": "markdown",
   "metadata": {},
   "source": [
    "### Preprocessing:\n",
    "As a first step, we need to select the features on which we will train our model. This selection will help us focus on the most important variables and hence reduce the dimensionality. Furthermore, making a selection will simplify the model and avoid overfitting. We will test a couple of methods for feature extraction, but first of all, a good approach is to analyze the correlations between our variables.\n",
    "\n",
    "Before, to do that, we have to work on 2 points :\n",
    "- A) One of our tasks is to analyze the success of ingredients in recipes. To ensure a certain confidence in our statistics, the ingredient analyzed should appear in a lot of recipes. Thus, we have to suppress all the \"rare\" ingredients (the ingredients which appear only a small number of times in our dataset).\n",
    "- B) We want to have an idea of how important is each ingredient in recipes. Then we choose to parse the weights of each ingredient within each recipes. By the following, we would set the weigth as $\\frac{ingredient\\_mass}{sum\\_of\\_ingredients\\_mass}$. This gives the percentage of the ingredient in the recipe"
   ]
  },
  {
   "cell_type": "markdown",
   "metadata": {},
   "source": [
    "### Part A)\n",
    "\n",
    "Let's ignore the ingredients which appear less than \"minAppearingThresh\". Here we choose 200 as a threshold value."
   ]
  },
  {
   "cell_type": "code",
   "execution_count": 213,
   "metadata": {},
   "outputs": [
    {
     "data": {
      "text/html": [
       "<div>\n",
       "<style scoped>\n",
       "    .dataframe tbody tr th:only-of-type {\n",
       "        vertical-align: middle;\n",
       "    }\n",
       "\n",
       "    .dataframe tbody tr th {\n",
       "        vertical-align: top;\n",
       "    }\n",
       "\n",
       "    .dataframe thead th {\n",
       "        text-align: right;\n",
       "    }\n",
       "</style>\n",
       "<table border=\"1\" class=\"dataframe\">\n",
       "  <thead>\n",
       "    <tr style=\"text-align: right;\">\n",
       "      <th></th>\n",
       "      <th>Ingredient</th>\n",
       "      <th>Count</th>\n",
       "    </tr>\n",
       "  </thead>\n",
       "  <tbody>\n",
       "    <tr>\n",
       "      <th>3</th>\n",
       "      <td>salt</td>\n",
       "      <td>22559</td>\n",
       "    </tr>\n",
       "    <tr>\n",
       "      <th>53</th>\n",
       "      <td>butter</td>\n",
       "      <td>12649</td>\n",
       "    </tr>\n",
       "    <tr>\n",
       "      <th>92</th>\n",
       "      <td>egg</td>\n",
       "      <td>10573</td>\n",
       "    </tr>\n",
       "    <tr>\n",
       "      <th>44</th>\n",
       "      <td>sugar</td>\n",
       "      <td>10396</td>\n",
       "    </tr>\n",
       "    <tr>\n",
       "      <th>25</th>\n",
       "      <td>flour</td>\n",
       "      <td>10290</td>\n",
       "    </tr>\n",
       "    <tr>\n",
       "      <th>34</th>\n",
       "      <td>garlic</td>\n",
       "      <td>9864</td>\n",
       "    </tr>\n",
       "    <tr>\n",
       "      <th>49</th>\n",
       "      <td>onion</td>\n",
       "      <td>9731</td>\n",
       "    </tr>\n",
       "    <tr>\n",
       "      <th>167</th>\n",
       "      <td>black pepper</td>\n",
       "      <td>8382</td>\n",
       "    </tr>\n",
       "    <tr>\n",
       "      <th>18</th>\n",
       "      <td>water</td>\n",
       "      <td>8224</td>\n",
       "    </tr>\n",
       "    <tr>\n",
       "      <th>1</th>\n",
       "      <td>olive oil</td>\n",
       "      <td>7578</td>\n",
       "    </tr>\n",
       "    <tr>\n",
       "      <th>30</th>\n",
       "      <td>milk</td>\n",
       "      <td>6992</td>\n",
       "    </tr>\n",
       "    <tr>\n",
       "      <th>776</th>\n",
       "      <td>white sugar</td>\n",
       "      <td>6582</td>\n",
       "    </tr>\n",
       "    <tr>\n",
       "      <th>47</th>\n",
       "      <td>vanilla</td>\n",
       "      <td>5802</td>\n",
       "    </tr>\n",
       "    <tr>\n",
       "      <th>10</th>\n",
       "      <td>pepper</td>\n",
       "      <td>4634</td>\n",
       "    </tr>\n",
       "    <tr>\n",
       "      <th>134</th>\n",
       "      <td>vegetable oil</td>\n",
       "      <td>4389</td>\n",
       "    </tr>\n",
       "    <tr>\n",
       "      <th>45</th>\n",
       "      <td>cinnamon</td>\n",
       "      <td>3822</td>\n",
       "    </tr>\n",
       "    <tr>\n",
       "      <th>109</th>\n",
       "      <td>baking powder</td>\n",
       "      <td>3555</td>\n",
       "    </tr>\n",
       "    <tr>\n",
       "      <th>85</th>\n",
       "      <td>parsley</td>\n",
       "      <td>3395</td>\n",
       "    </tr>\n",
       "    <tr>\n",
       "      <th>13</th>\n",
       "      <td>tomatoes</td>\n",
       "      <td>3262</td>\n",
       "    </tr>\n",
       "    <tr>\n",
       "      <th>35</th>\n",
       "      <td>baking soda</td>\n",
       "      <td>3161</td>\n",
       "    </tr>\n",
       "  </tbody>\n",
       "</table>\n",
       "</div>"
      ],
      "text/plain": [
       "        Ingredient  Count\n",
       "3             salt  22559\n",
       "53          butter  12649\n",
       "92             egg  10573\n",
       "44           sugar  10396\n",
       "25           flour  10290\n",
       "34          garlic   9864\n",
       "49           onion   9731\n",
       "167   black pepper   8382\n",
       "18           water   8224\n",
       "1        olive oil   7578\n",
       "30            milk   6992\n",
       "776    white sugar   6582\n",
       "47         vanilla   5802\n",
       "10          pepper   4634\n",
       "134  vegetable oil   4389\n",
       "45        cinnamon   3822\n",
       "109  baking powder   3555\n",
       "85         parsley   3395\n",
       "13        tomatoes   3262\n",
       "35     baking soda   3161"
      ]
     },
     "execution_count": 213,
     "metadata": {},
     "output_type": "execute_result"
    },
    {
     "data": {
      "image/png": "[encoded data removed]",
      "text/plain": [
       "<Figure size 432x288 with 1 Axes>"
      ]
     },
     "metadata": {
      "needs_background": "light"
     },
     "output_type": "display_data"
    }
   ],
   "source": [
    "minAppearingThresh = 200\n",
    "unique_ingredients_data.sort_values(by=[\"Count\"], ascending=False,inplace=True)\n",
    "unique_ingredients_data[unique_ingredients_data['Count'].values>minAppearingThresh].plot.hist(x=\"Ingredient\", y=\"Count\", bins=100)\n",
    "unique_ingredients_data=unique_ingredients_data[unique_ingredients_data['Count'].values>minAppearingThresh]\n",
    "unique_ingredients_data.head(20)"
   ]
  },
  {
   "cell_type": "markdown",
   "metadata": {},
   "source": [
    "#### In order to consider only the ingredients which appear at least minAppearingThresh times, we delete all the other ingredients. Suppressing some ingredients can bias the recipe, but as the ingredients we suppress are  not common, the recipe should not be too much affected."
   ]
  },
  {
   "cell_type": "code",
   "execution_count": 214,
   "metadata": {},
   "outputs": [
    {
     "data": {
      "text/html": [
       "<div>\n",
       "<style scoped>\n",
       "    .dataframe tbody tr th:only-of-type {\n",
       "        vertical-align: middle;\n",
       "    }\n",
       "\n",
       "    .dataframe tbody tr th {\n",
       "        vertical-align: top;\n",
       "    }\n",
       "\n",
       "    .dataframe thead th {\n",
       "        text-align: right;\n",
       "    }\n",
       "</style>\n",
       "<table border=\"1\" class=\"dataframe\">\n",
       "  <thead>\n",
       "    <tr style=\"text-align: right;\">\n",
       "      <th></th>\n",
       "      <th>Website</th>\n",
       "      <th>Recipe</th>\n",
       "      <th>Prepare time</th>\n",
       "      <th>Ranking</th>\n",
       "      <th>Reviews</th>\n",
       "      <th>Ingredients</th>\n",
       "      <th>Quantities</th>\n",
       "      <th>Units</th>\n",
       "    </tr>\n",
       "  </thead>\n",
       "  <tbody>\n",
       "    <tr>\n",
       "      <th>0</th>\n",
       "      <td>food.com</td>\n",
       "      <td>Ecuadorean Quinoa and Vegetable Soup</td>\n",
       "      <td>75</td>\n",
       "      <td>4.86</td>\n",
       "      <td>31</td>\n",
       "      <td>[olive oil, salt, potato, green bell pepper, c...</td>\n",
       "      <td>[2.0, 1.0, 1.0, 1.0, 1.0, 1.0, 1.0, 0.5, 3.0, ...</td>\n",
       "      <td>[tablespoons, teaspoon, cup, cup, teaspoon, te...</td>\n",
       "    </tr>\n",
       "    <tr>\n",
       "      <th>1</th>\n",
       "      <td>food.com</td>\n",
       "      <td>Authentic Injera (aka Ethiopian Flat Bread)</td>\n",
       "      <td>4330</td>\n",
       "      <td>3.13</td>\n",
       "      <td>17</td>\n",
       "      <td>[water]</td>\n",
       "      <td>[2.0]</td>\n",
       "      <td>[cups]</td>\n",
       "    </tr>\n",
       "    <tr>\n",
       "      <th>2</th>\n",
       "      <td>food.com</td>\n",
       "      <td>Healthy Vegan Coleslaw</td>\n",
       "      <td>10</td>\n",
       "      <td>5</td>\n",
       "      <td>1</td>\n",
       "      <td>[cabbage, apple cider vinegar, mustard, pepper...</td>\n",
       "      <td>[908.0, 1.0, 1.0, 0.125, 1.0]</td>\n",
       "      <td>[g, tablespoon, tablespoon, teaspoon, dash]</td>\n",
       "    </tr>\n",
       "    <tr>\n",
       "      <th>3</th>\n",
       "      <td>food.com</td>\n",
       "      <td>Grilled Flatbread</td>\n",
       "      <td>35</td>\n",
       "      <td>4.67</td>\n",
       "      <td>14</td>\n",
       "      <td>[yeast, olive oil, flour, salt]</td>\n",
       "      <td>[0.5, 1.0, 1.333, 1.0]</td>\n",
       "      <td>[teaspoon, tablespoon, cups, teaspoon]</td>\n",
       "    </tr>\n",
       "    <tr>\n",
       "      <th>4</th>\n",
       "      <td>food.com</td>\n",
       "      <td>Baked Margarita Pie</td>\n",
       "      <td>20</td>\n",
       "      <td>5</td>\n",
       "      <td>3</td>\n",
       "      <td>[cracker, milk]</td>\n",
       "      <td>[7.0, 244.0]</td>\n",
       "      <td>[g, ml]</td>\n",
       "    </tr>\n",
       "    <tr>\n",
       "      <th>...</th>\n",
       "      <td>...</td>\n",
       "      <td>...</td>\n",
       "      <td>...</td>\n",
       "      <td>...</td>\n",
       "      <td>...</td>\n",
       "      <td>...</td>\n",
       "      <td>...</td>\n",
       "      <td>...</td>\n",
       "    </tr>\n",
       "    <tr>\n",
       "      <th>27430</th>\n",
       "      <td>allrecipes.com</td>\n",
       "      <td>Marinated Salad</td>\n",
       "      <td>1415</td>\n",
       "      <td>4.5</td>\n",
       "      <td>9</td>\n",
       "      <td>[peas, green bean, celery, green bell pepper, ...</td>\n",
       "      <td>[98.0, 1.0, 1.0, 0.5, 0.5, 1.0, 0.5, 1.0, 0.5,...</td>\n",
       "      <td>[g, -1.0, cup, cup, cup, cup, teaspoon, teaspo...</td>\n",
       "    </tr>\n",
       "    <tr>\n",
       "      <th>27431</th>\n",
       "      <td>allrecipes.com</td>\n",
       "      <td>Asparagus with Junk</td>\n",
       "      <td>35</td>\n",
       "      <td>4.5</td>\n",
       "      <td>18</td>\n",
       "      <td>[asparagus, mayonnaise, bread, parmesan cheese]</td>\n",
       "      <td>[12.0, 1.0, 0.5, 0.5]</td>\n",
       "      <td>[g, cup, cup, cup]</td>\n",
       "    </tr>\n",
       "    <tr>\n",
       "      <th>27432</th>\n",
       "      <td>allrecipes.com</td>\n",
       "      <td>Dreamy White Chip Cup Cakes</td>\n",
       "      <td>NaN</td>\n",
       "      <td>4.1</td>\n",
       "      <td>5</td>\n",
       "      <td>[orange]</td>\n",
       "      <td>[2.0]</td>\n",
       "      <td>[tablespoons]</td>\n",
       "    </tr>\n",
       "    <tr>\n",
       "      <th>27433</th>\n",
       "      <td>allrecipes.com</td>\n",
       "      <td>Broiled Sesame Cod</td>\n",
       "      <td>15</td>\n",
       "      <td>3.6</td>\n",
       "      <td>12</td>\n",
       "      <td>[butter, lemon juice, black pepper, sesame seed]</td>\n",
       "      <td>[1.0, 1.0, 1.0, 1.0]</td>\n",
       "      <td>[teaspoon, teaspoon, pinch, tablespoon]</td>\n",
       "    </tr>\n",
       "    <tr>\n",
       "      <th>27434</th>\n",
       "      <td>allrecipes.com</td>\n",
       "      <td>Hummus III</td>\n",
       "      <td>10</td>\n",
       "      <td>4.5</td>\n",
       "      <td>1200</td>\n",
       "      <td>[bean, lemon juice, salt, garlic, olive oil, p...</td>\n",
       "      <td>[2.0, 0.25, 1.0, 6.0, 1.0, 1.0, 1.0]</td>\n",
       "      <td>[cups, cup, teaspoon, g, tablespoon, pinch, te...</td>\n",
       "    </tr>\n",
       "  </tbody>\n",
       "</table>\n",
       "<p>27435 rows × 8 columns</p>\n",
       "</div>"
      ],
      "text/plain": [
       "              Website                                       Recipe  \\\n",
       "0            food.com         Ecuadorean Quinoa and Vegetable Soup   \n",
       "1            food.com  Authentic Injera (aka Ethiopian Flat Bread)   \n",
       "2            food.com                       Healthy Vegan Coleslaw   \n",
       "3            food.com                            Grilled Flatbread   \n",
       "4            food.com                          Baked Margarita Pie   \n",
       "...               ...                                          ...   \n",
       "27430  allrecipes.com                              Marinated Salad   \n",
       "27431  allrecipes.com                          Asparagus with Junk   \n",
       "27432  allrecipes.com                  Dreamy White Chip Cup Cakes   \n",
       "27433  allrecipes.com                           Broiled Sesame Cod   \n",
       "27434  allrecipes.com                                   Hummus III   \n",
       "\n",
       "      Prepare time Ranking Reviews  \\\n",
       "0               75    4.86      31   \n",
       "1             4330    3.13      17   \n",
       "2               10       5       1   \n",
       "3               35    4.67      14   \n",
       "4               20       5       3   \n",
       "...            ...     ...     ...   \n",
       "27430         1415     4.5       9   \n",
       "27431           35     4.5      18   \n",
       "27432          NaN     4.1       5   \n",
       "27433           15     3.6      12   \n",
       "27434           10     4.5    1200   \n",
       "\n",
       "                                             Ingredients  \\\n",
       "0      [olive oil, salt, potato, green bell pepper, c...   \n",
       "1                                                [water]   \n",
       "2      [cabbage, apple cider vinegar, mustard, pepper...   \n",
       "3                        [yeast, olive oil, flour, salt]   \n",
       "4                                        [cracker, milk]   \n",
       "...                                                  ...   \n",
       "27430  [peas, green bean, celery, green bell pepper, ...   \n",
       "27431    [asparagus, mayonnaise, bread, parmesan cheese]   \n",
       "27432                                           [orange]   \n",
       "27433   [butter, lemon juice, black pepper, sesame seed]   \n",
       "27434  [bean, lemon juice, salt, garlic, olive oil, p...   \n",
       "\n",
       "                                              Quantities  \\\n",
       "0      [2.0, 1.0, 1.0, 1.0, 1.0, 1.0, 1.0, 0.5, 3.0, ...   \n",
       "1                                                  [2.0]   \n",
       "2                          [908.0, 1.0, 1.0, 0.125, 1.0]   \n",
       "3                                 [0.5, 1.0, 1.333, 1.0]   \n",
       "4                                           [7.0, 244.0]   \n",
       "...                                                  ...   \n",
       "27430  [98.0, 1.0, 1.0, 0.5, 0.5, 1.0, 0.5, 1.0, 0.5,...   \n",
       "27431                              [12.0, 1.0, 0.5, 0.5]   \n",
       "27432                                              [2.0]   \n",
       "27433                               [1.0, 1.0, 1.0, 1.0]   \n",
       "27434               [2.0, 0.25, 1.0, 6.0, 1.0, 1.0, 1.0]   \n",
       "\n",
       "                                                   Units  \n",
       "0      [tablespoons, teaspoon, cup, cup, teaspoon, te...  \n",
       "1                                                 [cups]  \n",
       "2            [g, tablespoon, tablespoon, teaspoon, dash]  \n",
       "3                 [teaspoon, tablespoon, cups, teaspoon]  \n",
       "4                                                [g, ml]  \n",
       "...                                                  ...  \n",
       "27430  [g, -1.0, cup, cup, cup, cup, teaspoon, teaspo...  \n",
       "27431                                 [g, cup, cup, cup]  \n",
       "27432                                      [tablespoons]  \n",
       "27433            [teaspoon, teaspoon, pinch, tablespoon]  \n",
       "27434  [cups, cup, teaspoon, g, tablespoon, pinch, te...  \n",
       "\n",
       "[27435 rows x 8 columns]"
      ]
     },
     "execution_count": 214,
     "metadata": {},
     "output_type": "execute_result"
    }
   ],
   "source": [
    "# search the indexes to remove and remove also the quantities\n",
    "AcceptedList_Ingredients = unique_ingredients_data['Ingredient'].tolist()\n",
    "indexToRemove = []\n",
    "for f in range(len(recipe_data['Ingredients'])):\n",
    "    ingredList = recipe_data['Ingredients'].iloc[f]\n",
    "    quantityList = recipe_data['Quantities'].iloc[f]\n",
    "    unitList = recipe_data['Units'].iloc[f]\n",
    "    ingredToKeep = [i for i in range(len(ingredList)) if ingredList[i] in AcceptedList_Ingredients]\n",
    "    recipe_data['Ingredients'].iloc[f] = [ingredList[i] for i in ingredToKeep]\n",
    "    recipe_data['Quantities'].iloc[f] = [quantityList[i] for i in ingredToKeep]\n",
    "    recipe_data['Units'].iloc[f] = [unitList[i] for i in ingredToKeep]\n",
    "    if len(ingredToKeep) == 0:\n",
    "        indexToRemove.append(f)\n",
    "    \n",
    "recipe_data = recipe_data.drop(indexToRemove).reset_index(drop=True)\n",
    "recipe_data"
   ]
  },
  {
   "cell_type": "markdown",
   "metadata": {},
   "source": [
    "### Part B)\n",
    "\n",
    "Let's compute the weight of each ingredient within each recipe and put these values in a more representative dataframe for the following part. Computing the weight of each ingredient is a very complicated task, as there are a lot of different units such as milligrams or teaspoon just to cite a few. If we want to convert all the quantities in one single weight unit (grams), we have to deal with two subproblems :\n",
    "- 1) Be able to convert each weight units in grams. We will do it with a dictionnary which will contain all the different weight units.\n",
    "- 2) Be able to convert each volume units in grams. This is a more tricky part as we have to convert from one volume unit to a weight unit. In order to do this conversion, we will first find the density of each ingredients, and after that, we will be able to do this conversion. "
   ]
  },
  {
   "cell_type": "markdown",
   "metadata": {},
   "source": [
    "#### Find the density of the ingredients\n",
    "\n",
    "We have found a quite good density database on this website : http://www.fao.org/3/ap815e/ap815e.pdf.\n",
    "We have extracted with tabula the useful table from this website and stored it as a csv file ('tabula-listDensity.csv).\n",
    "Here is some preprocessing operations in order to obtain a clean and adapted dataframe for our project.\n"
   ]
  },
  {
   "cell_type": "code",
   "execution_count": 215,
   "metadata": {},
   "outputs": [
    {
     "data": {
      "text/html": [
       "<div>\n",
       "<style scoped>\n",
       "    .dataframe tbody tr th:only-of-type {\n",
       "        vertical-align: middle;\n",
       "    }\n",
       "\n",
       "    .dataframe tbody tr th {\n",
       "        vertical-align: top;\n",
       "    }\n",
       "\n",
       "    .dataframe thead th {\n",
       "        text-align: right;\n",
       "    }\n",
       "</style>\n",
       "<table border=\"1\" class=\"dataframe\">\n",
       "  <thead>\n",
       "    <tr style=\"text-align: right;\">\n",
       "      <th></th>\n",
       "      <th>index</th>\n",
       "      <th>Food name and description</th>\n",
       "      <th>Density in g/ml</th>\n",
       "    </tr>\n",
       "  </thead>\n",
       "  <tbody>\n",
       "    <tr>\n",
       "      <th>0</th>\n",
       "      <td>2</td>\n",
       "      <td>grape juice</td>\n",
       "      <td>1.054</td>\n",
       "    </tr>\n",
       "    <tr>\n",
       "      <th>1</th>\n",
       "      <td>3</td>\n",
       "      <td>grape juice, canned or bottled, unsweetened, with</td>\n",
       "      <td>1.060</td>\n",
       "    </tr>\n",
       "    <tr>\n",
       "      <th>2</th>\n",
       "      <td>5</td>\n",
       "      <td>grape juice, canned or bottled, unsweetened,</td>\n",
       "      <td>1.060</td>\n",
       "    </tr>\n",
       "    <tr>\n",
       "      <th>3</th>\n",
       "      <td>7</td>\n",
       "      <td>guanabana nectar, canned</td>\n",
       "      <td>1.020</td>\n",
       "    </tr>\n",
       "    <tr>\n",
       "      <th>4</th>\n",
       "      <td>8</td>\n",
       "      <td>guava nectar, canned</td>\n",
       "      <td>1.020</td>\n",
       "    </tr>\n",
       "    <tr>\n",
       "      <th>5</th>\n",
       "      <td>10</td>\n",
       "      <td>juice, apple and grape blend, with added ascorbic</td>\n",
       "      <td>1.050</td>\n",
       "    </tr>\n",
       "    <tr>\n",
       "      <th>6</th>\n",
       "      <td>12</td>\n",
       "      <td>juice, apple, grape and pear blend, with added</td>\n",
       "      <td>1.050</td>\n",
       "    </tr>\n",
       "    <tr>\n",
       "      <th>7</th>\n",
       "      <td>14</td>\n",
       "      <td>lemonade, frozen concentrate, pink</td>\n",
       "      <td>1.240</td>\n",
       "    </tr>\n",
       "    <tr>\n",
       "      <th>8</th>\n",
       "      <td>15</td>\n",
       "      <td>lemonade, frozen concentrate, white</td>\n",
       "      <td>1.170</td>\n",
       "    </tr>\n",
       "    <tr>\n",
       "      <th>9</th>\n",
       "      <td>17</td>\n",
       "      <td>mango nectar, canned</td>\n",
       "      <td>1.000</td>\n",
       "    </tr>\n",
       "  </tbody>\n",
       "</table>\n",
       "</div>"
      ],
      "text/plain": [
       "   index                          Food name and description  Density in g/ml\n",
       "0      2                                        grape juice            1.054\n",
       "1      3  grape juice, canned or bottled, unsweetened, with            1.060\n",
       "2      5       grape juice, canned or bottled, unsweetened,            1.060\n",
       "3      7                           guanabana nectar, canned            1.020\n",
       "4      8                               guava nectar, canned            1.020\n",
       "5     10  juice, apple and grape blend, with added ascorbic            1.050\n",
       "6     12     juice, apple, grape and pear blend, with added            1.050\n",
       "7     14                 lemonade, frozen concentrate, pink            1.240\n",
       "8     15                lemonade, frozen concentrate, white            1.170\n",
       "9     17                               mango nectar, canned            1.000"
      ]
     },
     "execution_count": 215,
     "metadata": {},
     "output_type": "execute_result"
    }
   ],
   "source": [
    "# Load the ingredient density dataframe\n",
    "#pd.set_option('display.max_rows', 500)\n",
    "\n",
    "densityList = pd.read_csv('tabula-listDensity.csv')\n",
    "densityList = densityList.rename(columns={\"Food name and description Density in g/ml\": \"Food name and description\",\\\n",
    "                            \"Unnamed: 1\": \"Density in g/ml\"})\n",
    "\n",
    "# we must clean the NaN values in the density column\n",
    "densityValue = densityList['Density in g/ml'].values\n",
    "densityTest = [str(i).replace('.','',1).isdigit() for i in densityValue]\n",
    "density_df = densityList[densityTest]\n",
    "\n",
    "# We are only interested in the food name and the density column\n",
    "density_df = density_df[['Food name and description', 'Density in g/ml']]\n",
    "density_df.head(density_df.shape[0])\n",
    "\n",
    "# remove the combination of ingredients --> the food names which contain a \"+\"\n",
    "foodNames = density_df['Food name and description'].values\n",
    "foodTest = [not '+' in str(i) for i in foodNames]\n",
    "density_df = density_df[foodTest].reset_index()\n",
    "\n",
    "# put the correct format and filter for the nan names\n",
    "density_df['Density in g/ml'] = density_df['Density in g/ml'].astype(float)\n",
    "density_df['Food name and description'] = density_df['Food name and description'].astype(str)\n",
    "density_df['Food name and description'] = np.array([i.lower() for i in density_df['Food name and description'].values])\n",
    "density_df = density_df[density_df['Food name and description'].values != 'nan']\n",
    "\n",
    "# suppress all the rows which contains the word \"powdered\"\n",
    "problematic_rows = ['powdered' in row for row in density_df['Food name and description']]\n",
    "density_df = density_df[np.invert(problematic_rows)].reset_index(drop=True)\n",
    "\n",
    "density_df.head(10)\n",
    "#print(density_df.shape[0])"
   ]
  },
  {
   "cell_type": "markdown",
   "metadata": {},
   "source": [
    "Now that the density dataframe seems good, the second part is to create a correspondance between the ingredients in our recipes, and the ingredients in the density dataframe. This correspondance is not trivial to do because we can see that the ingredients are not written in the same way. For example, we have to find the correspondance between 'sour cream' in the recipe_data dataframe and 'cream, sour (crème fraiche about 18% fat)' in the density dataframe. Then this task should solve 3 main problems :\n",
    "- 1) An ingredient can be written in singular or in plural. As most of the time, the plural form consists of adding a letter at the end of the word, we use the Levenshtein distance. The Levenshtein distance computes the minimum number of operation for transorming a string into another. However, these transformations could be : adding one character, removing one character, or modifying one character. Then adding a character results in one and only one transformation. As the plural form doesn't consist in modifying one character, we have to modify a bit our condition. Finally, the condition of correspondance is that the Levenshtein distance between the two strings is smaller than or equal to 1. If the Levenshtein distance is 1, we also check that the size of the string1 is not the same as the string2 (which ensures that the transformation is not the one that modifies one character).\n",
    "- 2) Most of the ingredients names are composed of a couple of words. Theses words can be arranged in different orders, as 'vegetable oil' and 'oil vegetable'. Then if we want our algorithm to work well considering that point, we have to compare each word in the ingredient 1 (from our dataset) with each word in the ingredient 2 (of the online PDF).\n",
    "- 3) Now that we have a method of comparison, we have to find for each ingredient in our recipe_data dataframe, the corresponding ingredient in the density dataframe. In order to search the corresponding element, our algorithm works as follows: First, a score is computed between our ingredient and all the ingredients in the density dataframe. This score is computed with the Levenshtein distance explained at point 1. If one word in ingredient 1 corresponds to one word in ingredient 2, the score is 1, else the score is 0. As explained in point 2, we compare all the words in ingredient 1 to all the words in ingredient 2, hence the more words the ingredients have in common, the higher the score is. Finally, in case of equality of scores between some ingredients, we add another constraints. Indeed, we want the ingredient to correspond the best to our ingredient, and then it is clever to penalize the ingredients which have a different number of words. For example, if our ingredient is 'vegetable oil', we will prefer 'oil vegetable' thant 'organic vegetable oil'. Both of these ingredients will have a score of 2 (as they have 2 words in common), but the penalty will force the algorithm to chose 'oil vegetable'."
   ]
  },
  {
   "cell_type": "code",
   "execution_count": 216,
   "metadata": {},
   "outputs": [
    {
     "data": {
      "text/html": [
       "<div>\n",
       "<style scoped>\n",
       "    .dataframe tbody tr th:only-of-type {\n",
       "        vertical-align: middle;\n",
       "    }\n",
       "\n",
       "    .dataframe tbody tr th {\n",
       "        vertical-align: top;\n",
       "    }\n",
       "\n",
       "    .dataframe thead th {\n",
       "        text-align: right;\n",
       "    }\n",
       "</style>\n",
       "<table border=\"1\" class=\"dataframe\">\n",
       "  <thead>\n",
       "    <tr style=\"text-align: right;\">\n",
       "      <th></th>\n",
       "      <th>ingred</th>\n",
       "      <th>density</th>\n",
       "      <th>value</th>\n",
       "    </tr>\n",
       "  </thead>\n",
       "  <tbody>\n",
       "    <tr>\n",
       "      <th>0</th>\n",
       "      <td>salt</td>\n",
       "      <td>salt, granulated</td>\n",
       "      <td>1.280</td>\n",
       "    </tr>\n",
       "    <tr>\n",
       "      <th>1</th>\n",
       "      <td>butter</td>\n",
       "      <td>butter</td>\n",
       "      <td>0.911</td>\n",
       "    </tr>\n",
       "    <tr>\n",
       "      <th>2</th>\n",
       "      <td>egg</td>\n",
       "      <td>egg, yoke, powder</td>\n",
       "      <td>0.370</td>\n",
       "    </tr>\n",
       "    <tr>\n",
       "      <th>3</th>\n",
       "      <td>sugar</td>\n",
       "      <td>sugar</td>\n",
       "      <td>0.950</td>\n",
       "    </tr>\n",
       "    <tr>\n",
       "      <th>4</th>\n",
       "      <td>flour</td>\n",
       "      <td>barley, flour</td>\n",
       "      <td>0.610</td>\n",
       "    </tr>\n",
       "    <tr>\n",
       "      <th>5</th>\n",
       "      <td>garlic</td>\n",
       "      <td>garlic, flakes</td>\n",
       "      <td>0.350</td>\n",
       "    </tr>\n",
       "    <tr>\n",
       "      <th>6</th>\n",
       "      <td>onion</td>\n",
       "      <td>onions, chopped</td>\n",
       "      <td>0.220</td>\n",
       "    </tr>\n",
       "    <tr>\n",
       "      <th>7</th>\n",
       "      <td>black pepper</td>\n",
       "      <td>sweet pepper, raw, cubes</td>\n",
       "      <td>0.510</td>\n",
       "    </tr>\n",
       "    <tr>\n",
       "      <th>8</th>\n",
       "      <td>water</td>\n",
       "      <td>water, ice, 0 °c</td>\n",
       "      <td>0.916</td>\n",
       "    </tr>\n",
       "    <tr>\n",
       "      <th>9</th>\n",
       "      <td>olive oil</td>\n",
       "      <td>oil, vegetable, olive</td>\n",
       "      <td>0.918</td>\n",
       "    </tr>\n",
       "    <tr>\n",
       "      <th>10</th>\n",
       "      <td>milk</td>\n",
       "      <td>milk, buttermilk</td>\n",
       "      <td>1.022</td>\n",
       "    </tr>\n",
       "    <tr>\n",
       "      <th>11</th>\n",
       "      <td>white sugar</td>\n",
       "      <td>sugar</td>\n",
       "      <td>0.950</td>\n",
       "    </tr>\n",
       "    <tr>\n",
       "      <th>12</th>\n",
       "      <td>vanilla</td>\n",
       "      <td>not found</td>\n",
       "      <td>0.500</td>\n",
       "    </tr>\n",
       "    <tr>\n",
       "      <th>13</th>\n",
       "      <td>pepper</td>\n",
       "      <td>sweet pepper, raw, cubes</td>\n",
       "      <td>0.510</td>\n",
       "    </tr>\n",
       "    <tr>\n",
       "      <th>14</th>\n",
       "      <td>vegetable oil</td>\n",
       "      <td>oil, vegetable, coconut</td>\n",
       "      <td>0.924</td>\n",
       "    </tr>\n",
       "    <tr>\n",
       "      <th>15</th>\n",
       "      <td>cinnamon</td>\n",
       "      <td>cinnamon, powder</td>\n",
       "      <td>0.560</td>\n",
       "    </tr>\n",
       "    <tr>\n",
       "      <th>16</th>\n",
       "      <td>baking powder</td>\n",
       "      <td>baking powder</td>\n",
       "      <td>0.900</td>\n",
       "    </tr>\n",
       "    <tr>\n",
       "      <th>17</th>\n",
       "      <td>parsley</td>\n",
       "      <td>not found</td>\n",
       "      <td>0.500</td>\n",
       "    </tr>\n",
       "    <tr>\n",
       "      <th>18</th>\n",
       "      <td>tomatoes</td>\n",
       "      <td>not found</td>\n",
       "      <td>0.500</td>\n",
       "    </tr>\n",
       "    <tr>\n",
       "      <th>19</th>\n",
       "      <td>baking soda</td>\n",
       "      <td>baking powder</td>\n",
       "      <td>0.900</td>\n",
       "    </tr>\n",
       "  </tbody>\n",
       "</table>\n",
       "</div>"
      ],
      "text/plain": [
       "           ingred                   density  value\n",
       "0            salt          salt, granulated  1.280\n",
       "1          butter                    butter  0.911\n",
       "2             egg         egg, yoke, powder  0.370\n",
       "3           sugar                     sugar  0.950\n",
       "4           flour             barley, flour  0.610\n",
       "5          garlic            garlic, flakes  0.350\n",
       "6           onion           onions, chopped  0.220\n",
       "7    black pepper  sweet pepper, raw, cubes  0.510\n",
       "8           water          water, ice, 0 °c  0.916\n",
       "9       olive oil     oil, vegetable, olive  0.918\n",
       "10           milk          milk, buttermilk  1.022\n",
       "11    white sugar                     sugar  0.950\n",
       "12        vanilla                 not found  0.500\n",
       "13         pepper  sweet pepper, raw, cubes  0.510\n",
       "14  vegetable oil   oil, vegetable, coconut  0.924\n",
       "15       cinnamon          cinnamon, powder  0.560\n",
       "16  baking powder             baking powder  0.900\n",
       "17        parsley                 not found  0.500\n",
       "18       tomatoes                 not found  0.500\n",
       "19    baking soda             baking powder  0.900"
      ]
     },
     "execution_count": 216,
     "metadata": {},
     "output_type": "execute_result"
    }
   ],
   "source": [
    "import collections\n",
    "import Levenshtein\n",
    "from collections import Counter\n",
    "from Levenshtein import distance\n",
    "\n",
    "# similarity between ingredients in the ingredient list and in the density list :\n",
    "# 1) For each ingredient in the ingredient list : compute similarity between each word of this ingredient \n",
    "#    and each word of the ingredients in the density list (Levenshtein distance)\n",
    "# 2) Assign the similarity between those ingredients by a good statisctic as the mean, try jaccard distance\n",
    "# 3) Link the ingredients such that the similarity is maximized (distance minimized) -> Find the closest \n",
    "#    ingredient match\n",
    "meanDensity = 0.5\n",
    "stopColorWords = ['red', 'green', 'blue', 'yellow', 'white', 'black']\n",
    "penalizing_factor = 0.1\n",
    "ingred_index = 0\n",
    "correspondance_df = pd.DataFrame(0, index=np.arange(0, len(unique_ingredients_data['Ingredient'])), columns = ['ingred', 'density', 'value'])\n",
    "test_df = pd.DataFrame(0, index=np.arange(0, len(density_df['Food name and description'])), columns = ['ingred', 'density', 'value'])\n",
    "# ingred will represent the ingredients in the ingredient list\n",
    "# density will represent the ingredients in the density list\n",
    "for ingred in unique_ingredients_data['Ingredient']:\n",
    "    splitted_ingred = ingred.split(' ')\n",
    "    splitted_ingred = [i for i in splitted_ingred if not i in stopColorWords]\n",
    "    #nbOfWords_ingred = len(splitted_ingred)\n",
    "    distance = 0\n",
    "    density_index = 0\n",
    "    distFromIngred = np.zeros((len(density_df['Food name and description']), ))\n",
    "    for density in density_df['Food name and description']:\n",
    "        nbComparisons = 0\n",
    "        sumOfDistances = 0\n",
    "        score = 0\n",
    "        density = density.replace(\",\", \"\")\n",
    "        splitted_density = density.split(' ')\n",
    "        uniqW = Counter(splitted_density)\n",
    "        #print(uniqW.keys())\n",
    "        for ingred_words in splitted_ingred:\n",
    "            for density_words in uniqW.keys(): # loop on uniq words\n",
    "                nbComparisons += 1\n",
    "                #sumOfDistances += Levenshtein.distance(ingred_words, density_words)\n",
    "\n",
    "                dist = Levenshtein.distance(ingred_words, density_words)\n",
    "                if (dist <= 1 and len(ingred_words) != len(density_words)) or dist == 0 : # we only allow a supplementary character (for plural)\n",
    "                    score += 1\n",
    "        # we penalize a bit the high number of words in density with regards to the number of words in ingred\n",
    "        if(len(uniqW.keys()) > len(splitted_ingred)):\n",
    "            diff = len(uniqW.keys()) - len(splitted_ingred)\n",
    "            score -= diff * penalizing_factor\n",
    "            #print(score)\n",
    "                \n",
    "        #distFromIngred[density_index] = sumOfDistances/nbComparisons\n",
    "        distFromIngred[density_index] = score\n",
    "        density_index += 1\n",
    "    \n",
    "    if ingred_index == 0:\n",
    "        test_df['ingred'] = np.array([ingred for i in range(len(density_df['Food name and description']))])\n",
    "        test_df['density'] = np.array([density_df['Food name and description'].values[i] for i in range(len(density_df['Food name and description']))])\n",
    "        test_df['value'] = distFromIngred\n",
    "    \n",
    "    correspondance = np.argmax(distFromIngred)\n",
    "    correspondance_df['ingred'].iloc[ingred_index] = ingred\n",
    "    correspondance_df['density'].iloc[ingred_index] = density_df['Food name and description'].values[correspondance]\n",
    "    correspondance_df['value'].iloc[ingred_index] = density_df['Density in g/ml'].values[correspondance]\n",
    "    if max(distFromIngred) <= 0:\n",
    "        correspondance_df['density'].iloc[ingred_index] = 'not found'\n",
    "        correspondance_df['value'].iloc[ingred_index] = meanDensity\n",
    "\n",
    "    ingred_index += 1\n",
    "\n",
    "correspondance_df.head(20)\n",
    "    "
   ]
  },
  {
   "cell_type": "markdown",
   "metadata": {},
   "source": [
    "We can see that the correspondance works quite well. However, there are a lot of words which find no correspondance. We could try to correct it by finding a more complete density database, or by adding by hand the missing words. But by thinking about what we have to do with this correspondance table, it doesn't seem to be bad. Indeed, the only case where the density is useful is when the ingredient quantity is expressed in a volume unit. In our case, most of the ingredient with the \"not found\" density will never be expressed in a volume unit (tomatoes, parsley, meatloaf,...), and then the missing words have a small impact. \n",
    "Remark : For the missing words that will be expressed in volume unit, we assign them a density in order to have a weight in grams for all the ingredients. As we want to minimize the error of estimation, we assign them the mean of the densities present in our dataset, which is around 0.5 g/ml."
   ]
  },
  {
   "cell_type": "markdown",
   "metadata": {},
   "source": [
    "## Quantities computation in grams\n",
    "The next task is to compute the weight of each ingredient and to write it in the recipe_data dataframe. To have a better idea of the steps leading to our result, we write also the ingredient correspondance as well as the ingredient density assigned. But now that we have all the tools, the weight computation becomes trivial. We just have to check the type of units before doing the computation :\n",
    "- Unit of weight : (mg, kg, ...) In this case, we just have to convert from the weight unit to grams. The conversion of all the units present in the dataset are precomputed in the dictionnary dict_quantities. \n",
    "- Unit of volume : (teaspoon, dl, ...) In this case, the density becomes useful. Indeed, the weight is the multiplication of the volume by the density. It works because in our dictionnary, the unit_conversion convert all the volum units in milliliters, and the density is in g/ml. It ensures that all our result will be in grams."
   ]
  },
  {
   "cell_type": "code",
   "execution_count": 45,
   "metadata": {},
   "outputs": [
    {
     "data": {
      "text/html": [
       "<div>\n",
       "<style scoped>\n",
       "    .dataframe tbody tr th:only-of-type {\n",
       "        vertical-align: middle;\n",
       "    }\n",
       "\n",
       "    .dataframe tbody tr th {\n",
       "        vertical-align: top;\n",
       "    }\n",
       "\n",
       "    .dataframe thead th {\n",
       "        text-align: right;\n",
       "    }\n",
       "</style>\n",
       "<table border=\"1\" class=\"dataframe\">\n",
       "  <thead>\n",
       "    <tr style=\"text-align: right;\">\n",
       "      <th></th>\n",
       "      <th>Website</th>\n",
       "      <th>Recipe</th>\n",
       "      <th>Prepare time</th>\n",
       "      <th>Ranking</th>\n",
       "      <th>Reviews</th>\n",
       "      <th>Ingredients</th>\n",
       "      <th>Quantities</th>\n",
       "      <th>Units</th>\n",
       "      <th>ingredient correspondance</th>\n",
       "      <th>ingredient density</th>\n",
       "      <th>amount in grams</th>\n",
       "    </tr>\n",
       "  </thead>\n",
       "  <tbody>\n",
       "    <tr>\n",
       "      <td>0</td>\n",
       "      <td>food.com</td>\n",
       "      <td>Ecuadorean Quinoa and Vegetable Soup</td>\n",
       "      <td>75</td>\n",
       "      <td>4.86</td>\n",
       "      <td>31</td>\n",
       "      <td>[olive oil, salt, potato, green bell pepper, c...</td>\n",
       "      <td>[2.0, 1.0, 1.0, 1.0, 1.0, 1.0, 1.0, 0.5, 3.0, ...</td>\n",
       "      <td>[tablespoons, teaspoon, cup, cup, teaspoon, te...</td>\n",
       "      <td>[[oil, vegetable, olive], [salt, granulated], ...</td>\n",
       "      <td>[0.918, 1.28, 0.09, 0.51, 0.5, 0.5, 0.5, 0.51,...</td>\n",
       "      <td>[27.540000000000003, 6.4, 22.5, 127.5, 2.5, 2....</td>\n",
       "    </tr>\n",
       "    <tr>\n",
       "      <td>1</td>\n",
       "      <td>food.com</td>\n",
       "      <td>Authentic Injera (aka Ethiopian Flat Bread)</td>\n",
       "      <td>4330</td>\n",
       "      <td>3.13</td>\n",
       "      <td>17</td>\n",
       "      <td>[water]</td>\n",
       "      <td>[2.0]</td>\n",
       "      <td>[cups]</td>\n",
       "      <td>[[water, ice, 0 °c]]</td>\n",
       "      <td>[0.916]</td>\n",
       "      <td>[458.0]</td>\n",
       "    </tr>\n",
       "    <tr>\n",
       "      <td>2</td>\n",
       "      <td>food.com</td>\n",
       "      <td>Healthy Vegan Coleslaw</td>\n",
       "      <td>10</td>\n",
       "      <td>5</td>\n",
       "      <td>1</td>\n",
       "      <td>[cabbage, apple cider vinegar, mustard, pepper...</td>\n",
       "      <td>[908.0, 1.0, 1.0, 0.125, 1.0]</td>\n",
       "      <td>[g, tablespoon, tablespoon, teaspoon, dash]</td>\n",
       "      <td>[[not found], [apple slices, dried], [not foun...</td>\n",
       "      <td>[0.5, 0.24, 0.5, 0.51, 1.28]</td>\n",
       "      <td>[908.0, 3.5999999999999996, 7.5, 0.31875, 0.8]</td>\n",
       "    </tr>\n",
       "    <tr>\n",
       "      <td>3</td>\n",
       "      <td>food.com</td>\n",
       "      <td>Grilled Flatbread</td>\n",
       "      <td>35</td>\n",
       "      <td>4.67</td>\n",
       "      <td>14</td>\n",
       "      <td>[yeast, olive oil, flour, salt]</td>\n",
       "      <td>[0.5, 1.0, 1.333, 1.0]</td>\n",
       "      <td>[teaspoon, tablespoon, cups, teaspoon]</td>\n",
       "      <td>[[yeast], [oil, vegetable, olive], [barley, fl...</td>\n",
       "      <td>[0.95, 0.918, 0.61, 1.28]</td>\n",
       "      <td>[2.375, 13.770000000000001, 203.28249999999997...</td>\n",
       "    </tr>\n",
       "    <tr>\n",
       "      <td>4</td>\n",
       "      <td>food.com</td>\n",
       "      <td>Baked Margarita Pie</td>\n",
       "      <td>20</td>\n",
       "      <td>5</td>\n",
       "      <td>3</td>\n",
       "      <td>[cracker, milk]</td>\n",
       "      <td>[7.0, 244.0]</td>\n",
       "      <td>[g, ml]</td>\n",
       "      <td>[[not found], [milk, buttermilk]]</td>\n",
       "      <td>[0.5, 1.022]</td>\n",
       "      <td>[7.0, 249.368]</td>\n",
       "    </tr>\n",
       "  </tbody>\n",
       "</table>\n",
       "</div>"
      ],
      "text/plain": [
       "    Website                                       Recipe Prepare time Ranking  \\\n",
       "0  food.com         Ecuadorean Quinoa and Vegetable Soup           75    4.86   \n",
       "1  food.com  Authentic Injera (aka Ethiopian Flat Bread)         4330    3.13   \n",
       "2  food.com                       Healthy Vegan Coleslaw           10       5   \n",
       "3  food.com                            Grilled Flatbread           35    4.67   \n",
       "4  food.com                          Baked Margarita Pie           20       5   \n",
       "\n",
       "  Reviews                                        Ingredients  \\\n",
       "0      31  [olive oil, salt, potato, green bell pepper, c...   \n",
       "1      17                                            [water]   \n",
       "2       1  [cabbage, apple cider vinegar, mustard, pepper...   \n",
       "3      14                    [yeast, olive oil, flour, salt]   \n",
       "4       3                                    [cracker, milk]   \n",
       "\n",
       "                                          Quantities  \\\n",
       "0  [2.0, 1.0, 1.0, 1.0, 1.0, 1.0, 1.0, 0.5, 3.0, ...   \n",
       "1                                              [2.0]   \n",
       "2                      [908.0, 1.0, 1.0, 0.125, 1.0]   \n",
       "3                             [0.5, 1.0, 1.333, 1.0]   \n",
       "4                                       [7.0, 244.0]   \n",
       "\n",
       "                                               Units  \\\n",
       "0  [tablespoons, teaspoon, cup, cup, teaspoon, te...   \n",
       "1                                             [cups]   \n",
       "2        [g, tablespoon, tablespoon, teaspoon, dash]   \n",
       "3             [teaspoon, tablespoon, cups, teaspoon]   \n",
       "4                                            [g, ml]   \n",
       "\n",
       "                           ingredient correspondance  \\\n",
       "0  [[oil, vegetable, olive], [salt, granulated], ...   \n",
       "1                               [[water, ice, 0 °c]]   \n",
       "2  [[not found], [apple slices, dried], [not foun...   \n",
       "3  [[yeast], [oil, vegetable, olive], [barley, fl...   \n",
       "4                  [[not found], [milk, buttermilk]]   \n",
       "\n",
       "                                  ingredient density  \\\n",
       "0  [0.918, 1.28, 0.09, 0.51, 0.5, 0.5, 0.5, 0.51,...   \n",
       "1                                            [0.916]   \n",
       "2                       [0.5, 0.24, 0.5, 0.51, 1.28]   \n",
       "3                          [0.95, 0.918, 0.61, 1.28]   \n",
       "4                                       [0.5, 1.022]   \n",
       "\n",
       "                                     amount in grams  \n",
       "0  [27.540000000000003, 6.4, 22.5, 127.5, 2.5, 2....  \n",
       "1                                            [458.0]  \n",
       "2     [908.0, 3.5999999999999996, 7.5, 0.31875, 0.8]  \n",
       "3  [2.375, 13.770000000000001, 203.28249999999997...  \n",
       "4                                     [7.0, 249.368]  "
      ]
     },
     "execution_count": 45,
     "metadata": {},
     "output_type": "execute_result"
    }
   ],
   "source": [
    "recipe_data['ingredient correspondance'] = 0\n",
    "recipe_data['ingredient density'] = 0\n",
    "recipe_data['amount in grams'] = 0\n",
    "dictionnary = get_dict_quantities()\n",
    "\n",
    "list_unit_of_weight = [\"mg.\",\"mg\",\"milligram\",\"milligrams\", \\\n",
    "                      \"cg.\",\"cg\",\"centigram\",\"centigrams\", \\\n",
    "                      \"dg.\",\"dg\",\"decigram\",\"decigrams\",\"g.\", \\\n",
    "                      \"g\",\"gm.\",\"gm\" \"gram\", \"grams\",\"dag.\", \\\n",
    "                      \"dag\",\"decagram\",\"decagrams\", \"hg.\",\"hg\", \\\n",
    "                      \"hectogram\", \"hectograms\",\"kg.\",\"kg\",\"kilos\", \\\n",
    "                      \"kilo\",\"kilogram\",\"kilograms\",\"lb\", \"lb.\", \"lbs\", \\\n",
    "                      \"lbs.\",\"pounds\", \"pound\",\"pound)\", \"pounds)\"]\n",
    "\n",
    "for i in range(recipe_data.shape[0]):\n",
    "    ingredient_set = recipe_data['Ingredients'].iloc[i]\n",
    "    correspondance_ingred_set = []\n",
    "    density_set = []\n",
    "    gram_set = []\n",
    "    iterator = 0\n",
    "    for ingred in ingredient_set:\n",
    "        rowInDf = correspondance_df[correspondance_df['ingred'] == ingred]\n",
    "        correspondance_ingred_set.append(rowInDf['density'].values)\n",
    "        density = str(rowInDf['value'].values[0])\n",
    "        density_set.append(density)\n",
    "        # we suppose that the non-scraped quantities correspond to zero value at the end\n",
    "        #print(len(ingredient_set))\n",
    "        quantity = (recipe_data['Quantities'].iloc[i])[iterator]\n",
    "        if quantity == None:\n",
    "            quantity = 0\n",
    "        unit = (recipe_data['Units'].iloc[i])[iterator]\n",
    "        if unit == None:\n",
    "            unit = 0\n",
    "        if unit != -1:\n",
    "            unit_conversion = dictionnary[unit]\n",
    "        else :\n",
    "            unit_conversion = 0\n",
    "        conversion = 0\n",
    "        # If the unit is a unit of weight, no need to multiply by the density\n",
    "        if unit in list_unit_of_weight :\n",
    "            conversion = str(float(quantity) * float(unit_conversion))\n",
    "        else:      \n",
    "            conversion = str(float(quantity) * float(density) * float(unit_conversion))\n",
    "        gram_set.append(conversion)\n",
    "        iterator += 1\n",
    "\n",
    "    recipe_data['ingredient correspondance'].iloc[i] = correspondance_ingred_set\n",
    "    recipe_data['ingredient density'].iloc[i] = density_set\n",
    "    recipe_data['amount in grams'].iloc[i] = gram_set\n",
    "   \n",
    "recipe_data.head()"
   ]
  },
  {
   "cell_type": "markdown",
   "metadata": {},
   "source": [
    "Now, the recipe_data contains all the information we need. As we will not modify this dataframe anymore, we store it in a pickle file."
   ]
  },
  {
   "cell_type": "code",
   "execution_count": 198,
   "metadata": {},
   "outputs": [
    {
     "name": "stdout",
     "output_type": "stream",
     "text": [
      "Number of ingredients kept 1  and the number of recipes :  26908\n",
      "Number of ingredients kept 2  and the number of recipes :  26359\n",
      "Number of ingredients kept 3  and the number of recipes :  25104\n",
      "Number of ingredients kept 4  and the number of recipes :  23058\n",
      "Number of ingredients kept 5  and the number of recipes :  20499\n",
      "Number of ingredients kept 6  and the number of recipes :  17526\n"
     ]
    }
   ],
   "source": [
    "copiedData = recipe_data.copy()\n",
    "for i in range(1,7) :\n",
    "    c  = copiedData[copiedData['Ingredients'].map(len) >= i]\n",
    "    print(\"Number of ingredients kept\", i , \" and the number of recipes : \",len(c))"
   ]
  },
  {
   "cell_type": "code",
   "execution_count": 202,
   "metadata": {},
   "outputs": [
    {
     "data": {
      "text/html": [
       "<div>\n",
       "<style scoped>\n",
       "    .dataframe tbody tr th:only-of-type {\n",
       "        vertical-align: middle;\n",
       "    }\n",
       "\n",
       "    .dataframe tbody tr th {\n",
       "        vertical-align: top;\n",
       "    }\n",
       "\n",
       "    .dataframe thead th {\n",
       "        text-align: right;\n",
       "    }\n",
       "</style>\n",
       "<table border=\"1\" class=\"dataframe\">\n",
       "  <thead>\n",
       "    <tr style=\"text-align: right;\">\n",
       "      <th></th>\n",
       "      <th>Website</th>\n",
       "      <th>Recipe</th>\n",
       "      <th>Prepare time</th>\n",
       "      <th>Ranking</th>\n",
       "      <th>Reviews</th>\n",
       "      <th>Ingredients</th>\n",
       "      <th>Quantities</th>\n",
       "      <th>Units</th>\n",
       "      <th>ingredient correspondance</th>\n",
       "      <th>ingredient density</th>\n",
       "      <th>amount in grams</th>\n",
       "    </tr>\n",
       "  </thead>\n",
       "  <tbody>\n",
       "    <tr>\n",
       "      <th>0</th>\n",
       "      <td>food.com</td>\n",
       "      <td>Ecuadorean Quinoa and Vegetable Soup</td>\n",
       "      <td>75</td>\n",
       "      <td>4.86</td>\n",
       "      <td>31</td>\n",
       "      <td>[olive oil, salt, potato, green bell pepper, c...</td>\n",
       "      <td>[2.0, 1.0, 1.0, 1.0, 1.0, 1.0, 1.0, 0.5, 3.0, ...</td>\n",
       "      <td>[tablespoons, teaspoon, cup, cup, teaspoon, te...</td>\n",
       "      <td>[[oil, vegetable, olive], [salt, granulated], ...</td>\n",
       "      <td>[0.918, 1.28, 0.09, 0.51, 0.5, 0.5, 0.5, 0.51,...</td>\n",
       "      <td>[27.540000000000003, 6.4, 22.5, 127.5, 2.5, 2....</td>\n",
       "    </tr>\n",
       "    <tr>\n",
       "      <th>1</th>\n",
       "      <td>food.com</td>\n",
       "      <td>Healthy Vegan Coleslaw</td>\n",
       "      <td>10</td>\n",
       "      <td>5</td>\n",
       "      <td>1</td>\n",
       "      <td>[cabbage, apple cider vinegar, mustard, pepper...</td>\n",
       "      <td>[908.0, 1.0, 1.0, 0.125, 1.0]</td>\n",
       "      <td>[g, tablespoon, tablespoon, teaspoon, dash]</td>\n",
       "      <td>[[not found], [apple slices, dried], [not foun...</td>\n",
       "      <td>[0.5, 0.24, 0.5, 0.51, 1.28]</td>\n",
       "      <td>[908.0, 3.5999999999999996, 7.5, 0.31875, 0.8]</td>\n",
       "    </tr>\n",
       "    <tr>\n",
       "      <th>2</th>\n",
       "      <td>food.com</td>\n",
       "      <td>Grilled Flatbread</td>\n",
       "      <td>35</td>\n",
       "      <td>4.67</td>\n",
       "      <td>14</td>\n",
       "      <td>[yeast, olive oil, flour, salt]</td>\n",
       "      <td>[0.5, 1.0, 1.333, 1.0]</td>\n",
       "      <td>[teaspoon, tablespoon, cups, teaspoon]</td>\n",
       "      <td>[[yeast], [oil, vegetable, olive], [barley, fl...</td>\n",
       "      <td>[0.95, 0.918, 0.61, 1.28]</td>\n",
       "      <td>[2.375, 13.770000000000001, 203.28249999999997...</td>\n",
       "    </tr>\n",
       "    <tr>\n",
       "      <th>3</th>\n",
       "      <td>food.com</td>\n",
       "      <td>Lemon Tahini Dressing</td>\n",
       "      <td>5</td>\n",
       "      <td>4.25</td>\n",
       "      <td>4</td>\n",
       "      <td>[lemon juice, oil, soy sauce, water, garlic, s...</td>\n",
       "      <td>[0.25, 3.0, 1.0, 1.0, 3.0, 1.0, 1.0]</td>\n",
       "      <td>[cup, tablespoons, tablespoon, tablespoon, g, ...</td>\n",
       "      <td>[[grape juice], [oil, palmoil], [sauce, soy], ...</td>\n",
       "      <td>[1.054, 0.89, 1.12, 0.916, 0.35, 1.28, 0.51]</td>\n",
       "      <td>[65.875, 40.05, 16.8, 13.74, 3.0, 0.4, 0.159375]</td>\n",
       "    </tr>\n",
       "    <tr>\n",
       "      <th>4</th>\n",
       "      <td>food.com</td>\n",
       "      <td>Homemade Fabric Softener</td>\n",
       "      <td>5</td>\n",
       "      <td>4.91</td>\n",
       "      <td>25</td>\n",
       "      <td>[baking soda, white vinegar, water]</td>\n",
       "      <td>[1.0, 6.0, 8.0]</td>\n",
       "      <td>[cup, cups, cups]</td>\n",
       "      <td>[[baking powder], [not found], [water, ice, 0 ...</td>\n",
       "      <td>[0.9, 0.5, 0.916]</td>\n",
       "      <td>[225.0, 750.0, 1832.0]</td>\n",
       "    </tr>\n",
       "    <tr>\n",
       "      <th>...</th>\n",
       "      <td>...</td>\n",
       "      <td>...</td>\n",
       "      <td>...</td>\n",
       "      <td>...</td>\n",
       "      <td>...</td>\n",
       "      <td>...</td>\n",
       "      <td>...</td>\n",
       "      <td>...</td>\n",
       "      <td>...</td>\n",
       "      <td>...</td>\n",
       "      <td>...</td>\n",
       "    </tr>\n",
       "    <tr>\n",
       "      <th>25099</th>\n",
       "      <td>allrecipes.com</td>\n",
       "      <td>Garbanzo Bean Chocolate Cake (Gluten Free!)</td>\n",
       "      <td>70</td>\n",
       "      <td>4.6</td>\n",
       "      <td>476</td>\n",
       "      <td>[chocolate, bean, egg, white sugar, baking pow...</td>\n",
       "      <td>[1.500, 1.0, 224.0, 0.75, 0.5]</td>\n",
       "      <td>[cups, -1.0, g, cup, teaspoon]</td>\n",
       "      <td>[[milk, chocolate milk, skimmed], [french gree...</td>\n",
       "      <td>[1.056, 0.53, 0.37, 0.95, 0.9]</td>\n",
       "      <td>[396.0, 0.0, 224.0, 178.12499999999997, 2.25]</td>\n",
       "    </tr>\n",
       "    <tr>\n",
       "      <th>25100</th>\n",
       "      <td>allrecipes.com</td>\n",
       "      <td>Marinated Salad</td>\n",
       "      <td>1415</td>\n",
       "      <td>4.5</td>\n",
       "      <td>9</td>\n",
       "      <td>[peas, green bean, celery, green bell pepper, ...</td>\n",
       "      <td>[98.0, 1.0, 1.0, 0.5, 0.5, 1.0, 0.5, 1.0, 0.5,...</td>\n",
       "      <td>[g, -1.0, cup, cup, cup, cup, teaspoon, teaspo...</td>\n",
       "      <td>[[pigeon peas, boiled], [french green beans], ...</td>\n",
       "      <td>[0.75, 0.53, 0.5, 0.51, 0.22, 0.95, 0.51, 1.28...</td>\n",
       "      <td>[98.0, 0.0, 125.0, 63.75, 27.5, 237.5, 1.275, ...</td>\n",
       "    </tr>\n",
       "    <tr>\n",
       "      <th>25101</th>\n",
       "      <td>allrecipes.com</td>\n",
       "      <td>Asparagus with Junk</td>\n",
       "      <td>35</td>\n",
       "      <td>4.5</td>\n",
       "      <td>18</td>\n",
       "      <td>[asparagus, mayonnaise, bread, parmesan cheese]</td>\n",
       "      <td>[12.0, 1.0, 0.5, 0.5]</td>\n",
       "      <td>[g, cup, cup, cup]</td>\n",
       "      <td>[[not found], [mayonnaise, light], [bread], [c...</td>\n",
       "      <td>[0.5, 1.0, 0.29, 0.34]</td>\n",
       "      <td>[12.0, 250.0, 36.25, 42.5]</td>\n",
       "    </tr>\n",
       "    <tr>\n",
       "      <th>25102</th>\n",
       "      <td>allrecipes.com</td>\n",
       "      <td>Broiled Sesame Cod</td>\n",
       "      <td>15</td>\n",
       "      <td>3.6</td>\n",
       "      <td>12</td>\n",
       "      <td>[butter, lemon juice, black pepper, sesame seed]</td>\n",
       "      <td>[1.0, 1.0, 1.0, 1.0]</td>\n",
       "      <td>[teaspoon, teaspoon, pinch, tablespoon]</td>\n",
       "      <td>[[butter], [grape juice], [sweet pepper, raw, ...</td>\n",
       "      <td>[0.911, 1.054, 0.51, 0.62]</td>\n",
       "      <td>[4.555, 5.2700000000000005, 0.159375, 9.3]</td>\n",
       "    </tr>\n",
       "    <tr>\n",
       "      <th>25103</th>\n",
       "      <td>allrecipes.com</td>\n",
       "      <td>Hummus III</td>\n",
       "      <td>10</td>\n",
       "      <td>4.5</td>\n",
       "      <td>1200</td>\n",
       "      <td>[bean, lemon juice, salt, garlic, olive oil, p...</td>\n",
       "      <td>[2.0, 0.25, 1.0, 6.0, 1.0, 1.0, 1.0]</td>\n",
       "      <td>[cups, cup, teaspoon, g, tablespoon, pinch, te...</td>\n",
       "      <td>[[french green beans], [grape juice], [salt, g...</td>\n",
       "      <td>[0.53, 1.054, 1.28, 0.35, 0.918, 0.5, 0.5]</td>\n",
       "      <td>[265.0, 65.875, 6.4, 6.0, 13.770000000000001, ...</td>\n",
       "    </tr>\n",
       "  </tbody>\n",
       "</table>\n",
       "<p>25104 rows × 11 columns</p>\n",
       "</div>"
      ],
      "text/plain": [
       "              Website                                       Recipe  \\\n",
       "0            food.com         Ecuadorean Quinoa and Vegetable Soup   \n",
       "1            food.com                       Healthy Vegan Coleslaw   \n",
       "2            food.com                            Grilled Flatbread   \n",
       "3            food.com                        Lemon Tahini Dressing   \n",
       "4            food.com                     Homemade Fabric Softener   \n",
       "...               ...                                          ...   \n",
       "25099  allrecipes.com  Garbanzo Bean Chocolate Cake (Gluten Free!)   \n",
       "25100  allrecipes.com                              Marinated Salad   \n",
       "25101  allrecipes.com                          Asparagus with Junk   \n",
       "25102  allrecipes.com                           Broiled Sesame Cod   \n",
       "25103  allrecipes.com                                   Hummus III   \n",
       "\n",
       "      Prepare time Ranking Reviews  \\\n",
       "0               75    4.86      31   \n",
       "1               10       5       1   \n",
       "2               35    4.67      14   \n",
       "3                5    4.25       4   \n",
       "4                5    4.91      25   \n",
       "...            ...     ...     ...   \n",
       "25099           70     4.6     476   \n",
       "25100         1415     4.5       9   \n",
       "25101           35     4.5      18   \n",
       "25102           15     3.6      12   \n",
       "25103           10     4.5    1200   \n",
       "\n",
       "                                             Ingredients  \\\n",
       "0      [olive oil, salt, potato, green bell pepper, c...   \n",
       "1      [cabbage, apple cider vinegar, mustard, pepper...   \n",
       "2                        [yeast, olive oil, flour, salt]   \n",
       "3      [lemon juice, oil, soy sauce, water, garlic, s...   \n",
       "4                    [baking soda, white vinegar, water]   \n",
       "...                                                  ...   \n",
       "25099  [chocolate, bean, egg, white sugar, baking pow...   \n",
       "25100  [peas, green bean, celery, green bell pepper, ...   \n",
       "25101    [asparagus, mayonnaise, bread, parmesan cheese]   \n",
       "25102   [butter, lemon juice, black pepper, sesame seed]   \n",
       "25103  [bean, lemon juice, salt, garlic, olive oil, p...   \n",
       "\n",
       "                                              Quantities  \\\n",
       "0      [2.0, 1.0, 1.0, 1.0, 1.0, 1.0, 1.0, 0.5, 3.0, ...   \n",
       "1                          [908.0, 1.0, 1.0, 0.125, 1.0]   \n",
       "2                                 [0.5, 1.0, 1.333, 1.0]   \n",
       "3                   [0.25, 3.0, 1.0, 1.0, 3.0, 1.0, 1.0]   \n",
       "4                                        [1.0, 6.0, 8.0]   \n",
       "...                                                  ...   \n",
       "25099                     [1.500, 1.0, 224.0, 0.75, 0.5]   \n",
       "25100  [98.0, 1.0, 1.0, 0.5, 0.5, 1.0, 0.5, 1.0, 0.5,...   \n",
       "25101                              [12.0, 1.0, 0.5, 0.5]   \n",
       "25102                               [1.0, 1.0, 1.0, 1.0]   \n",
       "25103               [2.0, 0.25, 1.0, 6.0, 1.0, 1.0, 1.0]   \n",
       "\n",
       "                                                   Units  \\\n",
       "0      [tablespoons, teaspoon, cup, cup, teaspoon, te...   \n",
       "1            [g, tablespoon, tablespoon, teaspoon, dash]   \n",
       "2                 [teaspoon, tablespoon, cups, teaspoon]   \n",
       "3      [cup, tablespoons, tablespoon, tablespoon, g, ...   \n",
       "4                                      [cup, cups, cups]   \n",
       "...                                                  ...   \n",
       "25099                     [cups, -1.0, g, cup, teaspoon]   \n",
       "25100  [g, -1.0, cup, cup, cup, cup, teaspoon, teaspo...   \n",
       "25101                                 [g, cup, cup, cup]   \n",
       "25102            [teaspoon, teaspoon, pinch, tablespoon]   \n",
       "25103  [cups, cup, teaspoon, g, tablespoon, pinch, te...   \n",
       "\n",
       "                               ingredient correspondance  \\\n",
       "0      [[oil, vegetable, olive], [salt, granulated], ...   \n",
       "1      [[not found], [apple slices, dried], [not foun...   \n",
       "2      [[yeast], [oil, vegetable, olive], [barley, fl...   \n",
       "3      [[grape juice], [oil, palmoil], [sauce, soy], ...   \n",
       "4      [[baking powder], [not found], [water, ice, 0 ...   \n",
       "...                                                  ...   \n",
       "25099  [[milk, chocolate milk, skimmed], [french gree...   \n",
       "25100  [[pigeon peas, boiled], [french green beans], ...   \n",
       "25101  [[not found], [mayonnaise, light], [bread], [c...   \n",
       "25102  [[butter], [grape juice], [sweet pepper, raw, ...   \n",
       "25103  [[french green beans], [grape juice], [salt, g...   \n",
       "\n",
       "                                      ingredient density  \\\n",
       "0      [0.918, 1.28, 0.09, 0.51, 0.5, 0.5, 0.5, 0.51,...   \n",
       "1                           [0.5, 0.24, 0.5, 0.51, 1.28]   \n",
       "2                              [0.95, 0.918, 0.61, 1.28]   \n",
       "3           [1.054, 0.89, 1.12, 0.916, 0.35, 1.28, 0.51]   \n",
       "4                                      [0.9, 0.5, 0.916]   \n",
       "...                                                  ...   \n",
       "25099                     [1.056, 0.53, 0.37, 0.95, 0.9]   \n",
       "25100  [0.75, 0.53, 0.5, 0.51, 0.22, 0.95, 0.51, 1.28...   \n",
       "25101                             [0.5, 1.0, 0.29, 0.34]   \n",
       "25102                         [0.911, 1.054, 0.51, 0.62]   \n",
       "25103         [0.53, 1.054, 1.28, 0.35, 0.918, 0.5, 0.5]   \n",
       "\n",
       "                                         amount in grams  \n",
       "0      [27.540000000000003, 6.4, 22.5, 127.5, 2.5, 2....  \n",
       "1         [908.0, 3.5999999999999996, 7.5, 0.31875, 0.8]  \n",
       "2      [2.375, 13.770000000000001, 203.28249999999997...  \n",
       "3       [65.875, 40.05, 16.8, 13.74, 3.0, 0.4, 0.159375]  \n",
       "4                                 [225.0, 750.0, 1832.0]  \n",
       "...                                                  ...  \n",
       "25099      [396.0, 0.0, 224.0, 178.12499999999997, 2.25]  \n",
       "25100  [98.0, 0.0, 125.0, 63.75, 27.5, 237.5, 1.275, ...  \n",
       "25101                         [12.0, 250.0, 36.25, 42.5]  \n",
       "25102         [4.555, 5.2700000000000005, 0.159375, 9.3]  \n",
       "25103  [265.0, 65.875, 6.4, 6.0, 13.770000000000001, ...  \n",
       "\n",
       "[25104 rows x 11 columns]"
      ]
     },
     "execution_count": 202,
     "metadata": {},
     "output_type": "execute_result"
    }
   ],
   "source": [
    "recipe_data = recipe_data[recipe_data['Ingredients'].map(len) >= 3].reset_index(drop=True)"
   ]
  },
  {
   "cell_type": "markdown",
   "metadata": {},
   "source": [
    "##### Save data with pickle:"
   ]
  },
  {
   "cell_type": "code",
   "execution_count": 203,
   "metadata": {},
   "outputs": [],
   "source": [
    "recipe_data.to_pickle(\"data_pickles/recipe_data_V2.pkl\")"
   ]
  },
  {
   "cell_type": "code",
   "execution_count": 61,
   "metadata": {},
   "outputs": [],
   "source": [
    "with open('data_pickles/AcceptedList_Ingredients.pkl', 'wb') as f:\n",
    "    pickle.dump(AcceptedList_Ingredients, f)"
   ]
  },
  {
   "cell_type": "markdown",
   "metadata": {},
   "source": [
    "##### Retrieve data with pickle:"
   ]
  },
  {
   "cell_type": "code",
   "execution_count": 264,
   "metadata": {},
   "outputs": [],
   "source": [
    "recipe_data = pd.read_pickle(\"data_pickles/recipe_data_V2.pkl\")"
   ]
  },
  {
   "cell_type": "code",
   "execution_count": 266,
   "metadata": {},
   "outputs": [],
   "source": [
    "with open('data_pickles/AcceptedList_Ingredients.pkl', 'rb') as f:\n",
    "    AcceptedList_Ingredients = pickle.load(f)"
   ]
  },
  {
   "cell_type": "markdown",
   "metadata": {},
   "source": [
    "### Before computing machine learning models, we will create two dataframes :\n",
    "- Ranking_ingredients_binary : It contains the information if an ingredient is present or not in a recipe (two different classes : 0 and 1)\n",
    "- Ranking_ingredients_quantity : It contains the information of the quantity of each ingredient in a recipe. We will normalize these quantities such that the sum of each quantity in the recipe is equal to 1, as we are rather interested in the proportions than the absolute quantity. This will allow us to compare each recipes, no matter if the recipe is for 5 persons or not (if the total weight of the ingredients varies). \n",
    "\n",
    "For each dataframe, the first column is the rating of the recipe, and the following columns are the ingredients."
   ]
  },
  {
   "cell_type": "markdown",
   "metadata": {},
   "source": [
    "#### Let's create the Ranking_ingredients_quantity dataframe:"
   ]
  },
  {
   "cell_type": "code",
   "execution_count": 267,
   "metadata": {},
   "outputs": [
    {
     "ename": "KeyboardInterrupt",
     "evalue": "",
     "output_type": "error",
     "traceback": [
      "\u001b[1;31m---------------------------------------------------------------------------\u001b[0m",
      "\u001b[1;31mKeyboardInterrupt\u001b[0m                         Traceback (most recent call last)",
      "\u001b[1;32m<ipython-input-267-ffe9ad4dcd64>\u001b[0m in \u001b[0;36m<module>\u001b[1;34m\u001b[0m\n\u001b[0;32m     16\u001b[0m             \u001b[0mRanking_ingredients_quantity\u001b[0m\u001b[1;33m[\u001b[0m\u001b[0mi\u001b[0m\u001b[1;33m]\u001b[0m\u001b[1;33m.\u001b[0m\u001b[0miloc\u001b[0m\u001b[1;33m[\u001b[0m\u001b[0mf\u001b[0m\u001b[1;33m]\u001b[0m \u001b[1;33m=\u001b[0m \u001b[1;36m0\u001b[0m\u001b[1;33m\u001b[0m\u001b[1;33m\u001b[0m\u001b[0m\n\u001b[0;32m     17\u001b[0m         \u001b[1;32melse\u001b[0m\u001b[1;33m:\u001b[0m\u001b[1;33m\u001b[0m\u001b[1;33m\u001b[0m\u001b[0m\n\u001b[1;32m---> 18\u001b[1;33m             \u001b[0mRanking_ingredients_quantity\u001b[0m\u001b[1;33m[\u001b[0m\u001b[0mi\u001b[0m\u001b[1;33m]\u001b[0m\u001b[1;33m.\u001b[0m\u001b[0miloc\u001b[0m\u001b[1;33m[\u001b[0m\u001b[0mf\u001b[0m\u001b[1;33m]\u001b[0m \u001b[1;33m=\u001b[0m \u001b[0mfloat\u001b[0m\u001b[1;33m(\u001b[0m\u001b[0mweight\u001b[0m\u001b[1;33m[\u001b[0m\u001b[0miterator\u001b[0m\u001b[1;33m]\u001b[0m\u001b[1;33m)\u001b[0m\u001b[1;33m/\u001b[0m\u001b[0mtotalWeight\u001b[0m \u001b[1;31m# normalization\u001b[0m\u001b[1;33m\u001b[0m\u001b[1;33m\u001b[0m\u001b[0m\n\u001b[0m\u001b[0;32m     19\u001b[0m         \u001b[0miterator\u001b[0m \u001b[1;33m+=\u001b[0m \u001b[1;36m1\u001b[0m\u001b[1;33m\u001b[0m\u001b[1;33m\u001b[0m\u001b[0m\n",
      "\u001b[1;32mC:\\Anaconda3\\envs\\ada\\lib\\site-packages\\pandas\\core\\indexing.py\u001b[0m in \u001b[0;36m__setitem__\u001b[1;34m(self, key, value)\u001b[0m\n\u001b[0;32m    203\u001b[0m             \u001b[0mkey\u001b[0m \u001b[1;33m=\u001b[0m \u001b[0mcom\u001b[0m\u001b[1;33m.\u001b[0m\u001b[0mapply_if_callable\u001b[0m\u001b[1;33m(\u001b[0m\u001b[0mkey\u001b[0m\u001b[1;33m,\u001b[0m \u001b[0mself\u001b[0m\u001b[1;33m.\u001b[0m\u001b[0mobj\u001b[0m\u001b[1;33m)\u001b[0m\u001b[1;33m\u001b[0m\u001b[1;33m\u001b[0m\u001b[0m\n\u001b[0;32m    204\u001b[0m         \u001b[0mindexer\u001b[0m \u001b[1;33m=\u001b[0m \u001b[0mself\u001b[0m\u001b[1;33m.\u001b[0m\u001b[0m_get_setitem_indexer\u001b[0m\u001b[1;33m(\u001b[0m\u001b[0mkey\u001b[0m\u001b[1;33m)\u001b[0m\u001b[1;33m\u001b[0m\u001b[1;33m\u001b[0m\u001b[0m\n\u001b[1;32m--> 205\u001b[1;33m         \u001b[0mself\u001b[0m\u001b[1;33m.\u001b[0m\u001b[0m_setitem_with_indexer\u001b[0m\u001b[1;33m(\u001b[0m\u001b[0mindexer\u001b[0m\u001b[1;33m,\u001b[0m \u001b[0mvalue\u001b[0m\u001b[1;33m)\u001b[0m\u001b[1;33m\u001b[0m\u001b[1;33m\u001b[0m\u001b[0m\n\u001b[0m\u001b[0;32m    206\u001b[0m \u001b[1;33m\u001b[0m\u001b[0m\n\u001b[0;32m    207\u001b[0m     \u001b[1;32mdef\u001b[0m \u001b[0m_validate_key\u001b[0m\u001b[1;33m(\u001b[0m\u001b[0mself\u001b[0m\u001b[1;33m,\u001b[0m \u001b[0mkey\u001b[0m\u001b[1;33m,\u001b[0m \u001b[0maxis\u001b[0m\u001b[1;33m:\u001b[0m \u001b[0mint\u001b[0m\u001b[1;33m)\u001b[0m\u001b[1;33m:\u001b[0m\u001b[1;33m\u001b[0m\u001b[1;33m\u001b[0m\u001b[0m\n",
      "\u001b[1;32mC:\\Anaconda3\\envs\\ada\\lib\\site-packages\\pandas\\core\\indexing.py\u001b[0m in \u001b[0;36m_setitem_with_indexer\u001b[1;34m(self, indexer, value)\u001b[0m\n\u001b[0;32m    592\u001b[0m             \u001b[0mself\u001b[0m\u001b[1;33m.\u001b[0m\u001b[0mobj\u001b[0m\u001b[1;33m.\u001b[0m\u001b[0m_consolidate_inplace\u001b[0m\u001b[1;33m(\u001b[0m\u001b[1;33m)\u001b[0m\u001b[1;33m\u001b[0m\u001b[1;33m\u001b[0m\u001b[0m\n\u001b[0;32m    593\u001b[0m             \u001b[0mself\u001b[0m\u001b[1;33m.\u001b[0m\u001b[0mobj\u001b[0m\u001b[1;33m.\u001b[0m\u001b[0m_data\u001b[0m \u001b[1;33m=\u001b[0m \u001b[0mself\u001b[0m\u001b[1;33m.\u001b[0m\u001b[0mobj\u001b[0m\u001b[1;33m.\u001b[0m\u001b[0m_data\u001b[0m\u001b[1;33m.\u001b[0m\u001b[0msetitem\u001b[0m\u001b[1;33m(\u001b[0m\u001b[0mindexer\u001b[0m\u001b[1;33m=\u001b[0m\u001b[0mindexer\u001b[0m\u001b[1;33m,\u001b[0m \u001b[0mvalue\u001b[0m\u001b[1;33m=\u001b[0m\u001b[0mvalue\u001b[0m\u001b[1;33m)\u001b[0m\u001b[1;33m\u001b[0m\u001b[1;33m\u001b[0m\u001b[0m\n\u001b[1;32m--> 594\u001b[1;33m             \u001b[0mself\u001b[0m\u001b[1;33m.\u001b[0m\u001b[0mobj\u001b[0m\u001b[1;33m.\u001b[0m\u001b[0m_maybe_update_cacher\u001b[0m\u001b[1;33m(\u001b[0m\u001b[0mclear\u001b[0m\u001b[1;33m=\u001b[0m\u001b[1;32mTrue\u001b[0m\u001b[1;33m)\u001b[0m\u001b[1;33m\u001b[0m\u001b[1;33m\u001b[0m\u001b[0m\n\u001b[0m\u001b[0;32m    595\u001b[0m \u001b[1;33m\u001b[0m\u001b[0m\n\u001b[0;32m    596\u001b[0m     \u001b[1;32mdef\u001b[0m \u001b[0m_setitem_with_indexer_missing\u001b[0m\u001b[1;33m(\u001b[0m\u001b[0mself\u001b[0m\u001b[1;33m,\u001b[0m \u001b[0mindexer\u001b[0m\u001b[1;33m,\u001b[0m \u001b[0mvalue\u001b[0m\u001b[1;33m)\u001b[0m\u001b[1;33m:\u001b[0m\u001b[1;33m\u001b[0m\u001b[1;33m\u001b[0m\u001b[0m\n",
      "\u001b[1;32mC:\\Anaconda3\\envs\\ada\\lib\\site-packages\\pandas\\core\\generic.py\u001b[0m in \u001b[0;36m_maybe_update_cacher\u001b[1;34m(self, clear, verify_is_copy)\u001b[0m\n\u001b[0;32m   3346\u001b[0m             \u001b[1;32melse\u001b[0m\u001b[1;33m:\u001b[0m\u001b[1;33m\u001b[0m\u001b[1;33m\u001b[0m\u001b[0m\n\u001b[0;32m   3347\u001b[0m                 \u001b[1;32mtry\u001b[0m\u001b[1;33m:\u001b[0m\u001b[1;33m\u001b[0m\u001b[1;33m\u001b[0m\u001b[0m\n\u001b[1;32m-> 3348\u001b[1;33m                     \u001b[0mref\u001b[0m\u001b[1;33m.\u001b[0m\u001b[0m_maybe_cache_changed\u001b[0m\u001b[1;33m(\u001b[0m\u001b[0mcacher\u001b[0m\u001b[1;33m[\u001b[0m\u001b[1;36m0\u001b[0m\u001b[1;33m]\u001b[0m\u001b[1;33m,\u001b[0m \u001b[0mself\u001b[0m\u001b[1;33m)\u001b[0m\u001b[1;33m\u001b[0m\u001b[1;33m\u001b[0m\u001b[0m\n\u001b[0m\u001b[0;32m   3349\u001b[0m                 \u001b[1;32mexcept\u001b[0m \u001b[0mException\u001b[0m\u001b[1;33m:\u001b[0m\u001b[1;33m\u001b[0m\u001b[1;33m\u001b[0m\u001b[0m\n\u001b[0;32m   3350\u001b[0m                     \u001b[1;32mpass\u001b[0m\u001b[1;33m\u001b[0m\u001b[1;33m\u001b[0m\u001b[0m\n",
      "\u001b[1;32mC:\\Anaconda3\\envs\\ada\\lib\\site-packages\\pandas\\core\\generic.py\u001b[0m in \u001b[0;36m_maybe_cache_changed\u001b[1;34m(self, item, value)\u001b[0m\n\u001b[0;32m   3303\u001b[0m         \"\"\"The object has called back to us saying maybe it has changed.\n\u001b[0;32m   3304\u001b[0m         \"\"\"\n\u001b[1;32m-> 3305\u001b[1;33m         \u001b[0mself\u001b[0m\u001b[1;33m.\u001b[0m\u001b[0m_data\u001b[0m\u001b[1;33m.\u001b[0m\u001b[0mset\u001b[0m\u001b[1;33m(\u001b[0m\u001b[0mitem\u001b[0m\u001b[1;33m,\u001b[0m \u001b[0mvalue\u001b[0m\u001b[1;33m)\u001b[0m\u001b[1;33m\u001b[0m\u001b[1;33m\u001b[0m\u001b[0m\n\u001b[0m\u001b[0;32m   3306\u001b[0m \u001b[1;33m\u001b[0m\u001b[0m\n\u001b[0;32m   3307\u001b[0m     \u001b[1;33m@\u001b[0m\u001b[0mproperty\u001b[0m\u001b[1;33m\u001b[0m\u001b[1;33m\u001b[0m\u001b[0m\n",
      "\u001b[1;32mC:\\Anaconda3\\envs\\ada\\lib\\site-packages\\pandas\\core\\internals\\managers.py\u001b[0m in \u001b[0;36mset\u001b[1;34m(self, item, value)\u001b[0m\n\u001b[0;32m   1088\u001b[0m             \u001b[0mblk_locs\u001b[0m \u001b[1;33m=\u001b[0m \u001b[0mblklocs\u001b[0m\u001b[1;33m[\u001b[0m\u001b[0mval_locs\u001b[0m\u001b[1;33m.\u001b[0m\u001b[0mindexer\u001b[0m\u001b[1;33m]\u001b[0m\u001b[1;33m\u001b[0m\u001b[1;33m\u001b[0m\u001b[0m\n\u001b[0;32m   1089\u001b[0m             \u001b[1;32mif\u001b[0m \u001b[0mblk\u001b[0m\u001b[1;33m.\u001b[0m\u001b[0mshould_store\u001b[0m\u001b[1;33m(\u001b[0m\u001b[0mvalue\u001b[0m\u001b[1;33m)\u001b[0m\u001b[1;33m:\u001b[0m\u001b[1;33m\u001b[0m\u001b[1;33m\u001b[0m\u001b[0m\n\u001b[1;32m-> 1090\u001b[1;33m                 \u001b[0mblk\u001b[0m\u001b[1;33m.\u001b[0m\u001b[0mset\u001b[0m\u001b[1;33m(\u001b[0m\u001b[0mblk_locs\u001b[0m\u001b[1;33m,\u001b[0m \u001b[0mvalue_getitem\u001b[0m\u001b[1;33m(\u001b[0m\u001b[0mval_locs\u001b[0m\u001b[1;33m)\u001b[0m\u001b[1;33m)\u001b[0m\u001b[1;33m\u001b[0m\u001b[1;33m\u001b[0m\u001b[0m\n\u001b[0m\u001b[0;32m   1091\u001b[0m             \u001b[1;32melse\u001b[0m\u001b[1;33m:\u001b[0m\u001b[1;33m\u001b[0m\u001b[1;33m\u001b[0m\u001b[0m\n\u001b[0;32m   1092\u001b[0m                 \u001b[0munfit_mgr_locs\u001b[0m\u001b[1;33m.\u001b[0m\u001b[0mappend\u001b[0m\u001b[1;33m(\u001b[0m\u001b[0mblk\u001b[0m\u001b[1;33m.\u001b[0m\u001b[0mmgr_locs\u001b[0m\u001b[1;33m.\u001b[0m\u001b[0mas_array\u001b[0m\u001b[1;33m[\u001b[0m\u001b[0mblk_locs\u001b[0m\u001b[1;33m]\u001b[0m\u001b[1;33m)\u001b[0m\u001b[1;33m\u001b[0m\u001b[1;33m\u001b[0m\u001b[0m\n",
      "\u001b[1;32mC:\\Anaconda3\\envs\\ada\\lib\\site-packages\\pandas\\core\\internals\\blocks.py\u001b[0m in \u001b[0;36mset\u001b[1;34m(self, locs, values)\u001b[0m\n\u001b[0;32m    378\u001b[0m         \u001b[1;32mNone\u001b[0m\u001b[1;33m\u001b[0m\u001b[1;33m\u001b[0m\u001b[0m\n\u001b[0;32m    379\u001b[0m         \"\"\"\n\u001b[1;32m--> 380\u001b[1;33m         \u001b[0mself\u001b[0m\u001b[1;33m.\u001b[0m\u001b[0mvalues\u001b[0m\u001b[1;33m[\u001b[0m\u001b[0mlocs\u001b[0m\u001b[1;33m]\u001b[0m \u001b[1;33m=\u001b[0m \u001b[0mvalues\u001b[0m\u001b[1;33m\u001b[0m\u001b[1;33m\u001b[0m\u001b[0m\n\u001b[0m\u001b[0;32m    381\u001b[0m \u001b[1;33m\u001b[0m\u001b[0m\n\u001b[0;32m    382\u001b[0m     \u001b[1;32mdef\u001b[0m \u001b[0mdelete\u001b[0m\u001b[1;33m(\u001b[0m\u001b[0mself\u001b[0m\u001b[1;33m,\u001b[0m \u001b[0mloc\u001b[0m\u001b[1;33m)\u001b[0m\u001b[1;33m:\u001b[0m\u001b[1;33m\u001b[0m\u001b[1;33m\u001b[0m\u001b[0m\n",
      "\u001b[1;31mKeyboardInterrupt\u001b[0m: "
     ]
    }
   ],
   "source": [
    "nbVariables = len(AcceptedList_Ingredients) + 1\n",
    "nbDataPoints = recipe_data.shape[0]\n",
    "\n",
    "Ranking_ingredients_quantity = pd.DataFrame(0, index=np.arange(0,nbDataPoints), columns =['Ranking'] + [a for a in AcceptedList_Ingredients])\n",
    "\n",
    "for f in range(len(recipe_data['Ranking'])):\n",
    "    Ranking_ingredients_quantity['Ranking'].iloc[f] = recipe_data['Ranking'].iloc[f]\n",
    "    #Ranking_ingredients_dataframe['Prepare time'].iloc[f] = recipe_data['Prepare time'].iloc[f]\n",
    "    list_of_ingredients = recipe_data['Ingredients'].iloc[f]\n",
    "    number_of_ingredients = len(list_of_ingredients)\n",
    "    weight = recipe_data['amount in grams'].iloc[f]\n",
    "    totalWeight = sum([float(j) for j in weight])\n",
    "    iterator = 0\n",
    "    for i in list_of_ingredients:\n",
    "        if totalWeight == 0:\n",
    "            Ranking_ingredients_quantity[i].iloc[f] = 0\n",
    "        else:\n",
    "            Ranking_ingredients_quantity[i].iloc[f] = float(weight[iterator])/totalWeight # normalization\n",
    "        iterator += 1"
   ]
  },
  {
   "cell_type": "code",
   "execution_count": 52,
   "metadata": {},
   "outputs": [
    {
     "data": {
      "text/html": [
       "<div>\n",
       "<style scoped>\n",
       "    .dataframe tbody tr th:only-of-type {\n",
       "        vertical-align: middle;\n",
       "    }\n",
       "\n",
       "    .dataframe tbody tr th {\n",
       "        vertical-align: top;\n",
       "    }\n",
       "\n",
       "    .dataframe thead th {\n",
       "        text-align: right;\n",
       "    }\n",
       "</style>\n",
       "<table border=\"1\" class=\"dataframe\">\n",
       "  <thead>\n",
       "    <tr style=\"text-align: right;\">\n",
       "      <th></th>\n",
       "      <th>Ranking</th>\n",
       "      <th>salt</th>\n",
       "      <th>butter</th>\n",
       "      <th>egg</th>\n",
       "      <th>sugar</th>\n",
       "      <th>flour</th>\n",
       "      <th>garlic</th>\n",
       "      <th>onion</th>\n",
       "      <th>black pepper</th>\n",
       "      <th>water</th>\n",
       "      <th>...</th>\n",
       "      <th>pineapple juice</th>\n",
       "      <th>cooking spray</th>\n",
       "      <th>cheddar</th>\n",
       "      <th>pie shell</th>\n",
       "      <th>marjoram</th>\n",
       "      <th>caper</th>\n",
       "      <th>cayenne</th>\n",
       "      <th>black peppercorn</th>\n",
       "      <th>tofu</th>\n",
       "      <th>peanuts</th>\n",
       "    </tr>\n",
       "  </thead>\n",
       "  <tbody>\n",
       "    <tr>\n",
       "      <td>0</td>\n",
       "      <td>4.86</td>\n",
       "      <td>0.005272</td>\n",
       "      <td>0.0</td>\n",
       "      <td>0.0</td>\n",
       "      <td>0.0</td>\n",
       "      <td>0.000000</td>\n",
       "      <td>0.0</td>\n",
       "      <td>0.0</td>\n",
       "      <td>0.0</td>\n",
       "      <td>0.0</td>\n",
       "      <td>...</td>\n",
       "      <td>0.0</td>\n",
       "      <td>0.0</td>\n",
       "      <td>0.0</td>\n",
       "      <td>0.0</td>\n",
       "      <td>0.0</td>\n",
       "      <td>0.0</td>\n",
       "      <td>0.0</td>\n",
       "      <td>0.0</td>\n",
       "      <td>0.0</td>\n",
       "      <td>0.0</td>\n",
       "    </tr>\n",
       "    <tr>\n",
       "      <td>1</td>\n",
       "      <td>3.13</td>\n",
       "      <td>0.000000</td>\n",
       "      <td>0.0</td>\n",
       "      <td>0.0</td>\n",
       "      <td>0.0</td>\n",
       "      <td>0.000000</td>\n",
       "      <td>0.0</td>\n",
       "      <td>0.0</td>\n",
       "      <td>0.0</td>\n",
       "      <td>1.0</td>\n",
       "      <td>...</td>\n",
       "      <td>0.0</td>\n",
       "      <td>0.0</td>\n",
       "      <td>0.0</td>\n",
       "      <td>0.0</td>\n",
       "      <td>0.0</td>\n",
       "      <td>0.0</td>\n",
       "      <td>0.0</td>\n",
       "      <td>0.0</td>\n",
       "      <td>0.0</td>\n",
       "      <td>0.0</td>\n",
       "    </tr>\n",
       "    <tr>\n",
       "      <td>2</td>\n",
       "      <td>5</td>\n",
       "      <td>0.000869</td>\n",
       "      <td>0.0</td>\n",
       "      <td>0.0</td>\n",
       "      <td>0.0</td>\n",
       "      <td>0.000000</td>\n",
       "      <td>0.0</td>\n",
       "      <td>0.0</td>\n",
       "      <td>0.0</td>\n",
       "      <td>0.0</td>\n",
       "      <td>...</td>\n",
       "      <td>0.0</td>\n",
       "      <td>0.0</td>\n",
       "      <td>0.0</td>\n",
       "      <td>0.0</td>\n",
       "      <td>0.0</td>\n",
       "      <td>0.0</td>\n",
       "      <td>0.0</td>\n",
       "      <td>0.0</td>\n",
       "      <td>0.0</td>\n",
       "      <td>0.0</td>\n",
       "    </tr>\n",
       "    <tr>\n",
       "      <td>3</td>\n",
       "      <td>4.67</td>\n",
       "      <td>0.028340</td>\n",
       "      <td>0.0</td>\n",
       "      <td>0.0</td>\n",
       "      <td>0.0</td>\n",
       "      <td>0.900167</td>\n",
       "      <td>0.0</td>\n",
       "      <td>0.0</td>\n",
       "      <td>0.0</td>\n",
       "      <td>0.0</td>\n",
       "      <td>...</td>\n",
       "      <td>0.0</td>\n",
       "      <td>0.0</td>\n",
       "      <td>0.0</td>\n",
       "      <td>0.0</td>\n",
       "      <td>0.0</td>\n",
       "      <td>0.0</td>\n",
       "      <td>0.0</td>\n",
       "      <td>0.0</td>\n",
       "      <td>0.0</td>\n",
       "      <td>0.0</td>\n",
       "    </tr>\n",
       "    <tr>\n",
       "      <td>4</td>\n",
       "      <td>5</td>\n",
       "      <td>0.000000</td>\n",
       "      <td>0.0</td>\n",
       "      <td>0.0</td>\n",
       "      <td>0.0</td>\n",
       "      <td>0.000000</td>\n",
       "      <td>0.0</td>\n",
       "      <td>0.0</td>\n",
       "      <td>0.0</td>\n",
       "      <td>0.0</td>\n",
       "      <td>...</td>\n",
       "      <td>0.0</td>\n",
       "      <td>0.0</td>\n",
       "      <td>0.0</td>\n",
       "      <td>0.0</td>\n",
       "      <td>0.0</td>\n",
       "      <td>0.0</td>\n",
       "      <td>0.0</td>\n",
       "      <td>0.0</td>\n",
       "      <td>0.0</td>\n",
       "      <td>0.0</td>\n",
       "    </tr>\n",
       "  </tbody>\n",
       "</table>\n",
       "<p>5 rows × 213 columns</p>\n",
       "</div>"
      ],
      "text/plain": [
       "  Ranking      salt  butter  egg  sugar     flour  garlic  onion  \\\n",
       "0    4.86  0.005272     0.0  0.0    0.0  0.000000     0.0    0.0   \n",
       "1    3.13  0.000000     0.0  0.0    0.0  0.000000     0.0    0.0   \n",
       "2       5  0.000869     0.0  0.0    0.0  0.000000     0.0    0.0   \n",
       "3    4.67  0.028340     0.0  0.0    0.0  0.900167     0.0    0.0   \n",
       "4       5  0.000000     0.0  0.0    0.0  0.000000     0.0    0.0   \n",
       "\n",
       "   black pepper  water  ...  pineapple juice  cooking spray  cheddar  \\\n",
       "0           0.0    0.0  ...              0.0            0.0      0.0   \n",
       "1           0.0    1.0  ...              0.0            0.0      0.0   \n",
       "2           0.0    0.0  ...              0.0            0.0      0.0   \n",
       "3           0.0    0.0  ...              0.0            0.0      0.0   \n",
       "4           0.0    0.0  ...              0.0            0.0      0.0   \n",
       "\n",
       "   pie shell  marjoram  caper  cayenne  black peppercorn  tofu  peanuts  \n",
       "0        0.0       0.0    0.0      0.0               0.0   0.0      0.0  \n",
       "1        0.0       0.0    0.0      0.0               0.0   0.0      0.0  \n",
       "2        0.0       0.0    0.0      0.0               0.0   0.0      0.0  \n",
       "3        0.0       0.0    0.0      0.0               0.0   0.0      0.0  \n",
       "4        0.0       0.0    0.0      0.0               0.0   0.0      0.0  \n",
       "\n",
       "[5 rows x 213 columns]"
      ]
     },
     "execution_count": 52,
     "metadata": {},
     "output_type": "execute_result"
    }
   ],
   "source": [
    "Ranking_ingredients_quantity.head()"
   ]
  },
  {
   "cell_type": "markdown",
   "metadata": {},
   "source": [
    "##### Save data with pickle:"
   ]
  },
  {
   "cell_type": "code",
   "execution_count": 53,
   "metadata": {},
   "outputs": [],
   "source": [
    "#Save Ranking_ingredients_quantity\n",
    "Ranking_ingredients_quantity.to_pickle(\"data_pickles/Ranking_ingredients_quantity.pkl\")"
   ]
  },
  {
   "cell_type": "markdown",
   "metadata": {},
   "source": [
    "#### Let's create the Ranking_ingredients_binary dataframe"
   ]
  },
  {
   "cell_type": "code",
   "execution_count": 54,
   "metadata": {},
   "outputs": [],
   "source": [
    "nbVariables = len(AcceptedList_Ingredients) + 1\n",
    "nbDataPoints = recipe_data.shape[0]\n",
    "Ranking_ingredients_binary = pd.DataFrame(0, index=np.arange(0,nbDataPoints), columns =['Ranking'] + [a for a in AcceptedList_Ingredients])\n",
    "\n",
    "for f in range(len(recipe_data['Ranking'])):\n",
    "    Ranking_ingredients_binary['Ranking'].iloc[f] = recipe_data['Ranking'].iloc[f]\n",
    "    number_of_ingredients = len(recipe_data['Ingredients'].iloc[f])\n",
    "    weight = 0\n",
    "    if number_of_ingredients != 0:\n",
    "        weight = 1\n",
    "    for i in recipe_data['Ingredients'].iloc[f]:\n",
    "        Ranking_ingredients_binary[i].iloc[f] = weight "
   ]
  },
  {
   "cell_type": "code",
   "execution_count": 263,
   "metadata": {},
   "outputs": [
    {
     "data": {
      "text/html": [
       "<div>\n",
       "<style scoped>\n",
       "    .dataframe tbody tr th:only-of-type {\n",
       "        vertical-align: middle;\n",
       "    }\n",
       "\n",
       "    .dataframe tbody tr th {\n",
       "        vertical-align: top;\n",
       "    }\n",
       "\n",
       "    .dataframe thead th {\n",
       "        text-align: right;\n",
       "    }\n",
       "</style>\n",
       "<table border=\"1\" class=\"dataframe\">\n",
       "  <thead>\n",
       "    <tr style=\"text-align: right;\">\n",
       "      <th></th>\n",
       "      <th>Ranking</th>\n",
       "      <th>egg</th>\n",
       "      <th>sugar</th>\n",
       "      <th>flour</th>\n",
       "      <th>garlic</th>\n",
       "      <th>black pepper</th>\n",
       "      <th>water</th>\n",
       "      <th>olive oil</th>\n",
       "      <th>milk</th>\n",
       "      <th>white sugar</th>\n",
       "      <th>...</th>\n",
       "      <th>beef bouillon</th>\n",
       "      <th>poultry</th>\n",
       "      <th>taco</th>\n",
       "      <th>yellow bell pepper</th>\n",
       "      <th>leek</th>\n",
       "      <th>pineapple juice</th>\n",
       "      <th>cooking spray</th>\n",
       "      <th>caper</th>\n",
       "      <th>cayenne</th>\n",
       "      <th>tofu</th>\n",
       "    </tr>\n",
       "  </thead>\n",
       "  <tbody>\n",
       "    <tr>\n",
       "      <th>0</th>\n",
       "      <td>4.86</td>\n",
       "      <td>0.0</td>\n",
       "      <td>0.0</td>\n",
       "      <td>0.0</td>\n",
       "      <td>0.0</td>\n",
       "      <td>0.0</td>\n",
       "      <td>0.0</td>\n",
       "      <td>1.0</td>\n",
       "      <td>0.0</td>\n",
       "      <td>0.0</td>\n",
       "      <td>...</td>\n",
       "      <td>0.0</td>\n",
       "      <td>0.0</td>\n",
       "      <td>0.0</td>\n",
       "      <td>0.0</td>\n",
       "      <td>0.0</td>\n",
       "      <td>0.0</td>\n",
       "      <td>0.0</td>\n",
       "      <td>0.0</td>\n",
       "      <td>0.0</td>\n",
       "      <td>0.0</td>\n",
       "    </tr>\n",
       "    <tr>\n",
       "      <th>1</th>\n",
       "      <td>5.00</td>\n",
       "      <td>0.0</td>\n",
       "      <td>0.0</td>\n",
       "      <td>0.0</td>\n",
       "      <td>0.0</td>\n",
       "      <td>0.0</td>\n",
       "      <td>0.0</td>\n",
       "      <td>0.0</td>\n",
       "      <td>0.0</td>\n",
       "      <td>0.0</td>\n",
       "      <td>...</td>\n",
       "      <td>0.0</td>\n",
       "      <td>0.0</td>\n",
       "      <td>0.0</td>\n",
       "      <td>0.0</td>\n",
       "      <td>0.0</td>\n",
       "      <td>0.0</td>\n",
       "      <td>0.0</td>\n",
       "      <td>0.0</td>\n",
       "      <td>0.0</td>\n",
       "      <td>0.0</td>\n",
       "    </tr>\n",
       "    <tr>\n",
       "      <th>2</th>\n",
       "      <td>4.67</td>\n",
       "      <td>0.0</td>\n",
       "      <td>0.0</td>\n",
       "      <td>1.0</td>\n",
       "      <td>0.0</td>\n",
       "      <td>0.0</td>\n",
       "      <td>0.0</td>\n",
       "      <td>1.0</td>\n",
       "      <td>0.0</td>\n",
       "      <td>0.0</td>\n",
       "      <td>...</td>\n",
       "      <td>0.0</td>\n",
       "      <td>0.0</td>\n",
       "      <td>0.0</td>\n",
       "      <td>0.0</td>\n",
       "      <td>0.0</td>\n",
       "      <td>0.0</td>\n",
       "      <td>0.0</td>\n",
       "      <td>0.0</td>\n",
       "      <td>0.0</td>\n",
       "      <td>0.0</td>\n",
       "    </tr>\n",
       "    <tr>\n",
       "      <th>3</th>\n",
       "      <td>5.00</td>\n",
       "      <td>0.0</td>\n",
       "      <td>0.0</td>\n",
       "      <td>0.0</td>\n",
       "      <td>0.0</td>\n",
       "      <td>0.0</td>\n",
       "      <td>0.0</td>\n",
       "      <td>0.0</td>\n",
       "      <td>1.0</td>\n",
       "      <td>0.0</td>\n",
       "      <td>...</td>\n",
       "      <td>0.0</td>\n",
       "      <td>0.0</td>\n",
       "      <td>0.0</td>\n",
       "      <td>0.0</td>\n",
       "      <td>0.0</td>\n",
       "      <td>0.0</td>\n",
       "      <td>0.0</td>\n",
       "      <td>0.0</td>\n",
       "      <td>0.0</td>\n",
       "      <td>0.0</td>\n",
       "    </tr>\n",
       "    <tr>\n",
       "      <th>4</th>\n",
       "      <td>4.25</td>\n",
       "      <td>0.0</td>\n",
       "      <td>0.0</td>\n",
       "      <td>0.0</td>\n",
       "      <td>1.0</td>\n",
       "      <td>0.0</td>\n",
       "      <td>1.0</td>\n",
       "      <td>0.0</td>\n",
       "      <td>0.0</td>\n",
       "      <td>0.0</td>\n",
       "      <td>...</td>\n",
       "      <td>0.0</td>\n",
       "      <td>0.0</td>\n",
       "      <td>0.0</td>\n",
       "      <td>0.0</td>\n",
       "      <td>0.0</td>\n",
       "      <td>0.0</td>\n",
       "      <td>0.0</td>\n",
       "      <td>0.0</td>\n",
       "      <td>0.0</td>\n",
       "      <td>0.0</td>\n",
       "    </tr>\n",
       "  </tbody>\n",
       "</table>\n",
       "<p>5 rows × 127 columns</p>\n",
       "</div>"
      ],
      "text/plain": [
       "   Ranking  egg  sugar  flour  garlic  black pepper  water  olive oil  milk  \\\n",
       "0     4.86  0.0    0.0    0.0     0.0           0.0    0.0        1.0   0.0   \n",
       "1     5.00  0.0    0.0    0.0     0.0           0.0    0.0        0.0   0.0   \n",
       "2     4.67  0.0    0.0    1.0     0.0           0.0    0.0        1.0   0.0   \n",
       "3     5.00  0.0    0.0    0.0     0.0           0.0    0.0        0.0   1.0   \n",
       "4     4.25  0.0    0.0    0.0     1.0           0.0    1.0        0.0   0.0   \n",
       "\n",
       "   white sugar  ...  beef bouillon  poultry  taco  yellow bell pepper  leek  \\\n",
       "0          0.0  ...            0.0      0.0   0.0                 0.0   0.0   \n",
       "1          0.0  ...            0.0      0.0   0.0                 0.0   0.0   \n",
       "2          0.0  ...            0.0      0.0   0.0                 0.0   0.0   \n",
       "3          0.0  ...            0.0      0.0   0.0                 0.0   0.0   \n",
       "4          0.0  ...            0.0      0.0   0.0                 0.0   0.0   \n",
       "\n",
       "   pineapple juice  cooking spray  caper  cayenne  tofu  \n",
       "0              0.0            0.0    0.0      0.0   0.0  \n",
       "1              0.0            0.0    0.0      0.0   0.0  \n",
       "2              0.0            0.0    0.0      0.0   0.0  \n",
       "3              0.0            0.0    0.0      0.0   0.0  \n",
       "4              0.0            0.0    0.0      0.0   0.0  \n",
       "\n",
       "[5 rows x 127 columns]"
      ]
     },
     "execution_count": 263,
     "metadata": {},
     "output_type": "execute_result"
    }
   ],
   "source": [
    "Ranking_ingredients_binary.head()"
   ]
  },
  {
   "cell_type": "markdown",
   "metadata": {},
   "source": [
    "##### Save data with pickle:"
   ]
  },
  {
   "cell_type": "code",
   "execution_count": 58,
   "metadata": {},
   "outputs": [],
   "source": [
    "#Save Ranking_ingredients_binary\n",
    "Ranking_ingredients_binary.to_pickle(\"data_pickles/Ranking_ingredients_binary.pkl\")"
   ]
  },
  {
   "cell_type": "markdown",
   "metadata": {},
   "source": [
    "##### Retrieve both dataframes with pickle and convert them to float to be able to compute machine learning models with the data"
   ]
  },
  {
   "cell_type": "code",
   "execution_count": 268,
   "metadata": {},
   "outputs": [],
   "source": [
    "#Read the Ranking_ingredients_quantity\n",
    "Ranking_ingredients_quantity = pd.read_pickle(\"data_pickles/Ranking_ingredients_quantity.pkl\")\n",
    "Ranking_ingredients_quantity = Ranking_ingredients_quantity.astype(float)\n",
    "\n",
    "#Read the Ranking_ingredients_binary\n",
    "Ranking_ingredients_binary = pd.read_pickle(\"data_pickles/Ranking_ingredients_binary.pkl\")\n",
    "Ranking_ingredients_binary = Ranking_ingredients_binary.astype(float)"
   ]
  },
  {
   "cell_type": "markdown",
   "metadata": {},
   "source": [
    "### Drop recipes which don't have a rating and also drop duplicate recipes"
   ]
  },
  {
   "cell_type": "markdown",
   "metadata": {},
   "source": [
    "#### Drop for quantity dataframe"
   ]
  },
  {
   "cell_type": "code",
   "execution_count": 269,
   "metadata": {},
   "outputs": [],
   "source": [
    "#Drop recipe which are not Ranked\n",
    "rows_to_drop = Ranking_ingredients_quantity[Ranking_ingredients_quantity['Ranking']==0].index\n",
    "Ranking_ingredients_quantity = Ranking_ingredients_quantity.drop(rows_to_drop)\n",
    "\n",
    "#Drop duplicates\n",
    "Ranking_ingredients_quantity = Ranking_ingredients_quantity.drop_duplicates()"
   ]
  },
  {
   "cell_type": "markdown",
   "metadata": {},
   "source": [
    "#### Drop for binary dataframe"
   ]
  },
  {
   "cell_type": "code",
   "execution_count": 270,
   "metadata": {},
   "outputs": [],
   "source": [
    "#Drop recipe which are not Ranked\n",
    "rows_to_drop = Ranking_ingredients_binary[Ranking_ingredients_binary['Ranking']==0].index\n",
    "Ranking_ingredients_binary = Ranking_ingredients_binary.drop(rows_to_drop)\n",
    "\n",
    "#Drop duplicates\n",
    "Ranking_ingredients_binary = Ranking_ingredients_binary.drop_duplicates()"
   ]
  },
  {
   "cell_type": "markdown",
   "metadata": {},
   "source": [
    "# Training and testing the Machine Learning models"
   ]
  },
  {
   "cell_type": "markdown",
   "metadata": {},
   "source": [
    "### Now that we have all our recipes in a dataframe where each ingredient as well as the rating are columns, we can compute the correlation matrix to select which ingredients will be kept for the machine learning models.\n",
    "Every step is done twice, once for the dataframe with quantity and one for the dataframe binary"
   ]
  },
  {
   "cell_type": "code",
   "execution_count": 271,
   "metadata": {},
   "outputs": [],
   "source": [
    "corrMatrix_quantity = Ranking_ingredients_quantity.corr()\n",
    "corrMatrix_binary = Ranking_ingredients_binary.corr()"
   ]
  },
  {
   "cell_type": "code",
   "execution_count": 272,
   "metadata": {},
   "outputs": [
    {
     "data": {
      "image/png": "[encoded data removed]",
      "text/plain": [
       "<Figure size 432x288 with 2 Axes>"
      ]
     },
     "metadata": {
      "needs_background": "light"
     },
     "output_type": "display_data"
    }
   ],
   "source": [
    "# illustration of the correlation between each variable and the ranking\n",
    "variableToRankingCorr_quantity = corrMatrix_quantity.iloc[0].drop('Ranking')\n",
    "variableToRankingCorr_binary = corrMatrix_binary.iloc[0].drop('Ranking')\n",
    "fig, ax = plt.subplots(1, 2)\n",
    "\n",
    "#fig.suptitle('Correlations of the ingredients and the ranking')\n",
    "ax[0].hist(variableToRankingCorr_binary,bins = 100)\n",
    "ax[0].set_title('Correlations for \\n binary dataframe')\n",
    "ax[0].set_xlabel('Correlations')\n",
    "ax[0].set_ylabel('counts')\n",
    "ax[1].hist(variableToRankingCorr_quantity,bins = 100)\n",
    "ax[1].set_title('Correlations for \\n quantity dataframe')\n",
    "ax[1].set_xlabel('Correlations')\n",
    "ax[1].set_ylabel('counts')\n",
    "plt.tight_layout()\n",
    "plt.show()"
   ]
  },
  {
   "cell_type": "markdown",
   "metadata": {},
   "source": [
    "#### Visualization of the ingredients kept with the binary dataframe:\n",
    "\n",
    "The ingredients above a value of 0.01 in correlation (shown with the red lines) are kept."
   ]
  },
  {
   "cell_type": "code",
   "execution_count": 273,
   "metadata": {},
   "outputs": [
    {
     "data": {
      "image/png": "[encoded data removed]",
      "text/plain": [
       "<Figure size 432x288 with 1 Axes>"
      ]
     },
     "metadata": {
      "needs_background": "light"
     },
     "output_type": "display_data"
    }
   ],
   "source": [
    "#Show the ingredients kept (higher correlation that 0.01)\n",
    "variableToRankingCorr_binary.plot.hist(bins=50)\n",
    "\n",
    "plt.axvline(x=0.01, color='r', linestyle='--')\n",
    "plt.axvline(x=-0.01, color='r', linestyle='--')\n",
    "plt.title('Correlation of the ingredients with the rating')\n",
    "plt.xlabel('Correlation')\n",
    "plt.ylabel('Nb of ingredients with given correlation')\n",
    "plt.show()"
   ]
  },
  {
   "cell_type": "markdown",
   "metadata": {},
   "source": [
    "We can see on this histogram that most of the variables are not correlated a lot with the ranking. Thus, we can select our features by keeping only the variables which have a reasonnable correlation with the ranking. This method of selection gives representative results if the variables are linear enough with the ranking."
   ]
  },
  {
   "cell_type": "code",
   "execution_count": 274,
   "metadata": {},
   "outputs": [
    {
     "name": "stdout",
     "output_type": "stream",
     "text": [
      "number of features for binary dataframe : 126\n",
      "number of features for quantity dataframe : 84\n"
     ]
    }
   ],
   "source": [
    "# We will choose a threshold such as we keep only the correlations bigger than it.\n",
    "threshold = 0.01\n",
    "variableToKeep_binary = variableToRankingCorr_binary[np.abs(variableToRankingCorr_binary) > threshold]\n",
    "variableToKeep_binary = variableToKeep_binary.index.values\n",
    "features_binary = variableToKeep_binary\n",
    "print('number of features for binary dataframe : {}'.format(len(features_binary)))\n",
    "variableToKeep_quantity = variableToRankingCorr_quantity[np.abs(variableToRankingCorr_quantity) > threshold]\n",
    "variableToKeep_quantity = variableToKeep_quantity.index.values\n",
    "features_quantity = variableToKeep_quantity\n",
    "print('number of features for quantity dataframe : {}'.format(len(features_quantity)))"
   ]
  },
  {
   "cell_type": "markdown",
   "metadata": {},
   "source": [
    "Here we have a very easy way to select our features. We can now select a training set and a testing test, after what we can implement and test a regression model of order 1."
   ]
  },
  {
   "cell_type": "markdown",
   "metadata": {},
   "source": [
    "### Drop every ingredient (column) that doesn't have enough correlation with the final rating\n",
    "\n",
    "This is done for both dataframes"
   ]
  },
  {
   "cell_type": "code",
   "execution_count": 275,
   "metadata": {},
   "outputs": [
    {
     "data": {
      "text/html": [
       "<div>\n",
       "<style scoped>\n",
       "    .dataframe tbody tr th:only-of-type {\n",
       "        vertical-align: middle;\n",
       "    }\n",
       "\n",
       "    .dataframe tbody tr th {\n",
       "        vertical-align: top;\n",
       "    }\n",
       "\n",
       "    .dataframe thead th {\n",
       "        text-align: right;\n",
       "    }\n",
       "</style>\n",
       "<table border=\"1\" class=\"dataframe\">\n",
       "  <thead>\n",
       "    <tr style=\"text-align: right;\">\n",
       "      <th></th>\n",
       "      <th>Ranking</th>\n",
       "      <th>salt</th>\n",
       "      <th>egg</th>\n",
       "      <th>sugar</th>\n",
       "      <th>flour</th>\n",
       "      <th>onion</th>\n",
       "      <th>black pepper</th>\n",
       "      <th>water</th>\n",
       "      <th>olive oil</th>\n",
       "      <th>milk</th>\n",
       "      <th>...</th>\n",
       "      <th>cake flour</th>\n",
       "      <th>jalapeno</th>\n",
       "      <th>beer</th>\n",
       "      <th>spaghetti</th>\n",
       "      <th>onion soup</th>\n",
       "      <th>poultry</th>\n",
       "      <th>yellow bell pepper</th>\n",
       "      <th>pineapple juice</th>\n",
       "      <th>caper</th>\n",
       "      <th>cayenne</th>\n",
       "    </tr>\n",
       "  </thead>\n",
       "  <tbody>\n",
       "    <tr>\n",
       "      <th>0</th>\n",
       "      <td>4.86</td>\n",
       "      <td>0.005272</td>\n",
       "      <td>0.0</td>\n",
       "      <td>0.000000</td>\n",
       "      <td>0.000000</td>\n",
       "      <td>0.000000</td>\n",
       "      <td>0.0</td>\n",
       "      <td>0.000000</td>\n",
       "      <td>0.022685</td>\n",
       "      <td>0.000000</td>\n",
       "      <td>...</td>\n",
       "      <td>0.0</td>\n",
       "      <td>0.0</td>\n",
       "      <td>0.0</td>\n",
       "      <td>0.000000</td>\n",
       "      <td>0.0</td>\n",
       "      <td>0.0</td>\n",
       "      <td>0.0</td>\n",
       "      <td>0.0</td>\n",
       "      <td>0.0</td>\n",
       "      <td>0.0</td>\n",
       "    </tr>\n",
       "    <tr>\n",
       "      <th>1</th>\n",
       "      <td>5.00</td>\n",
       "      <td>0.000869</td>\n",
       "      <td>0.0</td>\n",
       "      <td>0.000000</td>\n",
       "      <td>0.000000</td>\n",
       "      <td>0.000000</td>\n",
       "      <td>0.0</td>\n",
       "      <td>0.000000</td>\n",
       "      <td>0.000000</td>\n",
       "      <td>0.000000</td>\n",
       "      <td>...</td>\n",
       "      <td>0.0</td>\n",
       "      <td>0.0</td>\n",
       "      <td>0.0</td>\n",
       "      <td>0.000000</td>\n",
       "      <td>0.0</td>\n",
       "      <td>0.0</td>\n",
       "      <td>0.0</td>\n",
       "      <td>0.0</td>\n",
       "      <td>0.0</td>\n",
       "      <td>0.0</td>\n",
       "    </tr>\n",
       "    <tr>\n",
       "      <th>2</th>\n",
       "      <td>4.67</td>\n",
       "      <td>0.028340</td>\n",
       "      <td>0.0</td>\n",
       "      <td>0.000000</td>\n",
       "      <td>0.900167</td>\n",
       "      <td>0.000000</td>\n",
       "      <td>0.0</td>\n",
       "      <td>0.000000</td>\n",
       "      <td>0.060976</td>\n",
       "      <td>0.000000</td>\n",
       "      <td>...</td>\n",
       "      <td>0.0</td>\n",
       "      <td>0.0</td>\n",
       "      <td>0.0</td>\n",
       "      <td>0.000000</td>\n",
       "      <td>0.0</td>\n",
       "      <td>0.0</td>\n",
       "      <td>0.0</td>\n",
       "      <td>0.0</td>\n",
       "      <td>0.0</td>\n",
       "      <td>0.0</td>\n",
       "    </tr>\n",
       "    <tr>\n",
       "      <th>3</th>\n",
       "      <td>5.00</td>\n",
       "      <td>0.000000</td>\n",
       "      <td>0.0</td>\n",
       "      <td>0.000000</td>\n",
       "      <td>0.000000</td>\n",
       "      <td>0.000000</td>\n",
       "      <td>0.0</td>\n",
       "      <td>0.000000</td>\n",
       "      <td>0.000000</td>\n",
       "      <td>0.972696</td>\n",
       "      <td>...</td>\n",
       "      <td>0.0</td>\n",
       "      <td>0.0</td>\n",
       "      <td>0.0</td>\n",
       "      <td>0.000000</td>\n",
       "      <td>0.0</td>\n",
       "      <td>0.0</td>\n",
       "      <td>0.0</td>\n",
       "      <td>0.0</td>\n",
       "      <td>0.0</td>\n",
       "      <td>0.0</td>\n",
       "    </tr>\n",
       "    <tr>\n",
       "      <th>4</th>\n",
       "      <td>4.25</td>\n",
       "      <td>0.002857</td>\n",
       "      <td>0.0</td>\n",
       "      <td>0.000000</td>\n",
       "      <td>0.000000</td>\n",
       "      <td>0.000000</td>\n",
       "      <td>0.0</td>\n",
       "      <td>0.098126</td>\n",
       "      <td>0.000000</td>\n",
       "      <td>0.000000</td>\n",
       "      <td>...</td>\n",
       "      <td>0.0</td>\n",
       "      <td>0.0</td>\n",
       "      <td>0.0</td>\n",
       "      <td>0.000000</td>\n",
       "      <td>0.0</td>\n",
       "      <td>0.0</td>\n",
       "      <td>0.0</td>\n",
       "      <td>0.0</td>\n",
       "      <td>0.0</td>\n",
       "      <td>0.0</td>\n",
       "    </tr>\n",
       "    <tr>\n",
       "      <th>5</th>\n",
       "      <td>4.91</td>\n",
       "      <td>0.000000</td>\n",
       "      <td>0.0</td>\n",
       "      <td>0.000000</td>\n",
       "      <td>0.000000</td>\n",
       "      <td>0.000000</td>\n",
       "      <td>0.0</td>\n",
       "      <td>0.652654</td>\n",
       "      <td>0.000000</td>\n",
       "      <td>0.000000</td>\n",
       "      <td>...</td>\n",
       "      <td>0.0</td>\n",
       "      <td>0.0</td>\n",
       "      <td>0.0</td>\n",
       "      <td>0.000000</td>\n",
       "      <td>0.0</td>\n",
       "      <td>0.0</td>\n",
       "      <td>0.0</td>\n",
       "      <td>0.0</td>\n",
       "      <td>0.0</td>\n",
       "      <td>0.0</td>\n",
       "    </tr>\n",
       "    <tr>\n",
       "      <th>6</th>\n",
       "      <td>5.00</td>\n",
       "      <td>0.000550</td>\n",
       "      <td>0.0</td>\n",
       "      <td>0.163354</td>\n",
       "      <td>0.000000</td>\n",
       "      <td>0.000000</td>\n",
       "      <td>0.0</td>\n",
       "      <td>0.000000</td>\n",
       "      <td>0.000000</td>\n",
       "      <td>0.527203</td>\n",
       "      <td>...</td>\n",
       "      <td>0.0</td>\n",
       "      <td>0.0</td>\n",
       "      <td>0.0</td>\n",
       "      <td>0.000000</td>\n",
       "      <td>0.0</td>\n",
       "      <td>0.0</td>\n",
       "      <td>0.0</td>\n",
       "      <td>0.0</td>\n",
       "      <td>0.0</td>\n",
       "      <td>0.0</td>\n",
       "    </tr>\n",
       "    <tr>\n",
       "      <th>7</th>\n",
       "      <td>4.75</td>\n",
       "      <td>0.001621</td>\n",
       "      <td>0.0</td>\n",
       "      <td>0.000000</td>\n",
       "      <td>0.000000</td>\n",
       "      <td>0.086128</td>\n",
       "      <td>0.0</td>\n",
       "      <td>0.000000</td>\n",
       "      <td>0.000000</td>\n",
       "      <td>0.000000</td>\n",
       "      <td>...</td>\n",
       "      <td>0.0</td>\n",
       "      <td>0.0</td>\n",
       "      <td>0.0</td>\n",
       "      <td>0.094994</td>\n",
       "      <td>0.0</td>\n",
       "      <td>0.0</td>\n",
       "      <td>0.0</td>\n",
       "      <td>0.0</td>\n",
       "      <td>0.0</td>\n",
       "      <td>0.0</td>\n",
       "    </tr>\n",
       "    <tr>\n",
       "      <th>8</th>\n",
       "      <td>4.81</td>\n",
       "      <td>0.000000</td>\n",
       "      <td>0.0</td>\n",
       "      <td>0.000000</td>\n",
       "      <td>0.000000</td>\n",
       "      <td>0.000000</td>\n",
       "      <td>0.0</td>\n",
       "      <td>0.000000</td>\n",
       "      <td>0.483387</td>\n",
       "      <td>0.000000</td>\n",
       "      <td>...</td>\n",
       "      <td>0.0</td>\n",
       "      <td>0.0</td>\n",
       "      <td>0.0</td>\n",
       "      <td>0.000000</td>\n",
       "      <td>0.0</td>\n",
       "      <td>0.0</td>\n",
       "      <td>0.0</td>\n",
       "      <td>0.0</td>\n",
       "      <td>0.0</td>\n",
       "      <td>0.0</td>\n",
       "    </tr>\n",
       "    <tr>\n",
       "      <th>9</th>\n",
       "      <td>5.00</td>\n",
       "      <td>0.000000</td>\n",
       "      <td>0.0</td>\n",
       "      <td>0.000000</td>\n",
       "      <td>0.000000</td>\n",
       "      <td>0.000000</td>\n",
       "      <td>0.0</td>\n",
       "      <td>0.000000</td>\n",
       "      <td>0.000000</td>\n",
       "      <td>0.000000</td>\n",
       "      <td>...</td>\n",
       "      <td>0.0</td>\n",
       "      <td>0.0</td>\n",
       "      <td>0.0</td>\n",
       "      <td>0.000000</td>\n",
       "      <td>0.0</td>\n",
       "      <td>0.0</td>\n",
       "      <td>0.0</td>\n",
       "      <td>0.0</td>\n",
       "      <td>0.0</td>\n",
       "      <td>0.0</td>\n",
       "    </tr>\n",
       "  </tbody>\n",
       "</table>\n",
       "<p>10 rows × 85 columns</p>\n",
       "</div>"
      ],
      "text/plain": [
       "   Ranking      salt  egg     sugar     flour     onion  black pepper  \\\n",
       "0     4.86  0.005272  0.0  0.000000  0.000000  0.000000           0.0   \n",
       "1     5.00  0.000869  0.0  0.000000  0.000000  0.000000           0.0   \n",
       "2     4.67  0.028340  0.0  0.000000  0.900167  0.000000           0.0   \n",
       "3     5.00  0.000000  0.0  0.000000  0.000000  0.000000           0.0   \n",
       "4     4.25  0.002857  0.0  0.000000  0.000000  0.000000           0.0   \n",
       "5     4.91  0.000000  0.0  0.000000  0.000000  0.000000           0.0   \n",
       "6     5.00  0.000550  0.0  0.163354  0.000000  0.000000           0.0   \n",
       "7     4.75  0.001621  0.0  0.000000  0.000000  0.086128           0.0   \n",
       "8     4.81  0.000000  0.0  0.000000  0.000000  0.000000           0.0   \n",
       "9     5.00  0.000000  0.0  0.000000  0.000000  0.000000           0.0   \n",
       "\n",
       "      water  olive oil      milk  ...  cake flour  jalapeno  beer  spaghetti  \\\n",
       "0  0.000000   0.022685  0.000000  ...         0.0       0.0   0.0   0.000000   \n",
       "1  0.000000   0.000000  0.000000  ...         0.0       0.0   0.0   0.000000   \n",
       "2  0.000000   0.060976  0.000000  ...         0.0       0.0   0.0   0.000000   \n",
       "3  0.000000   0.000000  0.972696  ...         0.0       0.0   0.0   0.000000   \n",
       "4  0.098126   0.000000  0.000000  ...         0.0       0.0   0.0   0.000000   \n",
       "5  0.652654   0.000000  0.000000  ...         0.0       0.0   0.0   0.000000   \n",
       "6  0.000000   0.000000  0.527203  ...         0.0       0.0   0.0   0.000000   \n",
       "7  0.000000   0.000000  0.000000  ...         0.0       0.0   0.0   0.094994   \n",
       "8  0.000000   0.483387  0.000000  ...         0.0       0.0   0.0   0.000000   \n",
       "9  0.000000   0.000000  0.000000  ...         0.0       0.0   0.0   0.000000   \n",
       "\n",
       "   onion soup  poultry  yellow bell pepper  pineapple juice  caper  cayenne  \n",
       "0         0.0      0.0                 0.0              0.0    0.0      0.0  \n",
       "1         0.0      0.0                 0.0              0.0    0.0      0.0  \n",
       "2         0.0      0.0                 0.0              0.0    0.0      0.0  \n",
       "3         0.0      0.0                 0.0              0.0    0.0      0.0  \n",
       "4         0.0      0.0                 0.0              0.0    0.0      0.0  \n",
       "5         0.0      0.0                 0.0              0.0    0.0      0.0  \n",
       "6         0.0      0.0                 0.0              0.0    0.0      0.0  \n",
       "7         0.0      0.0                 0.0              0.0    0.0      0.0  \n",
       "8         0.0      0.0                 0.0              0.0    0.0      0.0  \n",
       "9         0.0      0.0                 0.0              0.0    0.0      0.0  \n",
       "\n",
       "[10 rows x 85 columns]"
      ]
     },
     "execution_count": 275,
     "metadata": {},
     "output_type": "execute_result"
    }
   ],
   "source": [
    "columns_to_keep_binary = features_binary.tolist()\n",
    "columns_to_keep_binary.extend(['Ranking','Prepare time'])\n",
    "drop_columns_binary = list(set(Ranking_ingredients_binary.columns) - set(columns_to_keep_binary))  #List of columns to drop\n",
    "Ranking_ingredients_binary = Ranking_ingredients_binary.drop(drop_columns_binary, axis=1)\n",
    "\n",
    "columns_to_keep_quantity = features_quantity.tolist()\n",
    "columns_to_keep_quantity.extend(['Ranking','Prepare time'])\n",
    "drop_columns_quantity = list(set(Ranking_ingredients_quantity.columns) - set(columns_to_keep_quantity))  #List of columns to drop\n",
    "Ranking_ingredients_quantity = Ranking_ingredients_quantity.drop(drop_columns_quantity, axis=1)\n",
    "\n",
    "Ranking_ingredients_quantity.head(10)"
   ]
  },
  {
   "cell_type": "markdown",
   "metadata": {},
   "source": [
    "#### Save the result as pickle (V2) of Ranking_ingredients_quantity"
   ]
  },
  {
   "cell_type": "code",
   "execution_count": 76,
   "metadata": {},
   "outputs": [],
   "source": [
    "Ranking_ingredients_binary.to_pickle(\"data_pickles/Ranking_ingredients_binary_v2.pkl\")\n",
    "Ranking_ingredients_quantity.to_pickle(\"data_pickles/Ranking_ingredients_quantity_v2.pkl\")"
   ]
  },
  {
   "cell_type": "markdown",
   "metadata": {},
   "source": [
    "#### Read the result as pickle (V2) of Ranking_ingredients_quantity"
   ]
  },
  {
   "cell_type": "code",
   "execution_count": 276,
   "metadata": {},
   "outputs": [],
   "source": [
    "Ranking_ingredients_binary = pd.read_pickle(\"data_pickles/Ranking_ingredients_binary_v2.pkl\")\n",
    "Ranking_ingredients_quantity = pd.read_pickle(\"data_pickles/Ranking_ingredients_quantity_v2.pkl\")"
   ]
  },
  {
   "cell_type": "code",
   "execution_count": 277,
   "metadata": {},
   "outputs": [
    {
     "name": "stdout",
     "output_type": "stream",
     "text": [
      "Shape of binary dataframe : (24360, 127)\n",
      "Shape of quantity dataframe : (24549, 85)\n"
     ]
    }
   ],
   "source": [
    "print('Shape of binary dataframe : {}'.format(Ranking_ingredients_binary.shape))\n",
    "print('Shape of quantity dataframe : {}'.format(Ranking_ingredients_quantity.shape))"
   ]
  },
  {
   "cell_type": "markdown",
   "metadata": {},
   "source": [
    "## Now we implement the machine learning models. We try to predict the Rating by looking at the ingredients present in the recipes. \n",
    "\n",
    "## The first implementation is a linear regression using Rigide regression (continuous):"
   ]
  },
  {
   "cell_type": "markdown",
   "metadata": {},
   "source": [
    "First we split our dataset in train and test sets for both dataframes"
   ]
  },
  {
   "cell_type": "code",
   "execution_count": 278,
   "metadata": {},
   "outputs": [],
   "source": [
    "#Split the dataset for quantity dataframe\n",
    "train_x_q, test_x_q,train_y_q, test_y_q = train_test_split(Ranking_ingredients_quantity\\\n",
    "                        .drop(['Ranking'], axis = 1), Ranking_ingredients_quantity['Ranking'], test_size=0.30)\n",
    "#Split the dataset for binary dataframe\n",
    "train_x_b, test_x_b,train_y_b, test_y_b = train_test_split(Ranking_ingredients_binary\\\n",
    "                        .drop(['Ranking'], axis = 1), Ranking_ingredients_binary['Ranking'], test_size=0.30)"
   ]
  },
  {
   "cell_type": "markdown",
   "metadata": {},
   "source": [
    "We try to determine the best alpha to minimize the mean square error for our dataset."
   ]
  },
  {
   "cell_type": "code",
   "execution_count": 279,
   "metadata": {},
   "outputs": [],
   "source": [
    "alpha_range = np.linspace(0, 100, num=20)\n",
    "error_train_q = np.zeros(len(alpha_range))\n",
    "error_train_b = np.zeros(len(alpha_range))\n",
    "for reg_param in range(len(alpha_range)):\n",
    "    ridge = Ridge(alpha=alpha_range[reg_param])\n",
    "    scores_q = cross_validate(ridge,  train_x_q, train_y_q, cv=5,scoring=(\"neg_mean_squared_error\"))\n",
    "    scores_b = cross_validate(ridge,  train_x_b, train_y_b, cv=5,scoring=(\"neg_mean_squared_error\"))\n",
    "    error_train_q[reg_param] = np.abs(np.mean(scores_q[\"test_score\"]))\n",
    "    error_train_b[reg_param] = np.abs(np.mean(scores_b[\"test_score\"]))"
   ]
  },
  {
   "cell_type": "markdown",
   "metadata": {},
   "source": [
    "Plot the error depending on the alpha parameter to choose the one which minimizes the error:"
   ]
  },
  {
   "cell_type": "code",
   "execution_count": 280,
   "metadata": {},
   "outputs": [
    {
     "data": {
      "image/png": "[encoded data removed]",
      "text/plain": [
       "<Figure size 432x288 with 2 Axes>"
      ]
     },
     "metadata": {
      "needs_background": "light"
     },
     "output_type": "display_data"
    }
   ],
   "source": [
    "fig, ax = plt.subplots(1, 2)\n",
    "#fig.suptitle('Cross-validation error as a function of alpha')\n",
    "ax[0].plot(alpha_range, error_train_q)\n",
    "ax[0].set_title('Cross-validation error for \\n quantity dataframe')\n",
    "ax[0].set_xlabel('Regularization parameter alpha')\n",
    "ax[0].set_ylabel('Error for quantity dataframe')\n",
    "ax[1].plot(alpha_range, error_train_b)\n",
    "ax[1].set_title('Cross-validation error for \\n binary dataframe')\n",
    "ax[1].set_xlabel('Regularization parameter alpha')\n",
    "ax[1].set_ylabel('Error for binary dataframe')\n",
    "plt.tight_layout()\n",
    "plt.show()"
   ]
  },
  {
   "cell_type": "code",
   "execution_count": 281,
   "metadata": {},
   "outputs": [
    {
     "name": "stdout",
     "output_type": "stream",
     "text": [
      "The alpha for quantity dataframe giving the lowest error is: 5.2631578947368425\n",
      "The alpha for binary dataframe giving the lowest error is: 36.8421052631579\n"
     ]
    }
   ],
   "source": [
    "best_alpha_q = np.argmin(error_train_q)\n",
    "best_alpha_b = np.argmin(error_train_b)\n",
    "\n",
    "print('The alpha for quantity dataframe giving the lowest error is:', alpha_range[best_alpha_q])\n",
    "print('The alpha for binary dataframe giving the lowest error is:', alpha_range[best_alpha_b])"
   ]
  },
  {
   "cell_type": "markdown",
   "metadata": {},
   "source": [
    "We train the model with the best alpha we obtained above, and we test it over our test set to determine the error (with this step we can see if we are have overfitting):"
   ]
  },
  {
   "cell_type": "code",
   "execution_count": 282,
   "metadata": {},
   "outputs": [
    {
     "name": "stdout",
     "output_type": "stream",
     "text": [
      "Mean squared error for quantity dataframe : 0.24143711828650874\n",
      "Mean squared error for binary dataframe : 0.23833612693924391\n"
     ]
    }
   ],
   "source": [
    "#Test the model with quantity dataframe\n",
    "ridge_opt_q = Ridge(alpha = alpha_range[best_alpha_q])\n",
    "ridge_opt_q.fit(train_x_q, train_y_q)\n",
    "print('Mean squared error for quantity dataframe :', mean_squared_error(test_y_q, ridge_opt_q.predict(test_x_q)))\n",
    "\n",
    "ridge_opt_b = Ridge(alpha = alpha_range[best_alpha_b])\n",
    "ridge_opt_b.fit(train_x_b, train_y_b)\n",
    "print('Mean squared error for binary dataframe :', mean_squared_error(test_y_b, ridge_opt_b.predict(test_x_b)))"
   ]
  },
  {
   "cell_type": "markdown",
   "metadata": {},
   "source": [
    "We can see that the errors obtained are similar, so there is no meaning in the quantity of the ingredients (no supplementary information). To understand in a better way the ouput error of our model we can plot the boxplot of the ranking."
   ]
  },
  {
   "cell_type": "markdown",
   "metadata": {},
   "source": [
    "Boxplot of the Ranking"
   ]
  },
  {
   "cell_type": "code",
   "execution_count": 283,
   "metadata": {},
   "outputs": [
    {
     "data": {
      "image/png": "[encoded data removed]",
      "text/plain": [
       "<Figure size 432x288 with 1 Axes>"
      ]
     },
     "metadata": {
      "needs_background": "light"
     },
     "output_type": "display_data"
    },
    {
     "name": "stdout",
     "output_type": "stream",
     "text": [
      "The median of Rating is at: 4.6\n"
     ]
    }
   ],
   "source": [
    "plt.boxplot(Ranking_ingredients_quantity['Ranking'])\n",
    "plt.title('Ranking boxplot')\n",
    "plt.ylabel('Ranking of recipe')\n",
    "plt.show()\n",
    "print('The median of Rating is at:',Ranking_ingredients_quantity['Ranking'].quantile(0.5))"
   ]
  },
  {
   "cell_type": "markdown",
   "metadata": {},
   "source": [
    "So an error of approximately 0.24 for such a boxplot is not very good because our data is not very disperesed. As we can see almost all our ratings are between 4.2 and 4.8. So an error of 0.24 is big for this small range."
   ]
  },
  {
   "cell_type": "markdown",
   "metadata": {},
   "source": [
    "# Discret Machine learning programming\n",
    "\n",
    "We have not been able to determine with precision de ranking of a recipe. However, we can now try to predict if a recipe is good or not. To do this we separate the recipes in \"good\" or \"bad\" recipes depending on a threshold on the rating. The recipes above this threshold are considered \"good\" and the ones below are considered \"bad\"."
   ]
  },
  {
   "cell_type": "markdown",
   "metadata": {},
   "source": [
    "Useful function to reduce the computation times"
   ]
  },
  {
   "cell_type": "code",
   "execution_count": 284,
   "metadata": {},
   "outputs": [],
   "source": [
    "def Ranking_function(bottom_value,top_value,Ranking_value):\n",
    "    if Ranking_value > bottom_value:\n",
    "        if Ranking_value > top_value:\n",
    "            Ranking = 2.0\n",
    "        else:\n",
    "            Ranking = 1.0\n",
    "    else:\n",
    "        Ranking = 0.0\n",
    "    return Ranking\n",
    "\n",
    "def Ranking_function_unique(Ranking_threshold,Ranking_value):\n",
    "    if Ranking_value > Ranking_threshold:\n",
    "        Ranking = 1.0\n",
    "    else:\n",
    "        Ranking = 0.0\n",
    "    return Ranking\n",
    "\n",
    "def float2binary(value):\n",
    "    if value>0.5:\n",
    "        return 1.0\n",
    "    else:\n",
    "        return 0.0"
   ]
  },
  {
   "cell_type": "markdown",
   "metadata": {},
   "source": [
    "## Implement a Logistic Regression 'lbfgs' (discret)\n",
    "Implementation of a Logistic Regression 'lbfgs' to determine an output of 0 and 1. 0 means the recipe is bad and 1 means that the recipe is good. First, we try different values of the rating threshold to determine which one gives the best F1-score."
   ]
  },
  {
   "cell_type": "code",
   "execution_count": 285,
   "metadata": {},
   "outputs": [],
   "source": [
    "Ranking_threshold_list = np.linspace(3, 4.9, num=20)\n",
    "f1_score_list_q = np.zeros((len(Ranking_threshold_list),1))\n",
    "f1_score_list_b = np.zeros((len(Ranking_threshold_list),1))\n",
    "RI_Rating_threshold_q = Ranking_ingredients_quantity.copy()\n",
    "RI_Rating_threshold_b = Ranking_ingredients_binary.copy()\n",
    "\n",
    "for idx_Ranking in range(len(Ranking_threshold_list)):\n",
    "    Ranking = Ranking_threshold_list[idx_Ranking]\n",
    "    \n",
    "    #Determine if the recipe is good or not by putting 0 or 1 in the Ranking column\n",
    "    RI_Rating_threshold_q['Ranking'] = Ranking_ingredients_quantity['Ranking'].apply(lambda x:Ranking_function_unique(Ranking,x))\n",
    "    RI_Rating_threshold_b['Ranking'] = Ranking_ingredients_binary['Ranking'].apply(lambda x:Ranking_function_unique(Ranking,x))\n",
    "    \n",
    "    #Split the dataset in train and test\n",
    "    x_train_q, x_test_q,y_train_q, y_test_q = train_test_split(RI_Rating_threshold_q\\\n",
    "                    .drop(['Ranking'], axis = 1), RI_Rating_threshold_q['Ranking'], test_size=0.30)\n",
    "    x_train_b, x_test_b,y_train_b, y_test_b = train_test_split(RI_Rating_threshold_b\\\n",
    "                    .drop(['Ranking'], axis = 1), RI_Rating_threshold_b['Ranking'], test_size=0.30)\n",
    "    \n",
    "    #create the model \n",
    "    logistic_q = LogisticRegression(solver='lbfgs',multi_class='ovr',max_iter=500)\n",
    "    logistic_q.fit(x_train_q, y_train_q)\n",
    "    logistic_b = LogisticRegression(solver='lbfgs',multi_class='ovr',max_iter=500)\n",
    "    logistic_b.fit(x_train_b, y_train_b)\n",
    "\n",
    "    #predict the output\n",
    "    y_pred_q = logistic_q.predict(x_test_q)\n",
    "    y_pred_b = logistic_b.predict(x_test_b)\n",
    "\n",
    "    #test the model on the test set\n",
    "    f1_score_list_q[idx_Ranking] = f1_score(y_test_q, y_pred_q, average='macro')\n",
    "    f1_score_list_b[idx_Ranking] = f1_score(y_test_b, y_pred_b, average='macro')"
   ]
  },
  {
   "cell_type": "markdown",
   "metadata": {},
   "source": [
    "#### Visualization of the F1-score depending on the different thresholds for both dataframes"
   ]
  },
  {
   "cell_type": "code",
   "execution_count": 286,
   "metadata": {},
   "outputs": [
    {
     "data": {
      "image/png": "[encoded data removed]",
      "text/plain": [
       "<Figure size 432x288 with 2 Axes>"
      ]
     },
     "metadata": {
      "needs_background": "light"
     },
     "output_type": "display_data"
    }
   ],
   "source": [
    "fig, ax = plt.subplots(1, 2)\n",
    "#fig.suptitle('Cross-validation error as a function of alpha')\n",
    "ax[0].plot( Ranking_threshold_list, f1_score_list_q)\n",
    "ax[0].set_title('F1 score for \\n quantity dataframe')\n",
    "ax[0].set_xlabel('Threshold value')\n",
    "ax[0].set_ylabel('F1 score')\n",
    "ax[1].plot( Ranking_threshold_list, f1_score_list_b)\n",
    "ax[1].set_title('F1 score for \\n binary dataframe')\n",
    "ax[1].set_xlabel('Threshold value')\n",
    "ax[1].set_ylabel('F1 score')\n",
    "plt.tight_layout()\n",
    "plt.show()"
   ]
  },
  {
   "cell_type": "markdown",
   "metadata": {},
   "source": [
    "#### We find that the optimal threshold is 4.5. Retrain the model with the threshold value giving the highest F1-score to plot the confusion matrix"
   ]
  },
  {
   "cell_type": "code",
   "execution_count": 287,
   "metadata": {},
   "outputs": [
    {
     "name": "stdout",
     "output_type": "stream",
     "text": [
      "For the quantity Dataframe the f1-score using logitic is: 0.5425878693717987 with a Ranking threshold: 4.5 and a confusion matrix (plot below):\n"
     ]
    },
    {
     "data": {
      "image/png": "[encoded data removed]",
      "text/plain": [
       "<Figure size 432x288 with 1 Axes>"
      ]
     },
     "metadata": {
      "needs_background": "light"
     },
     "output_type": "display_data"
    },
    {
     "name": "stdout",
     "output_type": "stream",
     "text": [
      "For the binary Dataframe the f1-score using logitic is: 0.5790861674903792 with a Ranking threshold: 4.6000000000000005 and a confusion matrix (plot below):\n"
     ]
    },
    {
     "data": {
      "image/png": "[encoded data removed]",
      "text/plain": [
       "<Figure size 432x288 with 1 Axes>"
      ]
     },
     "metadata": {
      "needs_background": "light"
     },
     "output_type": "display_data"
    }
   ],
   "source": [
    "#Determine the index of the highest f1 measure\n",
    "index_argmax_q=np.argmax(f1_score_list_q)\n",
    "index_argmax_b=np.argmax(f1_score_list_b)\n",
    "\n",
    "#Determine if the recipe is good or not by putting 0 or 1 in the Ranking column\n",
    "RI_Rating_threshold_q['Ranking'] = Ranking_ingredients_quantity['Ranking'].apply(lambda x:Ranking_function_unique(Ranking_threshold_list[index_argmax_q],x))\n",
    "RI_Rating_threshold_b['Ranking'] = Ranking_ingredients_binary['Ranking'].apply(lambda x:Ranking_function_unique(Ranking_threshold_list[index_argmax_b],x))\n",
    "\n",
    "#Split the dataset in train and test\n",
    "x_train_q, x_test_q,y_train_q, y_test_q = train_test_split(RI_Rating_threshold_q\\\n",
    "                .drop(['Ranking'], axis = 1), RI_Rating_threshold_q['Ranking'], test_size=0.30)\n",
    "x_train_b, x_test_b,y_train_b, y_test_b = train_test_split(RI_Rating_threshold_b\\\n",
    "                .drop(['Ranking'], axis = 1), RI_Rating_threshold_b['Ranking'], test_size=0.30)\n",
    "\n",
    "#create the model \n",
    "logistic_q = LogisticRegression(solver='lbfgs',multi_class='ovr',max_iter=500)\n",
    "logistic_q.fit(x_train_q, y_train_q)\n",
    "logistic_b = LogisticRegression(solver='lbfgs',multi_class='ovr',max_iter=500)\n",
    "logistic_b.fit(x_train_b, y_train_b)\n",
    "\n",
    "#predict the output\n",
    "y_pred_q = logistic_q.predict(x_test_q)\n",
    "y_pred_b = logistic_b.predict(x_test_b)\n",
    "\n",
    "#test the model on the test set to determine f1\n",
    "f1_score_list_optimized_q = f1_score(y_test_q, y_pred_q, average='macro')\n",
    "f1_score_list_optimized_b = f1_score(y_test_b, y_pred_b, average='macro')\n",
    "\n",
    "#Determine the confusion matrix\n",
    "confusion_matrix_q = confusion_matrix(y_test_q, y_pred_q)\n",
    "confusion_matrix_b = confusion_matrix(y_test_b, y_pred_b)\n",
    "\n",
    "\n",
    "#Print our result\n",
    "\n",
    "#For the quantity Dataframe\n",
    "print('For the quantity Dataframe the f1-score using logitic is:',f1_score_list_optimized_q,'with a Ranking threshold:',Ranking_threshold_list[index_argmax_q],'and a confusion matrix (plot below):')\n",
    "#To print in a nice way the confusion matrix \n",
    "fig, ax = plot_confusion_matrix(conf_mat=confusion_matrix_q)\n",
    "plt.show()\n",
    "\n",
    "#For the quantity Dataframe\n",
    "print('For the binary Dataframe the f1-score using logitic is:',f1_score_list_optimized_b,'with a Ranking threshold:',Ranking_threshold_list[index_argmax_b],'and a confusion matrix (plot below):')\n",
    "#To print in a nice way the confusion matrix \n",
    "fig, ax = plot_confusion_matrix(conf_mat=confusion_matrix_b)\n",
    "plt.show()"
   ]
  },
  {
   "cell_type": "markdown",
   "metadata": {},
   "source": [
    "## Implementation of Random forests (discret)"
   ]
  },
  {
   "cell_type": "markdown",
   "metadata": {},
   "source": [
    "As we have seen with the previous ML model, the best Rating threshold is 4.5 and because we don't want to complexify the problem we will use a Rating threshold of 4.5 for all our futurs models.\n",
    "- In the Random forest model we will tune the max_depth paramter "
   ]
  },
  {
   "cell_type": "code",
   "execution_count": 288,
   "metadata": {},
   "outputs": [],
   "source": [
    "max_depth_list = np.linspace(1, 1000, num=10)\n",
    "f1_score_list_q = np.zeros((len(max_depth_list),1))\n",
    "f1_score_list_b = np.zeros((len(max_depth_list),1))\n",
    "RI_Rating_threshold_q = Ranking_ingredients_quantity.copy()\n",
    "RI_Rating_threshold_b = Ranking_ingredients_binary.copy()\n",
    "Ranking = 4.5\n",
    "\n",
    "\n",
    "for idx_max_depth in range(len(max_depth_list)):\n",
    "    max_depth_i = max_depth_list[idx_max_depth]\n",
    "    \n",
    "    #Determine if the recipe is good or not by putting 0 or 1 in the Ranking column\n",
    "    RI_Rating_threshold_q['Ranking'] = Ranking_ingredients_quantity['Ranking'].apply(lambda x:Ranking_function_unique(Ranking,x))\n",
    "    RI_Rating_threshold_b['Ranking'] = Ranking_ingredients_binary['Ranking'].apply(lambda x:Ranking_function_unique(Ranking,x))\n",
    "    \n",
    "    #Split the dataset in train and test\n",
    "    x_train_q, x_test_q,y_train_q, y_test_q = train_test_split(RI_Rating_threshold_q\\\n",
    "                    .drop(['Ranking'], axis = 1), RI_Rating_threshold_q['Ranking'], test_size=0.30)\n",
    "    x_train_b, x_test_b,y_train_b, y_test_b = train_test_split(RI_Rating_threshold_b\\\n",
    "                    .drop(['Ranking'], axis = 1), RI_Rating_threshold_b['Ranking'], test_size=0.30)\n",
    "    \n",
    "    #create the model \n",
    "    RF_q = RandomForestRegressor(max_depth=max_depth_i,random_state=0)\n",
    "    RF_q.fit(x_train_q, y_train_q)\n",
    "    RF_b = RandomForestRegressor(max_depth=max_depth_i,random_state=0)\n",
    "    RF_b.fit(x_train_b, y_train_b)\n",
    "\n",
    "    #predict the output\n",
    "    y_pred_q = RF_q.predict(x_test_q)\n",
    "    y_pred_b = RF_b.predict(x_test_b)\n",
    "    \n",
    "    #We have to create a bolean output, we don't want value between 0 and 1 but we want 0 or 1, this is done by using a threshold at 0.5\n",
    "    y_pred_q = pd.Series(y_pred_q)\n",
    "    y_pred_q = y_pred_q.apply(lambda x:float2binary(x))\n",
    "    y_pred_b = pd.Series(y_pred_b)\n",
    "    y_pred_b = y_pred_b.apply(lambda x:float2binary(x))\n",
    "\n",
    "    #test the model on the test set\n",
    "    f1_score_list_q[idx_max_depth] = f1_score(y_test_q, y_pred_q, average='macro')\n",
    "    f1_score_list_b[idx_max_depth] = f1_score(y_test_b, y_pred_b, average='macro')"
   ]
  },
  {
   "cell_type": "markdown",
   "metadata": {},
   "source": [
    "#### Visualization of the F1-score depending on the maximum depth of the forests"
   ]
  },
  {
   "cell_type": "code",
   "execution_count": 289,
   "metadata": {},
   "outputs": [
    {
     "data": {
      "image/png": "[encoded data removed]",
      "text/plain": [
       "<Figure size 432x288 with 2 Axes>"
      ]
     },
     "metadata": {
      "needs_background": "light"
     },
     "output_type": "display_data"
    }
   ],
   "source": [
    "fig, ax = plt.subplots(1, 2)\n",
    "#fig.suptitle('Cross-validation error as a function of alpha')\n",
    "ax[0].plot(max_depth_list, f1_score_list_q)\n",
    "ax[0].set_title('F1 score for \\n quantity dataframe')\n",
    "ax[0].set_xlabel('Max depth of RF value')\n",
    "ax[0].set_ylabel('F1 score')\n",
    "ax[1].plot(max_depth_list, f1_score_list_b)\n",
    "ax[1].set_title('F1 score for \\n binary dataframe')\n",
    "ax[1].set_xlabel('Max depth of RF value')\n",
    "ax[1].set_ylabel('F1 score')\n",
    "plt.tight_layout()\n",
    "plt.show()"
   ]
  },
  {
   "cell_type": "markdown",
   "metadata": {},
   "source": [
    "#### Retrain the model with the maximum depth value that gives the highest f1 score to plot the confusion matrix"
   ]
  },
  {
   "cell_type": "code",
   "execution_count": 290,
   "metadata": {},
   "outputs": [
    {
     "name": "stdout",
     "output_type": "stream",
     "text": [
      "For the quantity Dataframe the f1-score using Random Forests is: 0.5425878693717987 with a max depth value: 667.0 and a confusion matrix (plot below):\n"
     ]
    },
    {
     "data": {
      "image/png": "[encoded data removed]",
      "text/plain": [
       "<Figure size 432x288 with 1 Axes>"
      ]
     },
     "metadata": {
      "needs_background": "light"
     },
     "output_type": "display_data"
    },
    {
     "name": "stdout",
     "output_type": "stream",
     "text": [
      "For the binary Dataframe the f1-score using Random Forests is: 0.5790861674903792 with a max depth value: 667.0 and a confusion matrix (plot below):\n"
     ]
    },
    {
     "data": {
      "image/png": "[encoded data removed]",
      "text/plain": [
       "<Figure size 432x288 with 1 Axes>"
      ]
     },
     "metadata": {
      "needs_background": "light"
     },
     "output_type": "display_data"
    }
   ],
   "source": [
    "#Determine the index of the highest f1 measure\n",
    "index_argmax_q = np.argmax(f1_score_list_q)\n",
    "index_argmax_b = np.argmax(f1_score_list_b)\n",
    "\n",
    "max_depth_q = max_depth_list[index_argmax_q]\n",
    "max_depth_b = max_depth_list[index_argmax_b]\n",
    "\n",
    "#Determine if the recipe is good or not by putting 0 or 1 in the Ranking column\n",
    "RI_Rating_threshold_q['Ranking'] = Ranking_ingredients_quantity['Ranking'].apply(lambda x:Ranking_function_unique(Ranking,x))\n",
    "RI_Rating_threshold_b['Ranking'] = Ranking_ingredients_binary['Ranking'].apply(lambda x:Ranking_function_unique(Ranking,x))\n",
    "\n",
    "#Split the dataset in train and test\n",
    "x_train_q, x_test_q,y_train_q, y_test_q = train_test_split(RI_Rating_threshold_q\\\n",
    "                .drop(['Ranking'], axis = 1), RI_Rating_threshold_q['Ranking'], test_size=0.30)\n",
    "x_train_b, x_test_b,y_train_b, y_test_b = train_test_split(RI_Rating_threshold_b\\\n",
    "                .drop(['Ranking'], axis = 1), RI_Rating_threshold_b['Ranking'], test_size=0.30)\n",
    "\n",
    "#create the model \n",
    "RF_q = RandomForestRegressor(max_depth=max_depth_q,random_state=0)\n",
    "RF_q.fit(x_train_q, y_train_q)\n",
    "RF_b = RandomForestRegressor(max_depth=max_depth_b,random_state=0)\n",
    "RF_b.fit(x_train_b, y_train_b)\n",
    "\n",
    "#predict the output\n",
    "y_pred_q = RF_q.predict(x_test_q)\n",
    "y_pred_b = RF_b.predict(x_test_b)\n",
    "\n",
    "#We have to create a bolean output, we don't want value between 0 and 1 but we want 0 or 1, this is done by using a threshold at 0.5\n",
    "y_pred_q = pd.Series(y_pred_q)\n",
    "y_pred_q = y_pred_q.apply(lambda x:float2binary(x))\n",
    "y_pred_b = pd.Series(y_pred_b)\n",
    "y_pred_b = y_pred_b.apply(lambda x:float2binary(x))\n",
    "\n",
    "#test the model on the test set\n",
    "f1_score_list_q[idx_max_depth] = f1_score(y_test_q, y_pred_q, average='macro')\n",
    "f1_score_list_b[idx_max_depth] = f1_score(y_test_b, y_pred_b, average='macro')\n",
    "\n",
    "#Determine the confusion matrix\n",
    "confusion_matrix_q = confusion_matrix(y_test_q, y_pred_q)\n",
    "confusion_matrix_b = confusion_matrix(y_test_b, y_pred_b)\n",
    "\n",
    "\n",
    "#Print our result\n",
    "\n",
    "#For the quantity Dataframe\n",
    "print('For the quantity Dataframe the f1-score using Random Forests is:',f1_score_list_optimized_q,'with a max depth value:',max_depth_q,'and a confusion matrix (plot below):')\n",
    "#To print in a nice way the confusion matrix \n",
    "fig, ax = plot_confusion_matrix(conf_mat=confusion_matrix_q)\n",
    "plt.show()\n",
    "\n",
    "#For the quantity Dataframe\n",
    "print('For the binary Dataframe the f1-score using Random Forests is:',f1_score_list_optimized_b,'with a max depth value:',max_depth_b,'and a confusion matrix (plot below):')\n",
    "#To print in a nice way the confusion matrix \n",
    "fig, ax = plot_confusion_matrix(conf_mat=confusion_matrix_b)\n",
    "plt.show()"
   ]
  },
  {
   "cell_type": "markdown",
   "metadata": {},
   "source": [
    "### Implementation of KNN (discret)"
   ]
  },
  {
   "cell_type": "markdown",
   "metadata": {},
   "source": [
    "- In the KNN model we tune the number of nearest neighbors"
   ]
  },
  {
   "cell_type": "code",
   "execution_count": 291,
   "metadata": {},
   "outputs": [],
   "source": [
    "n_neighbors_list = np.linspace(1, 100, num=10).astype(int)\n",
    "f1_score_list_q = np.zeros((len(n_neighbors_list),1))\n",
    "f1_score_list_b = np.zeros((len(n_neighbors_list),1))\n",
    "RI_Rating_threshold_q = Ranking_ingredients_quantity.copy()\n",
    "RI_Rating_threshold_b = Ranking_ingredients_binary.copy()\n",
    "Ranking = 4.5\n",
    "\n",
    "for idx_n_neighbors in range(len(n_neighbors_list)):\n",
    "    n_neighbors_i = n_neighbors_list[idx_n_neighbors]\n",
    "    \n",
    "    #Determine if the recipe is good or not by putting 0 or 1 in the Ranking column\n",
    "    RI_Rating_threshold_q['Ranking'] = Ranking_ingredients_quantity['Ranking'].apply(lambda x:Ranking_function_unique(Ranking,x))\n",
    "    RI_Rating_threshold_b['Ranking'] = Ranking_ingredients_binary['Ranking'].apply(lambda x:Ranking_function_unique(Ranking,x))\n",
    "    \n",
    "    #Split the dataset in train and test\n",
    "    x_train_q, x_test_q,y_train_q, y_test_q = train_test_split(RI_Rating_threshold_q\\\n",
    "                    .drop(['Ranking'], axis = 1), RI_Rating_threshold_q['Ranking'], test_size=0.30)\n",
    "    x_train_b, x_test_b,y_train_b, y_test_b = train_test_split(RI_Rating_threshold_b\\\n",
    "                    .drop(['Ranking'], axis = 1), RI_Rating_threshold_b['Ranking'], test_size=0.30)\n",
    "    \n",
    "    #create the model \n",
    "    KNN_q = KNeighborsClassifier(n_neighbors=n_neighbors_i)\n",
    "    KNN_q.fit(x_train_q, y_train_q)\n",
    "    KNN_b = KNeighborsClassifier(n_neighbors=n_neighbors_i)\n",
    "    KNN_b.fit(x_train_b, y_train_b)\n",
    "\n",
    "    #predict the output\n",
    "    y_pred_q = logistic_q.predict(x_test_q)\n",
    "    y_pred_b = logistic_b.predict(x_test_b)\n",
    "\n",
    "    #test the model on the test set\n",
    "    f1_score_list_q[idx_n_neighbors] = f1_score(y_test_q, y_pred_q, average='macro')\n",
    "    f1_score_list_b[idx_n_neighbors] = f1_score(y_test_b, y_pred_b, average='macro')"
   ]
  },
  {
   "cell_type": "markdown",
   "metadata": {},
   "source": [
    "#### Visualization of the F1-score depending on number of nearest neighbors"
   ]
  },
  {
   "cell_type": "code",
   "execution_count": 292,
   "metadata": {},
   "outputs": [
    {
     "data": {
      "image/png": "[encoded data removed]",
      "text/plain": [
       "<Figure size 432x288 with 2 Axes>"
      ]
     },
     "metadata": {
      "needs_background": "light"
     },
     "output_type": "display_data"
    }
   ],
   "source": [
    "fig, ax = plt.subplots(1, 2)\n",
    "#fig.suptitle('Cross-validation error as a function of alpha')\n",
    "ax[0].plot(n_neighbors_list, f1_score_list_q)\n",
    "ax[0].set_title('F1 score for KNN \\n quantity dataframe')\n",
    "ax[0].set_xlabel('Number of nearest neighbors')\n",
    "ax[0].set_ylabel('F1 score')\n",
    "ax[1].plot(n_neighbors_list, f1_score_list_b)\n",
    "ax[1].set_title('F1 score for KNN \\n binary dataframe')\n",
    "ax[1].set_xlabel('Nombre of nearest neighbors')\n",
    "ax[1].set_ylabel('F1 score')\n",
    "plt.tight_layout()\n",
    "plt.show()"
   ]
  },
  {
   "cell_type": "markdown",
   "metadata": {},
   "source": [
    "#### Retrain the model with the number of nearest neighbors that gives the highest F1-score to plot the confusion matrix"
   ]
  },
  {
   "cell_type": "code",
   "execution_count": 300,
   "metadata": {},
   "outputs": [
    {
     "name": "stdout",
     "output_type": "stream",
     "text": [
      "For the quantity Dataframe the f1-score using KNN is: 0.5372616608379992 with a  number of nearest neighbors: 23 and a confusion matrix (plot below):\n"
     ]
    },
    {
     "data": {
      "image/png": "[encoded data removed]",
      "text/plain": [
       "<Figure size 432x288 with 1 Axes>"
      ]
     },
     "metadata": {
      "needs_background": "light"
     },
     "output_type": "display_data"
    },
    {
     "name": "stdout",
     "output_type": "stream",
     "text": [
      "For the binary Dataframe the f1-score using KNN is: 0.5536712005538825 with a  number of nearest neighbors: 12 and a confusion matrix (plot below):\n"
     ]
    },
    {
     "data": {
      "image/png": "[encoded data removed]",
      "text/plain": [
       "<Figure size 432x288 with 1 Axes>"
      ]
     },
     "metadata": {
      "needs_background": "light"
     },
     "output_type": "display_data"
    }
   ],
   "source": [
    "#Determine the index of the highest f1 measure\n",
    "index_argmax_q=np.argmax(f1_score_list_q)\n",
    "index_argmax_b=np.argmax(f1_score_list_b)\n",
    "\n",
    "n_neighbors_q = n_neighbors_list[index_argmax_q]\n",
    "n_neighbors_b = n_neighbors_list[index_argmax_b]\n",
    "#Determine if the recipe is good or not by putting 0 or 1 in the Ranking column\n",
    "RI_Rating_threshold_q['Ranking'] = Ranking_ingredients_quantity['Ranking'].apply(lambda x:Ranking_function_unique(Ranking,x))\n",
    "RI_Rating_threshold_b['Ranking'] = Ranking_ingredients_binary['Ranking'].apply(lambda x:Ranking_function_unique(Ranking,x))\n",
    "\n",
    "#Split the dataset in train and test\n",
    "x_train_q, x_test_q,y_train_q, y_test_q = train_test_split(RI_Rating_threshold_q\\\n",
    "                .drop(['Ranking'], axis = 1), RI_Rating_threshold_q['Ranking'], test_size=0.30)\n",
    "x_train_b, x_test_b,y_train_b, y_test_b = train_test_split(RI_Rating_threshold_b\\\n",
    "                .drop(['Ranking'], axis = 1), RI_Rating_threshold_b['Ranking'], test_size=0.30)\n",
    "\n",
    "#create the model \n",
    "KNN_q = KNeighborsClassifier(n_neighbors = n_neighbors_q)\n",
    "KNN_q.fit(x_train_q, y_train_q)\n",
    "KNN_b = KNeighborsClassifier(n_neighbors = n_neighbors_b)\n",
    "KNN_b.fit(x_train_b, y_train_b)\n",
    "\n",
    "#predict the output\n",
    "y_pred_q = KNN_q.predict(x_test_q)\n",
    "y_pred_b = KNN_b.predict(x_test_b)\n",
    "\n",
    "#test the model on the test set to determine f1\n",
    "f1_score_list_optimized_q = f1_score(y_test_q, y_pred_q, average='macro')\n",
    "f1_score_list_optimized_b = f1_score(y_test_b, y_pred_b, average='macro')\n",
    "\n",
    "#Determine the confusion matrix\n",
    "confusion_matrix_q = confusion_matrix(y_test_q, y_pred_q)\n",
    "confusion_matrix_b = confusion_matrix(y_test_b, y_pred_b)\n",
    "\n",
    "\n",
    "#Print our result\n",
    "\n",
    "#For the quantity Dataframe\n",
    "print('For the quantity Dataframe the f1-score using KNN is:',f1_score_list_optimized_q,'with a  number of nearest neighbors:',n_neighbors_q,'and a confusion matrix (plot below):')\n",
    "#To print in a nice way the confusion matrix \n",
    "fig, ax = plot_confusion_matrix(conf_mat=confusion_matrix_q)\n",
    "plt.show()\n",
    "\n",
    "#For the quantity Dataframe\n",
    "print('For the binary Dataframe the f1-score using KNN is:',f1_score_list_optimized_b,'with a  number of nearest neighbors:',n_neighbors_b,'and a confusion matrix (plot below):')\n",
    "#To print in a nice way the confusion matrix \n",
    "fig, ax = plot_confusion_matrix(conf_mat=confusion_matrix_b)\n",
    "plt.show()"
   ]
  },
  {
   "cell_type": "markdown",
   "metadata": {},
   "source": [
    "### Implementation of Neural Networks (discret)\n",
    "\n",
    "- In the Neural Network model we tune the number of hidden layers"
   ]
  },
  {
   "cell_type": "code",
   "execution_count": 294,
   "metadata": {},
   "outputs": [],
   "source": [
    "hidden_layer_sizes_list = np.linspace(1, 10, num=5).astype(int)\n",
    "f1_score_list_q = np.zeros((len(hidden_layer_sizes_list),1))\n",
    "f1_score_list_b = np.zeros((len(hidden_layer_sizes_list),1))\n",
    "RI_Rating_threshold_q = Ranking_ingredients_quantity.copy()\n",
    "RI_Rating_threshold_b = Ranking_ingredients_binary.copy()\n",
    "Ranking = 4.5\n",
    "\n",
    "for idx_hidden_layer in range(len(hidden_layer_sizes_list)):\n",
    "    hls_i = hidden_layer_sizes_list[idx_hidden_layer]\n",
    "    \n",
    "    #Determine if the recipe is good or not by putting 0 or 1 in the Ranking column\n",
    "    RI_Rating_threshold_q['Ranking'] = Ranking_ingredients_quantity['Ranking'].apply(lambda x:Ranking_function_unique(Ranking,x))\n",
    "    RI_Rating_threshold_b['Ranking'] = Ranking_ingredients_binary['Ranking'].apply(lambda x:Ranking_function_unique(Ranking,x))\n",
    "    \n",
    "    #Split the dataset in train and test\n",
    "    x_train_q, x_test_q,y_train_q, y_test_q = train_test_split(RI_Rating_threshold_q\\\n",
    "                    .drop(['Ranking'], axis = 1), RI_Rating_threshold_q['Ranking'], test_size=0.30)\n",
    "    x_train_b, x_test_b,y_train_b, y_test_b = train_test_split(RI_Rating_threshold_b\\\n",
    "                    .drop(['Ranking'], axis = 1), RI_Rating_threshold_b['Ranking'], test_size=0.30)\n",
    "    \n",
    "    #create the model \n",
    "    mlp_q = MLPClassifier(hidden_layer_sizes=(hls_i,hls_i,hls_i), max_iter=1000)\n",
    "    mlp_q.fit(x_train_q, y_train_q)\n",
    "    mlp_b = MLPClassifier(hidden_layer_sizes=(hls_i,hls_i,hls_i), max_iter=1000)\n",
    "    mlp_b.fit(x_train_b, y_train_b)\n",
    "\n",
    "    #predict the output\n",
    "    y_pred_q = mlp_q.predict(x_test_q)\n",
    "    y_pred_b = mlp_b.predict(x_test_b)\n",
    "\n",
    "    #test the model on the test set\n",
    "    f1_score_list_q[idx_hidden_layer] = f1_score(y_test_q, y_pred_q, average='macro')\n",
    "    f1_score_list_b[idx_hidden_layer] = f1_score(y_test_b, y_pred_b, average='macro')"
   ]
  },
  {
   "cell_type": "markdown",
   "metadata": {},
   "source": [
    "#### Visualization of the F1-score depending on number of hidden layers"
   ]
  },
  {
   "cell_type": "code",
   "execution_count": 295,
   "metadata": {},
   "outputs": [
    {
     "data": {
      "image/png": "[encoded data removed]",
      "text/plain": [
       "<Figure size 432x288 with 2 Axes>"
      ]
     },
     "metadata": {
      "needs_background": "light"
     },
     "output_type": "display_data"
    }
   ],
   "source": [
    "fig, ax = plt.subplots(1, 2)\n",
    "#fig.suptitle('Cross-validation error as a function of alpha')\n",
    "ax[0].plot(hidden_layer_sizes_list, f1_score_list_q)\n",
    "ax[0].set_title('F1 score for neural network \\n quantity dataframe')\n",
    "ax[0].set_xlabel('Number of hidden layer sizes')\n",
    "ax[0].set_ylabel('F1 score')\n",
    "ax[1].plot(hidden_layer_sizes_list, f1_score_list_b)\n",
    "ax[1].set_title('F1 score for neural network \\n binary dataframe')\n",
    "ax[1].set_xlabel('Number of hidden layer sizes')\n",
    "ax[1].set_ylabel('F1 score')\n",
    "plt.tight_layout()\n",
    "plt.show()"
   ]
  },
  {
   "cell_type": "markdown",
   "metadata": {},
   "source": [
    "#### Retrain the model with the number of hidden layers that gives the highest F1-score to plot the confusion matrix"
   ]
  },
  {
   "cell_type": "code",
   "execution_count": 296,
   "metadata": {},
   "outputs": [
    {
     "name": "stdout",
     "output_type": "stream",
     "text": [
      "For the quantity Dataframe the f1-score using neural network is: 0.5698242947267496 with a hidden layer sizes: 5 and a confusion matrix (plot below):\n"
     ]
    },
    {
     "data": {
      "image/png": "[encoded data removed]",
      "text/plain": [
       "<Figure size 432x288 with 1 Axes>"
      ]
     },
     "metadata": {
      "needs_background": "light"
     },
     "output_type": "display_data"
    },
    {
     "name": "stdout",
     "output_type": "stream",
     "text": [
      "For the binary Dataframe the f1-score using neural network is: 0.5690772354226585 with a hidden layer sizes: 3 and a confusion matrix (plot below):\n"
     ]
    },
    {
     "data": {
      "image/png": "[encoded data removed]",
      "text/plain": [
       "<Figure size 432x288 with 1 Axes>"
      ]
     },
     "metadata": {
      "needs_background": "light"
     },
     "output_type": "display_data"
    }
   ],
   "source": [
    "#Determine the index of the highest f1 measure\n",
    "index_argmax_q = np.argmax(f1_score_list_q)\n",
    "index_argmax_b = np.argmax(f1_score_list_b)\n",
    "\n",
    "hls_q = hidden_layer_sizes_list[index_argmax_q]\n",
    "hls_b = hidden_layer_sizes_list[index_argmax_b]\n",
    "\n",
    "#Determine if the recipe is good or not by putting 0 or 1 in the Ranking column\n",
    "RI_Rating_threshold_q['Ranking'] = Ranking_ingredients_quantity['Ranking'].apply(lambda x:Ranking_function_unique(Ranking,x))\n",
    "RI_Rating_threshold_b['Ranking'] = Ranking_ingredients_binary['Ranking'].apply(lambda x:Ranking_function_unique(Ranking,x))\n",
    "\n",
    "#Split the dataset in train and test\n",
    "x_train_q, x_test_q,y_train_q, y_test_q = train_test_split(RI_Rating_threshold_q\\\n",
    "                .drop(['Ranking'], axis = 1), RI_Rating_threshold_q['Ranking'], test_size=0.30)\n",
    "x_train_b, x_test_b,y_train_b, y_test_b = train_test_split(RI_Rating_threshold_b\\\n",
    "                .drop(['Ranking'], axis = 1), RI_Rating_threshold_b['Ranking'], test_size=0.30)\n",
    "\n",
    "#create the model \n",
    "mlp_q = MLPClassifier(hidden_layer_sizes=(hls_q,hls_q,hls_q), max_iter=1000)\n",
    "mlp_q.fit(x_train_q, y_train_q)\n",
    "mlp_b = MLPClassifier(hidden_layer_sizes=(hls_q,hls_q,hls_q), max_iter=1000)\n",
    "mlp_b.fit(x_train_b, y_train_b)\n",
    "\n",
    "#predict the output\n",
    "y_pred_q = mlp_q.predict(x_test_q)\n",
    "y_pred_b = mlp_b.predict(x_test_b)\n",
    "\n",
    "#test the model on the test set to determine f1\n",
    "f1_score_list_optimized_q = f1_score(y_test_q, y_pred_q, average='macro')\n",
    "f1_score_list_optimized_b = f1_score(y_test_b, y_pred_b, average='macro')\n",
    "\n",
    "#Determine the confusion matrix\n",
    "confusion_matrix_q = confusion_matrix(y_test_q, y_pred_q)\n",
    "confusion_matrix_b = confusion_matrix(y_test_b, y_pred_b)\n",
    "\n",
    "\n",
    "#Print our result\n",
    "\n",
    "#For the quantity Dataframe\n",
    "print('For the quantity Dataframe the f1-score using neural network is:',f1_score_list_optimized_q,'with a hidden layer sizes:',hls_q,'and a confusion matrix (plot below):')\n",
    "#To print in a nice way the confusion matrix \n",
    "fig, ax = plot_confusion_matrix(conf_mat=confusion_matrix_q)\n",
    "plt.show()\n",
    "\n",
    "#For the quantity Dataframe\n",
    "print('For the binary Dataframe the f1-score using neural network is:',f1_score_list_optimized_b,'with a hidden layer sizes:',hls_b,'and a confusion matrix (plot below):')\n",
    "#To print in a nice way the confusion matrix \n",
    "fig, ax = plot_confusion_matrix(conf_mat=confusion_matrix_b)\n",
    "plt.show()"
   ]
  },
  {
   "cell_type": "markdown",
   "metadata": {},
   "source": [
    "### Combination of 3 machine learning models together to determine the output\n",
    "- Try to implement the 3 models together to get the highest F1-score\n",
    "- We take the optimized parameters for each models and combine them. \n",
    "- The three models provide an output for a good or bad recipe, and we take the majority of the three."
   ]
  },
  {
   "cell_type": "code",
   "execution_count": 297,
   "metadata": {},
   "outputs": [
    {
     "name": "stdout",
     "output_type": "stream",
     "text": [
      "For the quantity Dataframe the f1-score using 3 methods is: 0.5688710528602903 with optimized parameters of all models and a confusion matrix (plot below):\n"
     ]
    },
    {
     "data": {
      "image/png": "[encoded data removed]",
      "text/plain": [
       "<Figure size 432x288 with 1 Axes>"
      ]
     },
     "metadata": {
      "needs_background": "light"
     },
     "output_type": "display_data"
    },
    {
     "name": "stdout",
     "output_type": "stream",
     "text": [
      "For the binary Dataframe the f1-score using neural network is: 0.5665599358220286 with optimized parameters of all models and a confusion matrix (plot below):\n"
     ]
    },
    {
     "data": {
      "image/png": "[encoded data removed]",
      "text/plain": [
       "<Figure size 432x288 with 1 Axes>"
      ]
     },
     "metadata": {
      "needs_background": "light"
     },
     "output_type": "display_data"
    }
   ],
   "source": [
    "#Determine if the recipe is good or not by putting 0 or 1 in the Ranking column\n",
    "RI_Rating_threshold_q['Ranking'] = Ranking_ingredients_quantity['Ranking'].apply(lambda x:Ranking_function_unique(Ranking,x))\n",
    "RI_Rating_threshold_b['Ranking'] = Ranking_ingredients_binary['Ranking'].apply(lambda x:Ranking_function_unique(Ranking,x))\n",
    "\n",
    "#Split the dataset in train and test\n",
    "x_train_q, x_test_q,y_train_q, y_test_q = train_test_split(RI_Rating_threshold_q\\\n",
    "                .drop(['Ranking'], axis = 1), RI_Rating_threshold_q['Ranking'], test_size=0.30)\n",
    "x_train_b, x_test_b,y_train_b, y_test_b = train_test_split(RI_Rating_threshold_b\\\n",
    "                .drop(['Ranking'], axis = 1), RI_Rating_threshold_b['Ranking'], test_size=0.30)\n",
    "\n",
    "\n",
    "\n",
    "#create the model using KNN\n",
    "KNN_q = KNeighborsClassifier(n_neighbors = n_neighbors_q)\n",
    "KNN_q.fit(x_train_q, y_train_q)\n",
    "KNN_b = KNeighborsClassifier(n_neighbors = n_neighbors_b)\n",
    "KNN_b.fit(x_train_b, y_train_b)\n",
    "\n",
    "#predict the output\n",
    "y_pred_KNN_q = KNN_q.predict(x_test_q)\n",
    "y_pred_KNN_b = KNN_b.predict(x_test_b)\n",
    "\n",
    "\n",
    "\n",
    "#create the model using neural networ\n",
    "mlp_q = MLPClassifier(hidden_layer_sizes=(hls_q,hls_q,hls_q), max_iter=1000)\n",
    "mlp_q.fit(x_train_q, y_train_q)\n",
    "mlp_b = MLPClassifier(hidden_layer_sizes=(hls_q,hls_q,hls_q), max_iter=1000)\n",
    "mlp_b.fit(x_train_b, y_train_b)\n",
    "\n",
    "#predict the output\n",
    "y_pred_mlp_q = mlp_q.predict(x_test_q)\n",
    "y_pred_mlp_b = mlp_b.predict(x_test_b)\n",
    "\n",
    "\n",
    "#create the model using Random forest\n",
    "RF_q = RandomForestRegressor(max_depth=max_depth_q,random_state=0)\n",
    "RF_q.fit(x_train_q, y_train_q)\n",
    "RF_b = RandomForestRegressor(max_depth=max_depth_b,random_state=0)\n",
    "RF_b.fit(x_train_b, y_train_b)\n",
    "\n",
    "#predict the output\n",
    "y_pred_RF_q = RF_q.predict(x_test_q)\n",
    "y_pred_RF_b = RF_b.predict(x_test_b)\n",
    "\n",
    "\n",
    "#We take the mean of our output to determine if it is 1 or 0\n",
    "y_pred_q = y_pred_RF_q + y_pred_mlp_q + y_pred_KNN_q\n",
    "y_pred_b = y_pred_RF_b + y_pred_mlp_b + y_pred_KNN_b\n",
    "    \n",
    "y_pred_q = pd.Series(y_pred_q) \n",
    "y_pred_b = pd.Series(y_pred_b) \n",
    "\n",
    "y_pred_q = y_pred_q.apply(lambda x:1 if x>1.5 else 0)\n",
    "y_pred_b = y_pred_b.apply(lambda x:1 if x>1.5 else 0)\n",
    "\n",
    "\n",
    "\n",
    "#test the model on the test set to determine f1\n",
    "f1_score_list_optimized_q = f1_score(y_test_q, y_pred_q, average='macro')\n",
    "f1_score_list_optimized_b = f1_score(y_test_b, y_pred_b, average='macro')\n",
    "\n",
    "#Determine the confusion matrix\n",
    "confusion_matrix_q = confusion_matrix(y_test_q, y_pred_q)\n",
    "confusion_matrix_b = confusion_matrix(y_test_b, y_pred_b)\n",
    "\n",
    "\n",
    "#Print our result\n",
    "\n",
    "#For the quantity Dataframe\n",
    "print('For the quantity Dataframe the f1-score using 3 methods is:',f1_score_list_optimized_q,'with optimized parameters of all models and a confusion matrix (plot below):')\n",
    "#To print in a nice way the confusion matrix \n",
    "fig, ax = plot_confusion_matrix(conf_mat=confusion_matrix_q)\n",
    "plt.show()\n",
    "\n",
    "#For the quantity Dataframe\n",
    "print('For the binary Dataframe the f1-score using neural network is:',f1_score_list_optimized_b,'with optimized parameters of all models and a confusion matrix (plot below):')\n",
    "#To print in a nice way the confusion matrix \n",
    "fig, ax = plot_confusion_matrix(conf_mat=confusion_matrix_b)\n",
    "plt.show()"
   ]
  },
  {
   "cell_type": "markdown",
   "metadata": {},
   "source": [
    "# Graph of the percentage in the best and worst recipes\n",
    "For the sake of comparison, we'll plot the biggest differences of the mean percentage of the ingredients that were the most frequent among the best recipes and the ones of the worst recipes."
   ]
  },
  {
   "cell_type": "code",
   "execution_count": 302,
   "metadata": {},
   "outputs": [
    {
     "data": {
      "image/png": "[encoded data removed]",
      "text/plain": [
       "<Figure size 432x288 with 1 Axes>"
      ]
     },
     "metadata": {
      "needs_background": "light"
     },
     "output_type": "display_data"
    }
   ],
   "source": [
    "sortedRecipe = Ranking_ingredients_quantity.sort_values(by='Ranking',ascending=False).copy()\n",
    "numRecipeTaken=100\n",
    "best_recipe = sortedRecipe[0:numRecipeTaken]\n",
    "worst_recipe = sortedRecipe[len(sortedRecipe)-numRecipeTaken:len(sortedRecipe)]\n",
    "\n",
    "#sum every row \n",
    "averageQuantBest =  best_recipe[best_recipe.columns[2:-1]].mean()\n",
    "averageQuantworst =  worst_recipe[worst_recipe.columns[2:-1]].mean()\n",
    "difference = np.abs(averageQuantBest-averageQuantworst)\n",
    "\n",
    "#The heishest for averageQuantBest\n",
    "difference = difference.sort_values(ascending=False).copy()\n",
    "\n",
    "#Take only the 5 best of Best\n",
    "averageQuantBest = averageQuantBest[difference.index[0:5]]\n",
    "averageQuantworst = averageQuantworst[averageQuantBest.index]\n",
    "# set width of bar\n",
    "barWidth = 0.25\n",
    " \n",
    "# set height of bar\n",
    "bars1 = [12, 30, 1, 8, 22]\n",
    "bars2 = [28, 6, 16, 5, 10]\n",
    "bars3 = [29, 3, 24, 25, 17]\n",
    " \n",
    "# Set position of bar on X axis\n",
    "r1 = np.arange(len(averageQuantBest))\n",
    "r2 = [x + barWidth for x in r1]\n",
    "r3 = [x + barWidth for x in r2]\n",
    " \n",
    "# Make the plot\n",
    "plt.bar(r1, averageQuantBest.values, color='#557f2d', width=barWidth, edgecolor='white', label='100 best')\n",
    "plt.bar(r2, averageQuantworst.values, color='#7f6d5f', width=barWidth, edgecolor='white', label='100 worst')\n",
    " #7f6d5f\n",
    "# Add xticks on the middle of the group bars\n",
    "plt.xlabel('Ingredient', fontweight='bold')\n",
    "plt.xticks([r + barWidth for r in range(len(averageQuantBest))], averageQuantBest.index.values.tolist())\n",
    "plt.ylabel('The mean percentage in recipe')\n",
    "# Create legend & Show graphic\n",
    "plt.legend()\n",
    "plt.show()"
   ]
  },
  {
   "cell_type": "code",
   "execution_count": null,
   "metadata": {},
   "outputs": [],
   "source": []
  }
 ],
 "metadata": {
  "kernelspec": {
   "display_name": "Python 3",
   "language": "python",
   "name": "python3"
  },
  "language_info": {
   "codemirror_mode": {
    "name": "ipython",
    "version": 3
   },
   "file_extension": ".py",
   "mimetype": "text/x-python",
   "name": "python",
   "nbconvert_exporter": "python",
   "pygments_lexer": "ipython3",
   "version": "3.7.5"
  }
 },
 "nbformat": 4,
 "nbformat_minor": 4
}
