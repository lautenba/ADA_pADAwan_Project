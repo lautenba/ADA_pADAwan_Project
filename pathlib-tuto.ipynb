{
 "cells": [
  {
   "cell_type": "markdown",
   "metadata": {},
   "source": [
    "# 1. Basic imports\n",
    "Pathlib everything related to managing path\n",
    "Shutil easy way to move and copy files"
   ]
  },
  {
   "cell_type": "code",
   "execution_count": 1,
   "metadata": {},
   "outputs": [],
   "source": [
    "from pathlib import Path\n",
    "import shutil"
   ]
  },
  {
   "cell_type": "markdown",
   "metadata": {},
   "source": [
    "Create a path with the Path object:\n",
    "pathname= \"SortedFiles\n",
    "path = Path(pathname)"
   ]
  },
  {
   "cell_type": "markdown",
   "metadata": {},
   "source": [
    "Create a folder and a file and write sth in it :"
   ]
  },
  {
   "cell_type": "code",
   "execution_count": 3,
   "metadata": {},
   "outputs": [],
   "source": [
    "p = Path(\"test/\")\n",
    "p.mkdir(parents=True, exist_ok=True)\n",
    "\n",
    "filetest = \"file666.txt\"\n",
    "destinationFile = p / filetest\n",
    "with destinationFile.open(\"w\") as fid:\n",
    "    fid.write(\"lol text\")"
   ]
  },
  {
   "cell_type": "markdown",
   "metadata": {},
   "source": [
    "Add some text in it (i.e. append) :"
   ]
  },
  {
   "cell_type": "code",
   "execution_count": 5,
   "metadata": {},
   "outputs": [],
   "source": [
    "with destinationFile.open(\"a\") as fid:\n",
    "    fid.write(\"\\nADA\")"
   ]
  },
  {
   "cell_type": "markdown",
   "metadata": {},
   "source": [
    "Copy/move a file from one folder to another"
   ]
  },
  {
   "cell_type": "code",
   "execution_count": 8,
   "metadata": {},
   "outputs": [
    {
     "data": {
      "text/plain": [
       "'test2\\\\file666.txt'"
      ]
     },
     "execution_count": 8,
     "metadata": {},
     "output_type": "execute_result"
    }
   ],
   "source": [
    "p2 = Path(\"test2/\")\n",
    "p2.mkdir(parents=True, exist_ok=True)\n",
    "\n",
    "#filename = \"0000758edcc24c88341ca0cd779f69b0.html\"\n",
    "# path of the source file\n",
    "sourceRec = Path(\"test\") / filetest\n",
    "# destionation folder\n",
    "destRec = p2\n",
    "# Copy\n",
    "#shutil.copy(str(sourceRec), str(destRec))\n",
    "# Move\n",
    "shutil.move(str(sourceRec),str(destRec))"
   ]
  },
  {
   "cell_type": "code",
   "execution_count": null,
   "metadata": {},
   "outputs": [],
   "source": [
    "Remove the file:"
   ]
  },
  {
   "cell_type": "code",
   "execution_count": 21,
   "metadata": {},
   "outputs": [],
   "source": [
    "destinationFile.unlink()"
   ]
  },
  {
   "cell_type": "code",
   "execution_count": null,
   "metadata": {},
   "outputs": [],
   "source": [
    "Remove the folder and the content :"
   ]
  },
  {
   "cell_type": "code",
   "execution_count": 22,
   "metadata": {},
   "outputs": [],
   "source": [
    "shutil.rmtree(p)"
   ]
  },
  {
   "cell_type": "markdown",
   "metadata": {},
   "source": [
    "## Small example with 10 website files"
   ]
  },
  {
   "cell_type": "code",
   "execution_count": null,
   "metadata": {},
   "outputs": [],
   "source": [
    "# Read and return the website from the page"
   ]
  },
  {
   "cell_type": "code",
   "execution_count": 51,
   "metadata": {},
   "outputs": [
    {
     "name": "stdout",
     "output_type": "stream",
     "text": [
      "website allrecipes.com\n",
      "allrecipes.com\n"
     ]
    }
   ],
   "source": [
    "filename = \"recipePages/000a3333ad24828769b6be5a5e1bdb4a.html\"\n",
    "def read_website(filename):\n",
    "#     my_dir = \"recipePages/\"\n",
    "#     my_file = my_dir + filename\n",
    "    my_file = filename\n",
    "# CTRL + /\n",
    "#     f = open(my_file, \"r\")\n",
    "#     first_line = f.readlines()[0]#.split(\"/\")[1]\n",
    "#     # retrieve the website in order to \n",
    "#     print(first_line.split(\"/\")[2])\n",
    "#     print(first_line)\n",
    "#     f.close()\n",
    "#### Not sure about the errors parameter :/\n",
    "    with open(my_file, \"r\", encoding=\"utf-8\", errors=\"ignore\") as f: # no close() needed\n",
    "        first_line = f.readlines()[0]#.split(\"/\")[1]\n",
    "        # remove www. as same website may have http://allrecipes and http://www.allrecipes\n",
    "        website = str(first_line).split(\"/\")[2].strip(\"www.\")\n",
    "        print(\"website\", website)\n",
    "        return website\n",
    "print(read_website(filename))"
   ]
  },
  {
   "cell_type": "code",
   "execution_count": 50,
   "metadata": {},
   "outputs": [
    {
     "name": "stdout",
     "output_type": "stream",
     "text": [
      "website tasteofhome.com\n",
      "recipePages\\0000758edcc24c88341ca0cd779f69b0.html\n",
      "website foodnetwork.com\n",
      "recipePages\\000255456bafed9c5783bff87cc0b27c.html\n",
      "website cooks.com\n",
      "recipePages\\00028f799d135e9a268479ab93705d30.html\n",
      "website foodnetwork.com\n",
      "recipePages\\0002ef88c5af2e0de95dc5e08e0330f7.html\n",
      "website food.com\n",
      "recipePages\\0003337e9b486449ab73322bba12ab28.html\n",
      "website myrecipes.com\n",
      "recipePages\\00038ace01e91d22b43d0a77af8b8a03.html\n",
      "website thatsmyhome.com\n",
      "recipePages\\0003c1d9700ad95eeecc0c5350708ac5.html\n",
      "website recipes.sparkpeople.com\n",
      "recipePages\\0004c44d7622a78081ff1f5a008f56ba.html\n",
      "website yummly.com\n",
      "recipePages\\0004f0854e5f134bd3480a3ca9d39295.html\n",
      "website delish.com\n",
      "recipePages\\00052e91be0be43f197e0992e474978e.html\n",
      "website ifood.tv\n",
      "recipePages\\00058e18fa466ba2d9c401ebfd557876.html\n"
     ]
    }
   ],
   "source": [
    "# Get all filenames (i.e. path) that are in recipePages folder with .html as extension\n",
    "pathlist = Path(\"recipePages/\").glob('**/*.html')\n",
    "# Create the folder of the sorted files by website\n",
    "p = Path(\"SortedFiles/\")\n",
    "p.mkdir(parents=True, exist_ok=True)\n",
    "i = 0\n",
    "for path in pathlist:\n",
    "     # because path is object not string\n",
    "    path_in_str = str(path)\n",
    "    website = read_website(path_in_str)\n",
    "    # create the \n",
    "    destination = p / website \n",
    "    if not destination.exists():\n",
    "        destination.mkdir(parents=True, exist_ok=True)\n",
    "    \n",
    "    destinationFile = destination / \"file666.txt\"\n",
    "    with destinationFile.open(\"a\") as fid:\n",
    "        print(path)\n",
    "        fid.write(path_in_str + \"\\n\")\n",
    "\n",
    "    if i == 10:\n",
    "        break\n",
    "    i+=1"
   ]
  },
  {
   "cell_type": "code",
   "execution_count": null,
   "metadata": {},
   "outputs": [],
   "source": []
  },
  {
   "cell_type": "code",
   "execution_count": null,
   "metadata": {},
   "outputs": [],
   "source": []
  }
 ],
 "metadata": {
  "kernelspec": {
   "display_name": "Python 3",
   "language": "python",
   "name": "python3"
  },
  "language_info": {
   "codemirror_mode": {
    "name": "ipython",
    "version": 3
   },
   "file_extension": ".py",
   "mimetype": "text/x-python",
   "name": "python",
   "nbconvert_exporter": "python",
   "pygments_lexer": "ipython3",
   "version": "3.7.4"
  }
 },
 "nbformat": 4,
 "nbformat_minor": 4
}
